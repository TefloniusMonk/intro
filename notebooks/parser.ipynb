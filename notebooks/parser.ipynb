{
 "cells": [
  {
   "cell_type": "markdown",
   "metadata": {
    "collapsed": true
   },
   "source": [
    "# Kinopoisk film parser"
   ]
  },
  {
   "cell_type": "code",
   "execution_count": 1,
   "metadata": {},
   "outputs": [],
   "source": [
    "import pandas as pd\n",
    "import seaborn as sns\n",
    "import numpy as np\n",
    "import matplotlib.pyplot as plt\n",
    "import requests    \n",
    "from fake_useragent import UserAgent\n",
    "from bs4 import BeautifulSoup\n",
    "from tqdm import tqdm_notebook\n",
    "from random import randrange\n",
    "import time \n",
    "import socks\n",
    "import socket\n",
    "import resource\n",
    "import sys\n",
    "import re\n",
    "import pickle\n",
    "import itertools\n",
    "\n",
    "\n",
    "import warnings\n",
    "warnings.filterwarnings('ignore')\n"
   ]
  },
  {
   "cell_type": "code",
   "execution_count": 2,
   "metadata": {},
   "outputs": [],
   "source": [
    "base_url = \"http://kinopoisk.ru/top/navigator/m_act[ecountry]/20/m_act[rating]/1%3A/\" \n",
    "# for search should be at least one filter, this one exludes Algeria and search all films with rating from 1 to 10\n",
    "order_by = {\"kinopoisk\": \"/order/rating\", \"imdb\":\"/order/ex_rating\", \"year\":\"/order/year\"}"
   ]
  },
  {
   "cell_type": "code",
   "execution_count": 3,
   "metadata": {},
   "outputs": [],
   "source": [
    "def get_link(order = \"imdb\", page = 1):\n",
    "    return base_url + order_by[order] + \"/page/{}/#results\".format(page)"
   ]
  },
  {
   "cell_type": "markdown",
   "metadata": {},
   "source": [
    "### Изменим порт, чтобы ip менялся (каждую секунду)"
   ]
  },
  {
   "cell_type": "code",
   "execution_count": null,
   "metadata": {},
   "outputs": [],
   "source": [
    "socks.set_default_proxy(socks.SOCKS5, \"localhost\", 9150)\n",
    "socket.socket = socks.socksocket"
   ]
  },
  {
   "cell_type": "code",
   "execution_count": 4,
   "metadata": {},
   "outputs": [],
   "source": [
    "def get_soup(link, agent = UserAgent().firefox, verbose=False):\n",
    "    if verbose:\n",
    "        print(\"Sending request: \", link)\n",
    "    response = requests.get(link, headers={'User-Agent': agent})\n",
    "    if not response.ok:\n",
    "        return []\n",
    "    html = response.content\n",
    "    soup = BeautifulSoup(html, 'html.parser')\n",
    "    return soup"
   ]
  },
  {
   "cell_type": "markdown",
   "metadata": {},
   "source": [
    "### Соберем страницы с фильмами"
   ]
  },
  {
   "cell_type": "code",
   "execution_count": null,
   "metadata": {},
   "outputs": [],
   "source": [
    "soups = []\n",
    "page_count = 510\n",
    "block_count = 0\n",
    "for i in tqdm_notebook(range(page_count)):\n",
    "    time.sleep(randrange(5))\n",
    "    soup = get_soup(get_link(page=i), agent = UserAgent().random)\n",
    "    if 'captcha' in str(soup):\n",
    "        for j in range(3):\n",
    "            time.sleep(randrange(7))\n",
    "            soup = get_soup(get_link(page=i), agent = UserAgent().random)\n",
    "    if 'captcha' in str(soup):\n",
    "        block_count = block_count + 1\n",
    "        soup = None\n",
    "        print(\"All request was blocked for page: \", i)\n",
    "        time.sleep(20)\n",
    "    soups.append(soup)"
   ]
  },
  {
   "cell_type": "code",
   "execution_count": null,
   "metadata": {},
   "outputs": [],
   "source": [
    "print (sys.getrecursionlimit())\n",
    "sys.setrecursionlimit(50000)"
   ]
  },
  {
   "cell_type": "code",
   "execution_count": null,
   "metadata": {},
   "outputs": [],
   "source": [
    "file_path = 'file_path'\n",
    "\n",
    "with open(file_path, 'wb') as f:\n",
    "    pickle.dump(soups, f)"
   ]
  },
  {
   "cell_type": "code",
   "execution_count": null,
   "metadata": {},
   "outputs": [],
   "source": [
    "filtered = [x for x in soups if x is not None]\n",
    "len(filtered)"
   ]
  },
  {
   "cell_type": "markdown",
   "metadata": {},
   "source": [
    "### Мы собрали информацию примерно 80% страниц фильмов, думаю должно быть достаточно. Теперь надо вытащить идентификаторы фильмов."
   ]
  },
  {
   "cell_type": "code",
   "execution_count": null,
   "metadata": {},
   "outputs": [],
   "source": [
    "film_ids = []\n",
    "for soup in soups:\n",
    "    if soup is None:\n",
    "        continue \n",
    "    divs = soup.find_all('div', attrs={'class': \"name\"})\n",
    "    for div in divs:\n",
    "        film_ids.append(re.search('.*/film/(.*)/',div.a['href']).group(1))\n",
    "        \n",
    "film_ids[0:10:1][0]"
   ]
  },
  {
   "cell_type": "code",
   "execution_count": null,
   "metadata": {},
   "outputs": [],
   "source": [
    "def get_film_link(id):\n",
    "    return 'http://kinopoisk.ru/film/{}'.format(id)"
   ]
  },
  {
   "cell_type": "code",
   "execution_count": null,
   "metadata": {},
   "outputs": [],
   "source": [
    "file_path = '/file_path'\n",
    "\n",
    "with open(file_path, 'rb') as f:\n",
    "    film_ids = pickle.load(f)"
   ]
  },
  {
   "cell_type": "code",
   "execution_count": null,
   "metadata": {},
   "outputs": [],
   "source": [
    "get_soup(get_film_link(film_ids[0]), agent = UserAgent().random)"
   ]
  },
  {
   "cell_type": "code",
   "execution_count": null,
   "metadata": {},
   "outputs": [],
   "source": [
    "def save_films(films, num_of_iter):\n",
    "    file_path = 'file_path/models/filmsoups{}.pickle'.format(num_of_iter)\n",
    "    with open(file_path, \"wb\") as f:\n",
    "        pickle.dump(films, f)"
   ]
  },
  {
   "cell_type": "markdown",
   "metadata": {},
   "source": [
    "### Запустим парсер и периодически будем снимать дамп с загруженными страницами"
   ]
  },
  {
   "cell_type": "code",
   "execution_count": null,
   "metadata": {},
   "outputs": [],
   "source": [
    "film_soups = []\n",
    "not_received = []\n",
    "count = itertools.count(0)\n",
    "dump_start = 0\n",
    "dump_freq = 500\n",
    "\n",
    "for film_id in tqdm_notebook(film_ids):\n",
    "    try:\n",
    "        time.sleep(1)\n",
    "        film_soup = get_soup(get_film_link(film_id), agent = UserAgent().random)\n",
    "        film_soups.append(film_soup)\n",
    "        current_iter = next(count)\n",
    "        if  current_iter % dump_freq == 0:\n",
    "            print(\"Saving pack of films with number: {}\", current_iter // dump_freq)\n",
    "            save_films(film_soups[dump_start:dump_start + dump_freq], current_iter // dump_freq)\n",
    "    except:\n",
    "        print(\"Ooops!\")"
   ]
  },
  {
   "cell_type": "code",
   "execution_count": null,
   "metadata": {},
   "outputs": [],
   "source": [
    "films = len([x for x in film_soups if 'captcha' not in str(x)])"
   ]
  },
  {
   "cell_type": "code",
   "execution_count": null,
   "metadata": {},
   "outputs": [],
   "source": [
    "films = []\n",
    "for i in tqdm_notebook(range(32)):\n",
    "    films.extend(film for film in get_films(i) if 'captcha' not in str(film))\n",
    "films = len([x for x in film_soups if 'captcha' not in str(x)])"
   ]
  },
  {
   "cell_type": "markdown",
   "metadata": {},
   "source": [
    "### Спустя два дня фильмы собраны, теперь пройдемся по всем файлам дампа, отфильтруем файлы с капчей и распарсим нужные поля (С капчей оказалось окло 70% страниц)"
   ]
  },
  {
   "cell_type": "code",
   "execution_count": null,
   "metadata": {},
   "outputs": [],
   "source": [
    "def find_basic_info(soup, text, attr_name, film):\n",
    "    tmp = soup.find('div',text=text)\n",
    "    if tmp is not None:\n",
    "        tmp = tmp.parent.select_one('div:nth-child(2n) a')\n",
    "        if tmp is not None:\n",
    "            film[attr_name] = tmp.text.replace(u'\\xa0', u'')\n",
    "\n",
    "def parse(soup):\n",
    "    film = {}\n",
    "    film_id = soup.select_one(\"meta[property='og:url']\")\n",
    "    if film_id is not None:\n",
    "        film_id = re.search('.*/film/(.*)/',film_id['content'])\n",
    "        if film_id is not None:\n",
    "            film['id'] = int(film_id.group(1))\n",
    "    \n",
    "    name = soup.select_one('h1', attrs={'class*':'styles_title'})\n",
    "    if name is not None:\n",
    "        film['ru_name'] = name.span.text\n",
    "        \n",
    "    origin_name = soup.select_one(\"span[class*='styles_originalTitle']\")\n",
    "    if origin_name is not None:\n",
    "        film['origin_name'] = origin_name.text\n",
    "        \n",
    "    basic_info_div = soup.select_one(\"div[class*='basicInfo']\")\n",
    "    basic_info_tuples = [(\"Год производства\", 'make_year'), (\"Страна\", \"country\"), (\"Жанр\", 'genres'),\n",
    "                        ('Слоган', 'Tagline'), ('Режиссер','director'), ('Сценарий', 'scriptwriter'),\n",
    "                        ('Продюсер','producer'), ('Оператор','operator'), ('Композитор','music'),\n",
    "                        ('Художник','artist'), ('Монтаж', 'edit'),('Бюджет','cost'), ('Маркетинг','marketing'),\n",
    "                        ('Сборы в США','usa_fees'), ('Сборы в мире','world_fees'), ('Премьера в Росcии','rus_premiere'),\n",
    "                        ('Премьера в мире','world_premiere'), ('Релиз на DVD', 'dvd_release')]\n",
    "    \n",
    "    if basic_info_div is not None:\n",
    "        for text, attr_name in basic_info_tuples:\n",
    "            find_basic_info(soup, text, attr_name, film)\n",
    "    \n",
    "    synopsis = soup.select_one(\"div[class*='styles_synopsis'] p \")\n",
    "    if synopsis is not None:\n",
    "        film['synopsis'] = synopsis.text\n",
    "    \n",
    "    kinopoisk_rating = soup.select_one('a.film-rating-value')\n",
    "    if kinopoisk_rating is not None:\n",
    "        film['kinopoisk_rating'] = kinopoisk_rating.text\n",
    "    \n",
    "    imdb_rating = soup.select_one(\"div.film-sub-rating > span[class*='value']\")\n",
    "    if imdb_rating is not None:\n",
    "         film['imdb_rating'] = imdb_rating.text\n",
    "            \n",
    "    actors = soup.select_one(\"div.film-crew-block\").select(\"div.film-crew-block > div > ul > li > a\")\n",
    "    if actors is not None and len(actors) != 0:\n",
    "        film['first_5_actors'] = \",\".join(actor_soup.text for actor_soup in actors[:5])\n",
    "    return film"
   ]
  },
  {
   "cell_type": "code",
   "execution_count": null,
   "metadata": {},
   "outputs": [],
   "source": [
    "def get_file_name(i):\n",
    "    return 'file_path/models/filmsoups{}.pickle'.format(i)\n",
    "\n",
    "def get_film_soups(num_of_file):\n",
    "    soups = []\n",
    "    all_soups = 0\n",
    "    try:\n",
    "        with open(get_file_name(num_of_file), \"rb\") as f:\n",
    "            soups = pickle.load(f)\n",
    "            all_soups = len(soups)\n",
    "    except FileNotFoundError:\n",
    "        print(\"File with i: {} not found\", num_of_file)\n",
    "    soups = [soup for soup in soups if 'captcha' not in str(soup)]\n",
    "    print(\"Filtered {} of {} soups as captcha blocked\".format((all_soups - len(soups)), all_soups))\n",
    "    return soups"
   ]
  },
  {
   "cell_type": "code",
   "execution_count": null,
   "metadata": {},
   "outputs": [],
   "source": [
    "# parsed_data = [] \n",
    "for i in tqdm_notebook(range(0, 32)):\n",
    "    for soup in get_film_soups(i):\n",
    "        try:\n",
    "            parsed_data.append(parse(soup))\n",
    "        except:\n",
    "            print(\"Some error\")"
   ]
  },
  {
   "cell_type": "code",
   "execution_count": null,
   "metadata": {
    "pycharm": {
     "name": "#%%\n"
    }
   },
   "outputs": [],
   "source": [
    "file_path = 'file_path'\n",
    "with open(file_path, \"wb\") as f:\n",
    "    pickle.dump(parsed_data, f)"
   ]
  },
  {
   "cell_type": "code",
   "execution_count": null,
   "metadata": {},
   "outputs": [],
   "source": [
    "file_path = '../models/parsed_films2.pickle'\n",
    "with open(file_path, \"rb\") as f:\n",
    "    parsed_data .extend( pickle.load(f))"
   ]
  },
  {
   "cell_type": "markdown",
   "metadata": {},
   "source": [
    "### Страницы собраны в словари, теперь очистим его, удалим дубликаты, приведем к нужным типам данных и т.д."
   ]
  },
  {
   "cell_type": "code",
   "execution_count": null,
   "metadata": {},
   "outputs": [],
   "source": [
    "df = pd.DataFrame(parsed_data).drop_duplicates()\n",
    "df"
   ]
  },
  {
   "cell_type": "code",
   "execution_count": 3,
   "metadata": {},
   "outputs": [],
   "source": [
    "csv_path = \"../csv/parsing/films.csv\"\n",
    "df.to_csv(csv_path)"
   ]
  },
  {
   "cell_type": "code",
   "execution_count": 4,
   "metadata": {},
   "outputs": [
    {
     "data": {
      "text/html": [
       "<div>\n",
       "<style scoped>\n",
       "    .dataframe tbody tr th:only-of-type {\n",
       "        vertical-align: middle;\n",
       "    }\n",
       "\n",
       "    .dataframe tbody tr th {\n",
       "        vertical-align: top;\n",
       "    }\n",
       "\n",
       "    .dataframe thead th {\n",
       "        text-align: right;\n",
       "    }\n",
       "</style>\n",
       "<table border=\"1\" class=\"dataframe\">\n",
       "  <thead>\n",
       "    <tr style=\"text-align: right;\">\n",
       "      <th></th>\n",
       "      <th>id</th>\n",
       "      <th>ru_name</th>\n",
       "      <th>origin_name</th>\n",
       "      <th>make_year</th>\n",
       "      <th>country</th>\n",
       "      <th>genres</th>\n",
       "      <th>director</th>\n",
       "      <th>scriptwriter</th>\n",
       "      <th>producer</th>\n",
       "      <th>operator</th>\n",
       "      <th>...</th>\n",
       "      <th>world_premiere</th>\n",
       "      <th>synopsis</th>\n",
       "      <th>kinopoisk_rating</th>\n",
       "      <th>imdb_rating</th>\n",
       "      <th>first_5_actors</th>\n",
       "      <th>cost</th>\n",
       "      <th>usa_fees</th>\n",
       "      <th>world_fees</th>\n",
       "      <th>rus_premiere</th>\n",
       "      <th>marketing</th>\n",
       "    </tr>\n",
       "  </thead>\n",
       "  <tbody>\n",
       "    <tr>\n",
       "      <th>0.0</th>\n",
       "      <td>7620.0</td>\n",
       "      <td>С феями шутки плохи</td>\n",
       "      <td>Photographing Fairies</td>\n",
       "      <td>1997</td>\n",
       "      <td>Великобритания</td>\n",
       "      <td>фэнтези</td>\n",
       "      <td>Ник Уиллинг</td>\n",
       "      <td>Крис Харральд</td>\n",
       "      <td>Микеле Камарда</td>\n",
       "      <td>Джон де Борман</td>\n",
       "      <td>...</td>\n",
       "      <td>1997-09-19</td>\n",
       "      <td>Фотограф Чарльз Касл тяжело переживает утрату ...</td>\n",
       "      <td>6.256</td>\n",
       "      <td>6.8</td>\n",
       "      <td>Тоби Стивенс,Эмили Вуф,Бен Кингсли,Фрэнсис Бар...</td>\n",
       "      <td>0.0</td>\n",
       "      <td>0.0</td>\n",
       "      <td>0.0</td>\n",
       "      <td>NaN</td>\n",
       "      <td>0.0</td>\n",
       "    </tr>\n",
       "    <tr>\n",
       "      <th>1.0</th>\n",
       "      <td>1035433.0</td>\n",
       "      <td>Скуби-Ду! На Диком Западе</td>\n",
       "      <td>Scooby-Doo! Shaggy's Showdown</td>\n",
       "      <td>2017</td>\n",
       "      <td>США</td>\n",
       "      <td>мультфильм</td>\n",
       "      <td>Мэтт Питерс</td>\n",
       "      <td>Кэнди Лангдэйл</td>\n",
       "      <td>Алан Барнетт</td>\n",
       "      <td>NaN</td>\n",
       "      <td>...</td>\n",
       "      <td>2017-02-14</td>\n",
       "      <td>Главные герои отправляются в уникальное место ...</td>\n",
       "      <td>6.264</td>\n",
       "      <td>6.8</td>\n",
       "      <td>Фрэнк Уэлкер,Грэй Гриффин,Мэттью Лиллард,Кейт ...</td>\n",
       "      <td>0.0</td>\n",
       "      <td>0.0</td>\n",
       "      <td>0.0</td>\n",
       "      <td>NaN</td>\n",
       "      <td>0.0</td>\n",
       "    </tr>\n",
       "    <tr>\n",
       "      <th>2.0</th>\n",
       "      <td>804697.0</td>\n",
       "      <td>Оно</td>\n",
       "      <td>It Follows</td>\n",
       "      <td>2014</td>\n",
       "      <td>США</td>\n",
       "      <td>ужасы</td>\n",
       "      <td>Дэвид Роберт Митчелл</td>\n",
       "      <td>Дэвид Роберт Митчелл</td>\n",
       "      <td>Дэвид Каплан</td>\n",
       "      <td>Майк Гиулакис</td>\n",
       "      <td>...</td>\n",
       "      <td>2014-05-17</td>\n",
       "      <td>После сексуальной связи 19-летнюю девушку по и...</td>\n",
       "      <td>6.219</td>\n",
       "      <td>6.8</td>\n",
       "      <td>Майка Монро,Кейр Гилкрист,Оливия Луккарди,Лили...</td>\n",
       "      <td>2000000.0</td>\n",
       "      <td>14674076.0</td>\n",
       "      <td>21729511.0</td>\n",
       "      <td>2015-06-25</td>\n",
       "      <td>0.0</td>\n",
       "    </tr>\n",
       "    <tr>\n",
       "      <th>3.0</th>\n",
       "      <td>95341.0</td>\n",
       "      <td>Салемские вампиры (ТВ)</td>\n",
       "      <td>Salem's Lot</td>\n",
       "      <td>1979</td>\n",
       "      <td>США</td>\n",
       "      <td>ужасы</td>\n",
       "      <td>Тоуб Хупер</td>\n",
       "      <td>Пол Монаш</td>\n",
       "      <td>Анна Коттл</td>\n",
       "      <td>Джулс Бреннер</td>\n",
       "      <td>...</td>\n",
       "      <td>1979-11-17</td>\n",
       "      <td>Бен Мейрс, успешный романист, возвращается дом...</td>\n",
       "      <td>6.199</td>\n",
       "      <td>6.8</td>\n",
       "      <td>Дэвид Соул,Джеймс Мейсон,Лэнс Кервин,Бонни Бед...</td>\n",
       "      <td>4000000.0</td>\n",
       "      <td>0.0</td>\n",
       "      <td>0.0</td>\n",
       "      <td>NaN</td>\n",
       "      <td>0.0</td>\n",
       "    </tr>\n",
       "    <tr>\n",
       "      <th>4.0</th>\n",
       "      <td>711424.0</td>\n",
       "      <td>Глория</td>\n",
       "      <td>Gloria</td>\n",
       "      <td>2013</td>\n",
       "      <td>Чили</td>\n",
       "      <td>драма</td>\n",
       "      <td>Себастьян Лелио</td>\n",
       "      <td>Себастьян Лелио</td>\n",
       "      <td>Луис Кольяр</td>\n",
       "      <td>Бенхамин Эчасаррета</td>\n",
       "      <td>...</td>\n",
       "      <td>2013-02-10</td>\n",
       "      <td>58-летняя разведенная женщина начинает скучать...</td>\n",
       "      <td>6.160</td>\n",
       "      <td>6.8</td>\n",
       "      <td>Паулина Гарсиа,Серхио Эрнандес,Диего Фонтесиль...</td>\n",
       "      <td>0.0</td>\n",
       "      <td>2107925.0</td>\n",
       "      <td>6461559.0</td>\n",
       "      <td>2014-04-17</td>\n",
       "      <td>0.0</td>\n",
       "    </tr>\n",
       "    <tr>\n",
       "      <th>...</th>\n",
       "      <td>...</td>\n",
       "      <td>...</td>\n",
       "      <td>...</td>\n",
       "      <td>...</td>\n",
       "      <td>...</td>\n",
       "      <td>...</td>\n",
       "      <td>...</td>\n",
       "      <td>...</td>\n",
       "      <td>...</td>\n",
       "      <td>...</td>\n",
       "      <td>...</td>\n",
       "      <td>...</td>\n",
       "      <td>...</td>\n",
       "      <td>...</td>\n",
       "      <td>...</td>\n",
       "      <td>...</td>\n",
       "      <td>...</td>\n",
       "      <td>...</td>\n",
       "      <td>...</td>\n",
       "      <td>...</td>\n",
       "      <td>...</td>\n",
       "    </tr>\n",
       "    <tr>\n",
       "      <th>22781.0</th>\n",
       "      <td>8160.0</td>\n",
       "      <td>Аэропорт</td>\n",
       "      <td>Airport</td>\n",
       "      <td>1970</td>\n",
       "      <td>США</td>\n",
       "      <td>боевик</td>\n",
       "      <td>Джордж Ситон</td>\n",
       "      <td>Джордж Ситон</td>\n",
       "      <td>Росс Хантер</td>\n",
       "      <td>Эрнест Ласло</td>\n",
       "      <td>...</td>\n",
       "      <td>1970-03-05</td>\n",
       "      <td>Похоже, что начальнику Международного Аэропорт...</td>\n",
       "      <td>7.127</td>\n",
       "      <td>6.6</td>\n",
       "      <td>Берт Ланкастер,Дин Мартин,Джин Сиберг,Жаклин Б...</td>\n",
       "      <td>10000000.0</td>\n",
       "      <td>100489151.0</td>\n",
       "      <td>100489151.0</td>\n",
       "      <td>NaN</td>\n",
       "      <td>0.0</td>\n",
       "    </tr>\n",
       "    <tr>\n",
       "      <th>22782.0</th>\n",
       "      <td>760740.0</td>\n",
       "      <td>Макбет</td>\n",
       "      <td>Macbeth</td>\n",
       "      <td>2015</td>\n",
       "      <td>Великобритания</td>\n",
       "      <td>драма</td>\n",
       "      <td>Джастин Курзель</td>\n",
       "      <td>Тодд Луисо</td>\n",
       "      <td>Эйн Каннинг</td>\n",
       "      <td>Адам Аркпоу</td>\n",
       "      <td>...</td>\n",
       "      <td>2015-05-23</td>\n",
       "      <td>Холодные поля Шотландии, военный лагерь, всегд...</td>\n",
       "      <td>7.117</td>\n",
       "      <td>6.6</td>\n",
       "      <td>Майкл Фассбендер,Марион Котийяр,Пэдди Консидай...</td>\n",
       "      <td>15000000.0</td>\n",
       "      <td>1110707.0</td>\n",
       "      <td>16322067.0</td>\n",
       "      <td>2015-11-26</td>\n",
       "      <td>0.0</td>\n",
       "    </tr>\n",
       "    <tr>\n",
       "      <th>22783.0</th>\n",
       "      <td>493222.0</td>\n",
       "      <td>На грани</td>\n",
       "      <td>Man on a Ledge</td>\n",
       "      <td>2012</td>\n",
       "      <td>США</td>\n",
       "      <td>триллер</td>\n",
       "      <td>Асгер Лет</td>\n",
       "      <td>Пабло Ф. Фенхвес</td>\n",
       "      <td>Лоренцо Ди Бонавентура</td>\n",
       "      <td>Пол Кэмерон</td>\n",
       "      <td>...</td>\n",
       "      <td>2012-01-26</td>\n",
       "      <td>Экс-полицейский, обвиняемый в преступлении, ко...</td>\n",
       "      <td>7.108</td>\n",
       "      <td>6.6</td>\n",
       "      <td>Сэм Уортингтон,Элизабет Бэнкс,Джейми Белл,Джен...</td>\n",
       "      <td>42000000.0</td>\n",
       "      <td>18620000.0</td>\n",
       "      <td>47636031.0</td>\n",
       "      <td>2012-02-02</td>\n",
       "      <td>0.0</td>\n",
       "    </tr>\n",
       "    <tr>\n",
       "      <th>22784.0</th>\n",
       "      <td>271999.0</td>\n",
       "      <td>Запретное царство</td>\n",
       "      <td>The Forbidden Kingdom</td>\n",
       "      <td>2008</td>\n",
       "      <td>США</td>\n",
       "      <td>фэнтези</td>\n",
       "      <td>Роб Минкофф</td>\n",
       "      <td>Джон Фуско</td>\n",
       "      <td>Кэйси Сильвер</td>\n",
       "      <td>Питер Пау</td>\n",
       "      <td>...</td>\n",
       "      <td>2008-04-04</td>\n",
       "      <td>Американский подросток Джейсон, основательно п...</td>\n",
       "      <td>7.097</td>\n",
       "      <td>6.6</td>\n",
       "      <td>Джет Ли,Джеки Чан,Майкл Ангарано,Хуана Коллинь...</td>\n",
       "      <td>55000000.0</td>\n",
       "      <td>52075270.0</td>\n",
       "      <td>127980002.0</td>\n",
       "      <td>2008-04-24</td>\n",
       "      <td>0.0</td>\n",
       "    </tr>\n",
       "    <tr>\n",
       "      <th>22788.0</th>\n",
       "      <td>775524.0</td>\n",
       "      <td>Каникулы в Провансе</td>\n",
       "      <td>Avis de mistral</td>\n",
       "      <td>2014</td>\n",
       "      <td>Франция</td>\n",
       "      <td>семейный</td>\n",
       "      <td>Розлин Бош</td>\n",
       "      <td>Розлин Бош</td>\n",
       "      <td>Ален Голдман</td>\n",
       "      <td>Стефан Ле Парк</td>\n",
       "      <td>...</td>\n",
       "      <td>2014-04-02</td>\n",
       "      <td>Лиа, Адриен и их от рождения глухой младший бр...</td>\n",
       "      <td>7.077</td>\n",
       "      <td>6.6</td>\n",
       "      <td>Жан Рено,Анна Гальена,Хлоя Дез,Юго Дессью,Ор А...</td>\n",
       "      <td>0.0</td>\n",
       "      <td>0.0</td>\n",
       "      <td>0.0</td>\n",
       "      <td>NaN</td>\n",
       "      <td>0.0</td>\n",
       "    </tr>\n",
       "  </tbody>\n",
       "</table>\n",
       "<p>4922 rows × 23 columns</p>\n",
       "</div>"
      ],
      "text/plain": [
       "                id                    ru_name                    origin_name  \\\n",
       "0.0         7620.0        С феями шутки плохи          Photographing Fairies   \n",
       "1.0      1035433.0  Скуби-Ду! На Диком Западе  Scooby-Doo! Shaggy's Showdown   \n",
       "2.0       804697.0                        Оно                     It Follows   \n",
       "3.0        95341.0     Салемские вампиры (ТВ)                    Salem's Lot   \n",
       "4.0       711424.0                     Глория                         Gloria   \n",
       "...            ...                        ...                            ...   \n",
       "22781.0     8160.0                   Аэропорт                        Airport   \n",
       "22782.0   760740.0                     Макбет                        Macbeth   \n",
       "22783.0   493222.0                   На грани                 Man on a Ledge   \n",
       "22784.0   271999.0          Запретное царство          The Forbidden Kingdom   \n",
       "22788.0   775524.0        Каникулы в Провансе                Avis de mistral   \n",
       "\n",
       "         make_year         country      genres              director  \\\n",
       "0.0           1997  Великобритания     фэнтези           Ник Уиллинг   \n",
       "1.0           2017             США  мультфильм           Мэтт Питерс   \n",
       "2.0           2014             США       ужасы  Дэвид Роберт Митчелл   \n",
       "3.0           1979             США       ужасы            Тоуб Хупер   \n",
       "4.0           2013            Чили       драма       Себастьян Лелио   \n",
       "...            ...             ...         ...                   ...   \n",
       "22781.0       1970             США      боевик          Джордж Ситон   \n",
       "22782.0       2015  Великобритания       драма       Джастин Курзель   \n",
       "22783.0       2012             США     триллер             Асгер Лет   \n",
       "22784.0       2008             США     фэнтези           Роб Минкофф   \n",
       "22788.0       2014         Франция    семейный            Розлин Бош   \n",
       "\n",
       "                 scriptwriter                producer             operator  \\\n",
       "0.0             Крис Харральд          Микеле Камарда       Джон де Борман   \n",
       "1.0            Кэнди Лангдэйл            Алан Барнетт                  NaN   \n",
       "2.0      Дэвид Роберт Митчелл            Дэвид Каплан        Майк Гиулакис   \n",
       "3.0                 Пол Монаш              Анна Коттл        Джулс Бреннер   \n",
       "4.0           Себастьян Лелио             Луис Кольяр  Бенхамин Эчасаррета   \n",
       "...                       ...                     ...                  ...   \n",
       "22781.0          Джордж Ситон             Росс Хантер         Эрнест Ласло   \n",
       "22782.0            Тодд Луисо             Эйн Каннинг          Адам Аркпоу   \n",
       "22783.0      Пабло Ф. Фенхвес  Лоренцо Ди Бонавентура          Пол Кэмерон   \n",
       "22784.0            Джон Фуско           Кэйси Сильвер            Питер Пау   \n",
       "22788.0            Розлин Бош            Ален Голдман       Стефан Ле Парк   \n",
       "\n",
       "         ... world_premiere  \\\n",
       "0.0      ...     1997-09-19   \n",
       "1.0      ...     2017-02-14   \n",
       "2.0      ...     2014-05-17   \n",
       "3.0      ...     1979-11-17   \n",
       "4.0      ...     2013-02-10   \n",
       "...      ...            ...   \n",
       "22781.0  ...     1970-03-05   \n",
       "22782.0  ...     2015-05-23   \n",
       "22783.0  ...     2012-01-26   \n",
       "22784.0  ...     2008-04-04   \n",
       "22788.0  ...     2014-04-02   \n",
       "\n",
       "                                                  synopsis kinopoisk_rating  \\\n",
       "0.0      Фотограф Чарльз Касл тяжело переживает утрату ...            6.256   \n",
       "1.0      Главные герои отправляются в уникальное место ...            6.264   \n",
       "2.0      После сексуальной связи 19-летнюю девушку по и...            6.219   \n",
       "3.0      Бен Мейрс, успешный романист, возвращается дом...            6.199   \n",
       "4.0      58-летняя разведенная женщина начинает скучать...            6.160   \n",
       "...                                                    ...              ...   \n",
       "22781.0  Похоже, что начальнику Международного Аэропорт...            7.127   \n",
       "22782.0  Холодные поля Шотландии, военный лагерь, всегд...            7.117   \n",
       "22783.0  Экс-полицейский, обвиняемый в преступлении, ко...            7.108   \n",
       "22784.0  Американский подросток Джейсон, основательно п...            7.097   \n",
       "22788.0  Лиа, Адриен и их от рождения глухой младший бр...            7.077   \n",
       "\n",
       "        imdb_rating                                     first_5_actors  \\\n",
       "0.0             6.8  Тоби Стивенс,Эмили Вуф,Бен Кингсли,Фрэнсис Бар...   \n",
       "1.0             6.8  Фрэнк Уэлкер,Грэй Гриффин,Мэттью Лиллард,Кейт ...   \n",
       "2.0             6.8  Майка Монро,Кейр Гилкрист,Оливия Луккарди,Лили...   \n",
       "3.0             6.8  Дэвид Соул,Джеймс Мейсон,Лэнс Кервин,Бонни Бед...   \n",
       "4.0             6.8  Паулина Гарсиа,Серхио Эрнандес,Диего Фонтесиль...   \n",
       "...             ...                                                ...   \n",
       "22781.0         6.6  Берт Ланкастер,Дин Мартин,Джин Сиберг,Жаклин Б...   \n",
       "22782.0         6.6  Майкл Фассбендер,Марион Котийяр,Пэдди Консидай...   \n",
       "22783.0         6.6  Сэм Уортингтон,Элизабет Бэнкс,Джейми Белл,Джен...   \n",
       "22784.0         6.6  Джет Ли,Джеки Чан,Майкл Ангарано,Хуана Коллинь...   \n",
       "22788.0         6.6  Жан Рено,Анна Гальена,Хлоя Дез,Юго Дессью,Ор А...   \n",
       "\n",
       "               cost     usa_fees   world_fees  rus_premiere  marketing  \n",
       "0.0             0.0          0.0          0.0           NaN        0.0  \n",
       "1.0             0.0          0.0          0.0           NaN        0.0  \n",
       "2.0       2000000.0   14674076.0   21729511.0    2015-06-25        0.0  \n",
       "3.0       4000000.0          0.0          0.0           NaN        0.0  \n",
       "4.0             0.0    2107925.0    6461559.0    2014-04-17        0.0  \n",
       "...             ...          ...          ...           ...        ...  \n",
       "22781.0  10000000.0  100489151.0  100489151.0           NaN        0.0  \n",
       "22782.0  15000000.0    1110707.0   16322067.0    2015-11-26        0.0  \n",
       "22783.0  42000000.0   18620000.0   47636031.0    2012-02-02        0.0  \n",
       "22784.0  55000000.0   52075270.0  127980002.0    2008-04-24        0.0  \n",
       "22788.0         0.0          0.0          0.0           NaN        0.0  \n",
       "\n",
       "[4922 rows x 23 columns]"
      ]
     },
     "execution_count": 4,
     "metadata": {},
     "output_type": "execute_result"
    }
   ],
   "source": [
    "df"
   ]
  },
  {
   "cell_type": "markdown",
   "metadata": {
    "pycharm": {
     "name": "#%% md\n"
    }
   },
   "source": [
    "### Наконец-то мы собрали наш датасет, теперь надо его обработать, привести к нормальным значениям и т.д."
   ]
  },
  {
   "cell_type": "code",
   "execution_count": null,
   "metadata": {},
   "outputs": [],
   "source": [
    "df['kinopoisk_rating'] = df['kinopoisk_rating'].astype(float)"
   ]
  },
  {
   "cell_type": "code",
   "execution_count": null,
   "metadata": {},
   "outputs": [],
   "source": [
    "df['imdb_rating'].unique()"
   ]
  },
  {
   "cell_type": "code",
   "execution_count": null,
   "metadata": {
    "pycharm": {
     "name": "#%%\n"
    }
   },
   "outputs": [],
   "source": [
    "df['imdb_rating'] = df['imdb_rating'].astype(str).apply(lambda x: x.split()[1] if x != 'nan' else 0).astype(float)"
   ]
  },
  {
   "cell_type": "code",
   "execution_count": null,
   "metadata": {},
   "outputs": [],
   "source": [
    "def to_numeric(string):\n",
    "    if \"=\" in string:\n",
    "        string = string[string.find('='):]\n",
    "    return 0 if string == 'nan' else ''.join(c for c in string if c.isdigit())"
   ]
  },
  {
   "cell_type": "code",
   "execution_count": null,
   "metadata": {
    "pycharm": {
     "name": "#%%\n"
    }
   },
   "outputs": [],
   "source": [
    "df['cost'] = df['cost'].astype(str).apply(to_numeric).astype('int32')"
   ]
  },
  {
   "cell_type": "code",
   "execution_count": null,
   "metadata": {
    "pycharm": {
     "name": "#%%\n"
    }
   },
   "outputs": [],
   "source": [
    "df['id'] = df['id'].replace(np.nan, 0).astype('int32')"
   ]
  },
  {
   "cell_type": "code",
   "execution_count": null,
   "metadata": {
    "pycharm": {
     "name": "#%%\n"
    }
   },
   "outputs": [],
   "source": [
    "df['make_year'] = df['make_year'].astype('int32')"
   ]
  },
  {
   "cell_type": "code",
   "execution_count": null,
   "metadata": {
    "pycharm": {
     "name": "#%%\n"
    }
   },
   "outputs": [],
   "source": [
    "df['usa_fees'] = df['usa_fees'].astype(str).apply(to_numeric).astype('int32')"
   ]
  },
  {
   "cell_type": "code",
   "execution_count": null,
   "metadata": {
    "pycharm": {
     "name": "#%%\n"
    }
   },
   "outputs": [],
   "source": [
    "df['world_fees'] = df['world_fees'].astype(str).apply(to_numeric).astype('int32')"
   ]
  },
  {
   "cell_type": "code",
   "execution_count": null,
   "metadata": {
    "pycharm": {
     "name": "#%%\n"
    }
   },
   "outputs": [],
   "source": [
    "df['marketing'] = df['marketing'].astype(str).apply(to_numeric).astype('int32')"
   ]
  },
  {
   "cell_type": "code",
   "execution_count": 6,
   "metadata": {},
   "outputs": [
    {
     "data": {
      "text/plain": [
       "<AxesSubplot:xlabel='make_year', ylabel='imdb_rating'>"
      ]
     },
     "execution_count": 6,
     "metadata": {},
     "output_type": "execute_result"
    },
    {
     "data": {
      "image/png": "[encoded data removed]",
      "text/plain": [
       "<Figure size 1080x1080 with 1 Axes>"
      ]
     },
     "metadata": {
      "needs_background": "light"
     },
     "output_type": "display_data"
    }
   ],
   "source": [
    "plt.figure(figsize=(15,15))\n",
    "sns.scatterplot(data=df, y='imdb_rating', x='make_year')"
   ]
  },
  {
   "cell_type": "markdown",
   "metadata": {},
   "source": [
    "### Отличная иллюстрация фразы \"Раньше было лучше\""
   ]
  },
  {
   "cell_type": "code",
   "execution_count": 7,
   "metadata": {},
   "outputs": [
    {
     "data": {
      "text/html": [
       "<div>\n",
       "<style scoped>\n",
       "    .dataframe tbody tr th:only-of-type {\n",
       "        vertical-align: middle;\n",
       "    }\n",
       "\n",
       "    .dataframe tbody tr th {\n",
       "        vertical-align: top;\n",
       "    }\n",
       "\n",
       "    .dataframe thead th {\n",
       "        text-align: right;\n",
       "    }\n",
       "</style>\n",
       "<table border=\"1\" class=\"dataframe\">\n",
       "  <thead>\n",
       "    <tr style=\"text-align: right;\">\n",
       "      <th></th>\n",
       "      <th>id</th>\n",
       "      <th>ru_name</th>\n",
       "      <th>origin_name</th>\n",
       "      <th>make_year</th>\n",
       "      <th>country</th>\n",
       "      <th>genres</th>\n",
       "      <th>director</th>\n",
       "      <th>scriptwriter</th>\n",
       "      <th>producer</th>\n",
       "      <th>operator</th>\n",
       "      <th>...</th>\n",
       "      <th>world_premiere</th>\n",
       "      <th>synopsis</th>\n",
       "      <th>kinopoisk_rating</th>\n",
       "      <th>imdb_rating</th>\n",
       "      <th>first_5_actors</th>\n",
       "      <th>cost</th>\n",
       "      <th>usa_fees</th>\n",
       "      <th>world_fees</th>\n",
       "      <th>rus_premiere</th>\n",
       "      <th>marketing</th>\n",
       "    </tr>\n",
       "  </thead>\n",
       "  <tbody>\n",
       "    <tr>\n",
       "      <th>0.0</th>\n",
       "      <td>7620.0</td>\n",
       "      <td>С феями шутки плохи</td>\n",
       "      <td>Photographing Fairies</td>\n",
       "      <td>1997</td>\n",
       "      <td>Великобритания</td>\n",
       "      <td>фэнтези</td>\n",
       "      <td>Ник Уиллинг</td>\n",
       "      <td>Крис Харральд</td>\n",
       "      <td>Микеле Камарда</td>\n",
       "      <td>Джон де Борман</td>\n",
       "      <td>...</td>\n",
       "      <td>1997-09-19</td>\n",
       "      <td>Фотограф Чарльз Касл тяжело переживает утрату ...</td>\n",
       "      <td>6.256</td>\n",
       "      <td>6.8</td>\n",
       "      <td>Тоби Стивенс,Эмили Вуф,Бен Кингсли,Фрэнсис Бар...</td>\n",
       "      <td>0.0</td>\n",
       "      <td>0.0</td>\n",
       "      <td>0.0</td>\n",
       "      <td>NaN</td>\n",
       "      <td>0.0</td>\n",
       "    </tr>\n",
       "    <tr>\n",
       "      <th>1.0</th>\n",
       "      <td>1035433.0</td>\n",
       "      <td>Скуби-Ду! На Диком Западе</td>\n",
       "      <td>Scooby-Doo! Shaggy's Showdown</td>\n",
       "      <td>2017</td>\n",
       "      <td>США</td>\n",
       "      <td>мультфильм</td>\n",
       "      <td>Мэтт Питерс</td>\n",
       "      <td>Кэнди Лангдэйл</td>\n",
       "      <td>Алан Барнетт</td>\n",
       "      <td>NaN</td>\n",
       "      <td>...</td>\n",
       "      <td>2017-02-14</td>\n",
       "      <td>Главные герои отправляются в уникальное место ...</td>\n",
       "      <td>6.264</td>\n",
       "      <td>6.8</td>\n",
       "      <td>Фрэнк Уэлкер,Грэй Гриффин,Мэттью Лиллард,Кейт ...</td>\n",
       "      <td>0.0</td>\n",
       "      <td>0.0</td>\n",
       "      <td>0.0</td>\n",
       "      <td>NaN</td>\n",
       "      <td>0.0</td>\n",
       "    </tr>\n",
       "    <tr>\n",
       "      <th>2.0</th>\n",
       "      <td>804697.0</td>\n",
       "      <td>Оно</td>\n",
       "      <td>It Follows</td>\n",
       "      <td>2014</td>\n",
       "      <td>США</td>\n",
       "      <td>ужасы</td>\n",
       "      <td>Дэвид Роберт Митчелл</td>\n",
       "      <td>Дэвид Роберт Митчелл</td>\n",
       "      <td>Дэвид Каплан</td>\n",
       "      <td>Майк Гиулакис</td>\n",
       "      <td>...</td>\n",
       "      <td>2014-05-17</td>\n",
       "      <td>После сексуальной связи 19-летнюю девушку по и...</td>\n",
       "      <td>6.219</td>\n",
       "      <td>6.8</td>\n",
       "      <td>Майка Монро,Кейр Гилкрист,Оливия Луккарди,Лили...</td>\n",
       "      <td>2000000.0</td>\n",
       "      <td>14674076.0</td>\n",
       "      <td>21729511.0</td>\n",
       "      <td>2015-06-25</td>\n",
       "      <td>0.0</td>\n",
       "    </tr>\n",
       "    <tr>\n",
       "      <th>3.0</th>\n",
       "      <td>95341.0</td>\n",
       "      <td>Салемские вампиры (ТВ)</td>\n",
       "      <td>Salem's Lot</td>\n",
       "      <td>1979</td>\n",
       "      <td>США</td>\n",
       "      <td>ужасы</td>\n",
       "      <td>Тоуб Хупер</td>\n",
       "      <td>Пол Монаш</td>\n",
       "      <td>Анна Коттл</td>\n",
       "      <td>Джулс Бреннер</td>\n",
       "      <td>...</td>\n",
       "      <td>1979-11-17</td>\n",
       "      <td>Бен Мейрс, успешный романист, возвращается дом...</td>\n",
       "      <td>6.199</td>\n",
       "      <td>6.8</td>\n",
       "      <td>Дэвид Соул,Джеймс Мейсон,Лэнс Кервин,Бонни Бед...</td>\n",
       "      <td>4000000.0</td>\n",
       "      <td>0.0</td>\n",
       "      <td>0.0</td>\n",
       "      <td>NaN</td>\n",
       "      <td>0.0</td>\n",
       "    </tr>\n",
       "    <tr>\n",
       "      <th>4.0</th>\n",
       "      <td>711424.0</td>\n",
       "      <td>Глория</td>\n",
       "      <td>Gloria</td>\n",
       "      <td>2013</td>\n",
       "      <td>Чили</td>\n",
       "      <td>драма</td>\n",
       "      <td>Себастьян Лелио</td>\n",
       "      <td>Себастьян Лелио</td>\n",
       "      <td>Луис Кольяр</td>\n",
       "      <td>Бенхамин Эчасаррета</td>\n",
       "      <td>...</td>\n",
       "      <td>2013-02-10</td>\n",
       "      <td>58-летняя разведенная женщина начинает скучать...</td>\n",
       "      <td>6.160</td>\n",
       "      <td>6.8</td>\n",
       "      <td>Паулина Гарсиа,Серхио Эрнандес,Диего Фонтесиль...</td>\n",
       "      <td>0.0</td>\n",
       "      <td>2107925.0</td>\n",
       "      <td>6461559.0</td>\n",
       "      <td>2014-04-17</td>\n",
       "      <td>0.0</td>\n",
       "    </tr>\n",
       "    <tr>\n",
       "      <th>...</th>\n",
       "      <td>...</td>\n",
       "      <td>...</td>\n",
       "      <td>...</td>\n",
       "      <td>...</td>\n",
       "      <td>...</td>\n",
       "      <td>...</td>\n",
       "      <td>...</td>\n",
       "      <td>...</td>\n",
       "      <td>...</td>\n",
       "      <td>...</td>\n",
       "      <td>...</td>\n",
       "      <td>...</td>\n",
       "      <td>...</td>\n",
       "      <td>...</td>\n",
       "      <td>...</td>\n",
       "      <td>...</td>\n",
       "      <td>...</td>\n",
       "      <td>...</td>\n",
       "      <td>...</td>\n",
       "      <td>...</td>\n",
       "      <td>...</td>\n",
       "    </tr>\n",
       "    <tr>\n",
       "      <th>22781.0</th>\n",
       "      <td>8160.0</td>\n",
       "      <td>Аэропорт</td>\n",
       "      <td>Airport</td>\n",
       "      <td>1970</td>\n",
       "      <td>США</td>\n",
       "      <td>боевик</td>\n",
       "      <td>Джордж Ситон</td>\n",
       "      <td>Джордж Ситон</td>\n",
       "      <td>Росс Хантер</td>\n",
       "      <td>Эрнест Ласло</td>\n",
       "      <td>...</td>\n",
       "      <td>1970-03-05</td>\n",
       "      <td>Похоже, что начальнику Международного Аэропорт...</td>\n",
       "      <td>7.127</td>\n",
       "      <td>6.6</td>\n",
       "      <td>Берт Ланкастер,Дин Мартин,Джин Сиберг,Жаклин Б...</td>\n",
       "      <td>10000000.0</td>\n",
       "      <td>100489151.0</td>\n",
       "      <td>100489151.0</td>\n",
       "      <td>NaN</td>\n",
       "      <td>0.0</td>\n",
       "    </tr>\n",
       "    <tr>\n",
       "      <th>22782.0</th>\n",
       "      <td>760740.0</td>\n",
       "      <td>Макбет</td>\n",
       "      <td>Macbeth</td>\n",
       "      <td>2015</td>\n",
       "      <td>Великобритания</td>\n",
       "      <td>драма</td>\n",
       "      <td>Джастин Курзель</td>\n",
       "      <td>Тодд Луисо</td>\n",
       "      <td>Эйн Каннинг</td>\n",
       "      <td>Адам Аркпоу</td>\n",
       "      <td>...</td>\n",
       "      <td>2015-05-23</td>\n",
       "      <td>Холодные поля Шотландии, военный лагерь, всегд...</td>\n",
       "      <td>7.117</td>\n",
       "      <td>6.6</td>\n",
       "      <td>Майкл Фассбендер,Марион Котийяр,Пэдди Консидай...</td>\n",
       "      <td>15000000.0</td>\n",
       "      <td>1110707.0</td>\n",
       "      <td>16322067.0</td>\n",
       "      <td>2015-11-26</td>\n",
       "      <td>0.0</td>\n",
       "    </tr>\n",
       "    <tr>\n",
       "      <th>22783.0</th>\n",
       "      <td>493222.0</td>\n",
       "      <td>На грани</td>\n",
       "      <td>Man on a Ledge</td>\n",
       "      <td>2012</td>\n",
       "      <td>США</td>\n",
       "      <td>триллер</td>\n",
       "      <td>Асгер Лет</td>\n",
       "      <td>Пабло Ф. Фенхвес</td>\n",
       "      <td>Лоренцо Ди Бонавентура</td>\n",
       "      <td>Пол Кэмерон</td>\n",
       "      <td>...</td>\n",
       "      <td>2012-01-26</td>\n",
       "      <td>Экс-полицейский, обвиняемый в преступлении, ко...</td>\n",
       "      <td>7.108</td>\n",
       "      <td>6.6</td>\n",
       "      <td>Сэм Уортингтон,Элизабет Бэнкс,Джейми Белл,Джен...</td>\n",
       "      <td>42000000.0</td>\n",
       "      <td>18620000.0</td>\n",
       "      <td>47636031.0</td>\n",
       "      <td>2012-02-02</td>\n",
       "      <td>0.0</td>\n",
       "    </tr>\n",
       "    <tr>\n",
       "      <th>22784.0</th>\n",
       "      <td>271999.0</td>\n",
       "      <td>Запретное царство</td>\n",
       "      <td>The Forbidden Kingdom</td>\n",
       "      <td>2008</td>\n",
       "      <td>США</td>\n",
       "      <td>фэнтези</td>\n",
       "      <td>Роб Минкофф</td>\n",
       "      <td>Джон Фуско</td>\n",
       "      <td>Кэйси Сильвер</td>\n",
       "      <td>Питер Пау</td>\n",
       "      <td>...</td>\n",
       "      <td>2008-04-04</td>\n",
       "      <td>Американский подросток Джейсон, основательно п...</td>\n",
       "      <td>7.097</td>\n",
       "      <td>6.6</td>\n",
       "      <td>Джет Ли,Джеки Чан,Майкл Ангарано,Хуана Коллинь...</td>\n",
       "      <td>55000000.0</td>\n",
       "      <td>52075270.0</td>\n",
       "      <td>127980002.0</td>\n",
       "      <td>2008-04-24</td>\n",
       "      <td>0.0</td>\n",
       "    </tr>\n",
       "    <tr>\n",
       "      <th>22788.0</th>\n",
       "      <td>775524.0</td>\n",
       "      <td>Каникулы в Провансе</td>\n",
       "      <td>Avis de mistral</td>\n",
       "      <td>2014</td>\n",
       "      <td>Франция</td>\n",
       "      <td>семейный</td>\n",
       "      <td>Розлин Бош</td>\n",
       "      <td>Розлин Бош</td>\n",
       "      <td>Ален Голдман</td>\n",
       "      <td>Стефан Ле Парк</td>\n",
       "      <td>...</td>\n",
       "      <td>2014-04-02</td>\n",
       "      <td>Лиа, Адриен и их от рождения глухой младший бр...</td>\n",
       "      <td>7.077</td>\n",
       "      <td>6.6</td>\n",
       "      <td>Жан Рено,Анна Гальена,Хлоя Дез,Юго Дессью,Ор А...</td>\n",
       "      <td>0.0</td>\n",
       "      <td>0.0</td>\n",
       "      <td>0.0</td>\n",
       "      <td>NaN</td>\n",
       "      <td>0.0</td>\n",
       "    </tr>\n",
       "  </tbody>\n",
       "</table>\n",
       "<p>4922 rows × 23 columns</p>\n",
       "</div>"
      ],
      "text/plain": [
       "                id                    ru_name                    origin_name  \\\n",
       "0.0         7620.0        С феями шутки плохи          Photographing Fairies   \n",
       "1.0      1035433.0  Скуби-Ду! На Диком Западе  Scooby-Doo! Shaggy's Showdown   \n",
       "2.0       804697.0                        Оно                     It Follows   \n",
       "3.0        95341.0     Салемские вампиры (ТВ)                    Salem's Lot   \n",
       "4.0       711424.0                     Глория                         Gloria   \n",
       "...            ...                        ...                            ...   \n",
       "22781.0     8160.0                   Аэропорт                        Airport   \n",
       "22782.0   760740.0                     Макбет                        Macbeth   \n",
       "22783.0   493222.0                   На грани                 Man on a Ledge   \n",
       "22784.0   271999.0          Запретное царство          The Forbidden Kingdom   \n",
       "22788.0   775524.0        Каникулы в Провансе                Avis de mistral   \n",
       "\n",
       "         make_year         country      genres              director  \\\n",
       "0.0           1997  Великобритания     фэнтези           Ник Уиллинг   \n",
       "1.0           2017             США  мультфильм           Мэтт Питерс   \n",
       "2.0           2014             США       ужасы  Дэвид Роберт Митчелл   \n",
       "3.0           1979             США       ужасы            Тоуб Хупер   \n",
       "4.0           2013            Чили       драма       Себастьян Лелио   \n",
       "...            ...             ...         ...                   ...   \n",
       "22781.0       1970             США      боевик          Джордж Ситон   \n",
       "22782.0       2015  Великобритания       драма       Джастин Курзель   \n",
       "22783.0       2012             США     триллер             Асгер Лет   \n",
       "22784.0       2008             США     фэнтези           Роб Минкофф   \n",
       "22788.0       2014         Франция    семейный            Розлин Бош   \n",
       "\n",
       "                 scriptwriter                producer             operator  \\\n",
       "0.0             Крис Харральд          Микеле Камарда       Джон де Борман   \n",
       "1.0            Кэнди Лангдэйл            Алан Барнетт                  NaN   \n",
       "2.0      Дэвид Роберт Митчелл            Дэвид Каплан        Майк Гиулакис   \n",
       "3.0                 Пол Монаш              Анна Коттл        Джулс Бреннер   \n",
       "4.0           Себастьян Лелио             Луис Кольяр  Бенхамин Эчасаррета   \n",
       "...                       ...                     ...                  ...   \n",
       "22781.0          Джордж Ситон             Росс Хантер         Эрнест Ласло   \n",
       "22782.0            Тодд Луисо             Эйн Каннинг          Адам Аркпоу   \n",
       "22783.0      Пабло Ф. Фенхвес  Лоренцо Ди Бонавентура          Пол Кэмерон   \n",
       "22784.0            Джон Фуско           Кэйси Сильвер            Питер Пау   \n",
       "22788.0            Розлин Бош            Ален Голдман       Стефан Ле Парк   \n",
       "\n",
       "         ... world_premiere  \\\n",
       "0.0      ...     1997-09-19   \n",
       "1.0      ...     2017-02-14   \n",
       "2.0      ...     2014-05-17   \n",
       "3.0      ...     1979-11-17   \n",
       "4.0      ...     2013-02-10   \n",
       "...      ...            ...   \n",
       "22781.0  ...     1970-03-05   \n",
       "22782.0  ...     2015-05-23   \n",
       "22783.0  ...     2012-01-26   \n",
       "22784.0  ...     2008-04-04   \n",
       "22788.0  ...     2014-04-02   \n",
       "\n",
       "                                                  synopsis kinopoisk_rating  \\\n",
       "0.0      Фотограф Чарльз Касл тяжело переживает утрату ...            6.256   \n",
       "1.0      Главные герои отправляются в уникальное место ...            6.264   \n",
       "2.0      После сексуальной связи 19-летнюю девушку по и...            6.219   \n",
       "3.0      Бен Мейрс, успешный романист, возвращается дом...            6.199   \n",
       "4.0      58-летняя разведенная женщина начинает скучать...            6.160   \n",
       "...                                                    ...              ...   \n",
       "22781.0  Похоже, что начальнику Международного Аэропорт...            7.127   \n",
       "22782.0  Холодные поля Шотландии, военный лагерь, всегд...            7.117   \n",
       "22783.0  Экс-полицейский, обвиняемый в преступлении, ко...            7.108   \n",
       "22784.0  Американский подросток Джейсон, основательно п...            7.097   \n",
       "22788.0  Лиа, Адриен и их от рождения глухой младший бр...            7.077   \n",
       "\n",
       "        imdb_rating                                     first_5_actors  \\\n",
       "0.0             6.8  Тоби Стивенс,Эмили Вуф,Бен Кингсли,Фрэнсис Бар...   \n",
       "1.0             6.8  Фрэнк Уэлкер,Грэй Гриффин,Мэттью Лиллард,Кейт ...   \n",
       "2.0             6.8  Майка Монро,Кейр Гилкрист,Оливия Луккарди,Лили...   \n",
       "3.0             6.8  Дэвид Соул,Джеймс Мейсон,Лэнс Кервин,Бонни Бед...   \n",
       "4.0             6.8  Паулина Гарсиа,Серхио Эрнандес,Диего Фонтесиль...   \n",
       "...             ...                                                ...   \n",
       "22781.0         6.6  Берт Ланкастер,Дин Мартин,Джин Сиберг,Жаклин Б...   \n",
       "22782.0         6.6  Майкл Фассбендер,Марион Котийяр,Пэдди Консидай...   \n",
       "22783.0         6.6  Сэм Уортингтон,Элизабет Бэнкс,Джейми Белл,Джен...   \n",
       "22784.0         6.6  Джет Ли,Джеки Чан,Майкл Ангарано,Хуана Коллинь...   \n",
       "22788.0         6.6  Жан Рено,Анна Гальена,Хлоя Дез,Юго Дессью,Ор А...   \n",
       "\n",
       "               cost     usa_fees   world_fees  rus_premiere  marketing  \n",
       "0.0             0.0          0.0          0.0           NaN        0.0  \n",
       "1.0             0.0          0.0          0.0           NaN        0.0  \n",
       "2.0       2000000.0   14674076.0   21729511.0    2015-06-25        0.0  \n",
       "3.0       4000000.0          0.0          0.0           NaN        0.0  \n",
       "4.0             0.0    2107925.0    6461559.0    2014-04-17        0.0  \n",
       "...             ...          ...          ...           ...        ...  \n",
       "22781.0  10000000.0  100489151.0  100489151.0           NaN        0.0  \n",
       "22782.0  15000000.0    1110707.0   16322067.0    2015-11-26        0.0  \n",
       "22783.0  42000000.0   18620000.0   47636031.0    2012-02-02        0.0  \n",
       "22784.0  55000000.0   52075270.0  127980002.0    2008-04-24        0.0  \n",
       "22788.0         0.0          0.0          0.0           NaN        0.0  \n",
       "\n",
       "[4922 rows x 23 columns]"
      ]
     },
     "execution_count": 7,
     "metadata": {},
     "output_type": "execute_result"
    }
   ],
   "source": [
    "df"
   ]
  },
  {
   "cell_type": "code",
   "execution_count": 8,
   "metadata": {},
   "outputs": [
    {
     "data": {
      "text/plain": [
       "<AxesSubplot:xlabel='imdb_rating', ylabel='kinopoisk_rating'>"
      ]
     },
     "execution_count": 8,
     "metadata": {},
     "output_type": "execute_result"
    },
    {
     "data": {
      "image/png": "[encoded data removed]",
      "text/plain": [
       "<Figure size 720x720 with 1 Axes>"
      ]
     },
     "metadata": {
      "needs_background": "light"
     },
     "output_type": "display_data"
    }
   ],
   "source": [
    "plt.figure(figsize=(10,10))\n",
    "sns.scatterplot(data=df, y='kinopoisk_rating', x='imdb_rating')"
   ]
  },
  {
   "cell_type": "markdown",
   "metadata": {},
   "source": [
    "### Два рейтинга сильно скоррелированы, так что стоит выбрать один как целевую переменную, а второй выложить из датасета"
   ]
  },
  {
   "cell_type": "code",
   "execution_count": 9,
   "metadata": {},
   "outputs": [],
   "source": [
    "import pymorphy2\n",
    "from datetime import date\n",
    "\n",
    "morph = pymorphy2.MorphAnalyzer()\n",
    "months = dict(zip(['январь',\"февраль\",\"март\",\"апрель\",\"май\",\"июнь\",\"июль\",\"август\",\"сентябрь\",\"октябрь\",\"ноябрь\",\"декабрь\"], range(1,13)))\n",
    "def to_date(string):\n",
    "    if string == 'nan':\n",
    "        return string\n",
    "    res = []\n",
    "    for substr in string.split():\n",
    "        norm = morph.normal_forms(substr)[0]\n",
    "        if norm in months.keys():\n",
    "            res.append(int(months[norm]))\n",
    "        else:\n",
    "            res.append(int(substr))\n",
    "    if len(res) != 3:\n",
    "        return 'nan'\n",
    "    return date(year=res[2], month=res[1],day=res[0])"
   ]
  },
  {
   "cell_type": "code",
   "execution_count": null,
   "metadata": {},
   "outputs": [],
   "source": [
    "df['world_premiere'] = df['world_premiere'].astype(str).apply(to_datpd.e)"
   ]
  },
  {
   "cell_type": "code",
   "execution_count": null,
   "metadata": {},
   "outputs": [],
   "source": [
    "df['world_premiere'] = pd.to_datetime(df['world_premiere'])"
   ]
  },
  {
   "cell_type": "code",
   "execution_count": null,
   "metadata": {},
   "outputs": [],
   "source": [
    "df['rus_premiere']= df['rus_premiere'].astype(str).apply(to_date)"
   ]
  },
  {
   "cell_type": "code",
   "execution_count": null,
   "metadata": {},
   "outputs": [],
   "source": [
    "df['rus_premiere'] = pd.to_datetime(df['rus_premiere'])"
   ]
  },
  {
   "cell_type": "code",
   "execution_count": 16,
   "metadata": {},
   "outputs": [],
   "source": [
    "df['marketing'].fillna(0,inplace=True)"
   ]
  },
  {
   "cell_type": "code",
   "execution_count": 15,
   "metadata": {},
   "outputs": [],
   "source": [
    "df['cost'].fillna(df['cost'].mean(),inplace=True)"
   ]
  },
  {
   "cell_type": "code",
   "execution_count": 14,
   "metadata": {},
   "outputs": [],
   "source": [
    "df['usa_fees'].fillna(0,inplace=True)"
   ]
  },
  {
   "cell_type": "code",
   "execution_count": 13,
   "metadata": {},
   "outputs": [],
   "source": [
    "df['world_fees'].fillna(0,inplace=True)"
   ]
  },
  {
   "cell_type": "code",
   "execution_count": 24,
   "metadata": {},
   "outputs": [],
   "source": [
    "df = df[~df['imdb_rating'].isna()]"
   ]
  },
  {
   "cell_type": "code",
   "execution_count": 25,
   "metadata": {},
   "outputs": [],
   "source": [
    "df = df[~df['kinopoisk_rating'].isna()]"
   ]
  },
  {
   "cell_type": "code",
   "execution_count": 293,
   "metadata": {},
   "outputs": [],
   "source": [
    "csv_path = \"../csv/parsing/films_cleaned.csv\"\n",
    "# df.to_csv(csv_path)\n",
    "df = pd.read_csv(csv_path,index_col=0) "
   ]
  },
  {
   "cell_type": "markdown",
   "metadata": {},
   "source": [
    "### Данные очищены. Можно строить модели"
   ]
  },
  {
   "cell_type": "code",
   "execution_count": 295,
   "metadata": {},
   "outputs": [],
   "source": [
    "from sklearn.metrics import mean_squared_error\n",
    "from sklearn.metrics import mean_absolute_error\n",
    "\n",
    "def show_metrics(model, X_train, X_test, y_train, y_test):\n",
    "    print(\"R2 на обучающем наборе: {:.2f}\".format(model.score(X_train, y_train)))\n",
    "    print(\"R2 на тестовом наборе: {:.2f}\".format(model.score(X_test, y_test)))\n",
    "    print(\"MAE: {:.2f}\".format(mean_absolute_error(y_test, model.predict(X_test))))\n",
    "    print(\"MSE: {:.2f}\".format(mean_squared_error(y_test, model.predict(X_test))))"
   ]
  },
  {
   "cell_type": "code",
   "execution_count": 296,
   "metadata": {},
   "outputs": [
    {
     "name": "stdout",
     "output_type": "stream",
     "text": [
      "R2 на обучающем наборе: 0.48\n",
      "R2 на тестовом наборе: 0.31\n",
      "MAE: 0.65\n",
      "MSE: 0.74\n"
     ]
    }
   ],
   "source": [
    "from sklearn import preprocessing\n",
    "from sklearn.pipeline import Pipeline\n",
    "from sklearn.ensemble import RandomForestRegressor\n",
    "from sklearn.model_selection import train_test_split\n",
    "\n",
    "le = preprocessing.LabelEncoder()\n",
    "scaler = preprocessing.StandardScaler()\n",
    "rf = RandomForestRegressor(n_estimators=1000, n_jobs=-1, max_depth=7)\n",
    "\n",
    "df['dir_encoded'] = le.fit_transform(df['director'].values.astype(str))\n",
    "df['scriptwriter_encoded'] = le.fit_transform(df['scriptwriter'].values.astype(str))\n",
    "df['producer_encoded'] = le.fit_transform(df['producer'].values.astype(str))\n",
    "df['operator_encoded'] = le.fit_transform(df['operator'].values.astype(str))\n",
    "df['music_encoded'] = le.fit_transform(df['music'].values.astype(str))\n",
    "df['artist_encoded'] = le.fit_transform(df['artist'].values.astype(str))\n",
    "df['edit_enc'] = le.fit_transform(df['edit'].values.astype(str))\n",
    "df['genres_enc'] = le.fit_transform(df['genres'].values.astype(str))\n",
    "df['country_enc'] = le.fit_transform(df['country'].values.astype(str))\n",
    "\n",
    "\n",
    "y = df['imdb_rating']\n",
    "to_drop = ['imdb_rating', 'kinopoisk_rating','ru_name', 'origin_name', 'id', 'first_5_actors','synopsis',\n",
    "          'director', 'scriptwriter', 'producer', 'operator','music','artist','edit','genres','country', \n",
    "           'world_premiere', 'synopsis', 'kinopoisk_rating', 'imdb_rating', 'rus_premiere']\n",
    "\n",
    "X_train, X_test, y_train, y_test = train_test_split(df.drop(columns=to_drop), y, test_size=0.33,\n",
    "                                                        random_state=42)\n",
    "\n",
    "pipe = Pipeline([\n",
    "    ('scaler',scaler),\n",
    "    ('regressor', rf)\n",
    "])\n",
    "\n",
    "pipe.fit(X_train, y_train)\n",
    "show_metrics(pipe, X_train, X_test, y_train, y_test)"
   ]
  },
  {
   "cell_type": "code",
   "execution_count": 297,
   "metadata": {},
   "outputs": [
    {
     "data": {
      "text/plain": [
       "<AxesSubplot:>"
      ]
     },
     "execution_count": 297,
     "metadata": {},
     "output_type": "execute_result"
    },
    {
     "data": {
      "image/png": "[encoded data removed]",
      "text/plain": [
       "<Figure size 1440x1440 with 1 Axes>"
      ]
     },
     "metadata": {
      "needs_background": "light"
     },
     "output_type": "display_data"
    }
   ],
   "source": [
    "plt.figure(figsize=(20, 20))\n",
    "sns.barplot(x=rf.feature_importances_, y = X_train.columns)"
   ]
  },
  {
   "cell_type": "code",
   "execution_count": 298,
   "metadata": {},
   "outputs": [
    {
     "data": {
      "image/png": "[encoded data removed]",
      "text/plain": [
       "<Figure size 1440x1440 with 2 Axes>"
      ]
     },
     "metadata": {
      "needs_background": "light"
     },
     "output_type": "display_data"
    }
   ],
   "source": [
    "plt.figure(figsize=(20, 20))\n",
    "sns.heatmap(df.drop(to_drop, axis=1).corr().abs(), cmap='Blues')\n",
    "plt.show()"
   ]
  },
  {
   "cell_type": "markdown",
   "metadata": {},
   "source": [
    "### Попробуем OneHot, возможно какие-то режиссеры,продюсеры или сценаристы больше влияют на результат"
   ]
  },
  {
   "cell_type": "code",
   "execution_count": 299,
   "metadata": {},
   "outputs": [],
   "source": [
    "ds = df.copy()"
   ]
  },
  {
   "cell_type": "code",
   "execution_count": 300,
   "metadata": {},
   "outputs": [],
   "source": [
    "ds = pd.get_dummies(ds, prefix='dir_', columns=['director'],drop_first=True)\n",
    "ds = pd.get_dummies(ds, prefix='prod_', columns=['producer'],drop_first=True)"
   ]
  },
  {
   "cell_type": "code",
   "execution_count": 301,
   "metadata": {},
   "outputs": [],
   "source": [
    "ds = pd.get_dummies(ds, prefix='op_', columns=['operator'],drop_first=True)\n",
    "ds = pd.get_dummies(ds, prefix='script_', columns=['scriptwriter'],drop_first=True)"
   ]
  },
  {
   "cell_type": "code",
   "execution_count": 302,
   "metadata": {},
   "outputs": [
    {
     "name": "stdout",
     "output_type": "stream",
     "text": [
      "R2 на обучающем наборе: 0.60\n",
      "R2 на тестовом наборе: 0.33\n",
      "MAE: 0.64\n",
      "MSE: 0.72\n"
     ]
    }
   ],
   "source": [
    "scaler = preprocessing.StandardScaler()\n",
    "rf = RandomForestRegressor(n_estimators=100, n_jobs=-1, max_depth=10)\n",
    "\n",
    "\n",
    "\n",
    "y = df['imdb_rating']\n",
    "to_drop = ['imdb_rating', 'kinopoisk_rating','ru_name', 'origin_name', 'id', 'first_5_actors','synopsis',\n",
    "    'music','artist','edit','genres','country', 'world_premiere', 'synopsis', 'kinopoisk_rating', 'imdb_rating',\n",
    "        'rus_premiere',]\n",
    "\n",
    "X_train, X_test, y_train, y_test = train_test_split(ds.drop(columns=to_drop), y, test_size=0.33,\n",
    "                                                        random_state=42)\n",
    "\n",
    "pipe = Pipeline([\n",
    "    ('scaler',scaler),\n",
    "    ('regressor', rf)\n",
    "])\n",
    "\n",
    "pipe.fit(X_train, y_train)\n",
    "show_metrics(pipe, X_train, X_test, y_train, y_test)"
   ]
  },
  {
   "cell_type": "code",
   "execution_count": 15,
   "metadata": {},
   "outputs": [
    {
     "data": {
      "text/plain": [
       "(4910, 12921)"
      ]
     },
     "execution_count": 15,
     "metadata": {},
     "output_type": "execute_result"
    }
   ],
   "source": [
    "ds.shape"
   ]
  },
  {
   "cell_type": "markdown",
   "metadata": {},
   "source": [
    "### Почти тот же результат, но слишком уж большая размерность"
   ]
  },
  {
   "cell_type": "markdown",
   "metadata": {},
   "source": [
    "### Попробуем линейные модели и бустинг"
   ]
  },
  {
   "cell_type": "code",
   "execution_count": 303,
   "metadata": {},
   "outputs": [
    {
     "name": "stdout",
     "output_type": "stream",
     "text": [
      "R2 на обучающем наборе: 0.19\n",
      "R2 на тестовом наборе: 0.18\n",
      "MAE: 0.71\n",
      "MSE: 0.89\n"
     ]
    }
   ],
   "source": [
    "from sklearn.linear_model import RidgeCV\n",
    "from sklearn.linear_model import LassoCV\n",
    "from sklearn.preprocessing import PolynomialFeatures\n",
    "\n",
    "y = df['imdb_rating']\n",
    "to_drop = ['imdb_rating', 'kinopoisk_rating','ru_name', 'origin_name', 'id', 'first_5_actors','synopsis',\n",
    "          'director', 'scriptwriter', 'producer', 'operator','music','artist','edit','genres','country', 'world_premiere', 'synopsis', 'kinopoisk_rating', 'imdb_rating',\n",
    "        'rus_premiere',]\n",
    "\n",
    "X_train, X_test, y_train, y_test = train_test_split(df.drop(columns=to_drop), y, test_size=0.33,\n",
    "                                                        random_state=42)\n",
    "\n",
    "poly = PolynomialFeatures(2)\n",
    "scaler = preprocessing.StandardScaler()\n",
    "ridge = LassoCV()\n",
    "pipe = Pipeline([('poly', poly),('scaler', scaler), ('ridge', ridge)])\n",
    "pipe.fit(X_train, y_train)\n",
    "show_metrics(pipe, X_train, X_test, y_train, y_test)"
   ]
  },
  {
   "cell_type": "code",
   "execution_count": 304,
   "metadata": {},
   "outputs": [
    {
     "name": "stdout",
     "output_type": "stream",
     "text": [
      "R2 на обучающем наборе: 0.29\n",
      "R2 на тестовом наборе: 0.17\n",
      "MAE: 0.70\n",
      "MSE: 0.89\n"
     ]
    }
   ],
   "source": [
    "from sklearn.svm import SVR\n",
    "\n",
    "svr = SVR()\n",
    "pipe = Pipeline([('scaler', scaler), ('svr', svr)])\n",
    "pipe.fit(X_train, y_train)\n",
    "show_metrics(pipe, X_train, X_test, y_train, y_test)"
   ]
  },
  {
   "cell_type": "code",
   "execution_count": 305,
   "metadata": {},
   "outputs": [
    {
     "name": "stdout",
     "output_type": "stream",
     "text": [
      "R2 на обучающем наборе: 0.51\n",
      "R2 на тестовом наборе: 0.35\n",
      "MAE: 0.63\n",
      "MSE: 0.70\n"
     ]
    }
   ],
   "source": [
    "from catboost import CatBoostRegressor\n",
    "\n",
    "cat = CatBoostRegressor(max_depth=3)\n",
    "cat.fit(X_train, y_train, silent=True)\n",
    "show_metrics(cat, X_train, X_test, y_train, y_test)"
   ]
  },
  {
   "cell_type": "markdown",
   "metadata": {},
   "source": [
    "### Довольно неплохие показатели, попробуем их улучшить с помощью описания, так же можно добавить актеров"
   ]
  },
  {
   "cell_type": "code",
   "execution_count": 306,
   "metadata": {},
   "outputs": [
    {
     "data": {
      "text/plain": [
       "0.0        Тоби Стивенс,Эмили Вуф,Бен Кингсли,Фрэнсис Бар...\n",
       "1.0        Фрэнк Уэлкер,Грэй Гриффин,Мэттью Лиллард,Кейт ...\n",
       "2.0        Майка Монро,Кейр Гилкрист,Оливия Луккарди,Лили...\n",
       "3.0        Дэвид Соул,Джеймс Мейсон,Лэнс Кервин,Бонни Бед...\n",
       "4.0        Паулина Гарсиа,Серхио Эрнандес,Диего Фонтесиль...\n",
       "                                 ...                        \n",
       "22781.0    Берт Ланкастер,Дин Мартин,Джин Сиберг,Жаклин Б...\n",
       "22782.0    Майкл Фассбендер,Марион Котийяр,Пэдди Консидай...\n",
       "22783.0    Сэм Уортингтон,Элизабет Бэнкс,Джейми Белл,Джен...\n",
       "22784.0    Джет Ли,Джеки Чан,Майкл Ангарано,Хуана Коллинь...\n",
       "22788.0    Жан Рено,Анна Гальена,Хлоя Дез,Юго Дессью,Ор А...\n",
       "Name: first_5_actors, Length: 4910, dtype: object"
      ]
     },
     "execution_count": 306,
     "metadata": {},
     "output_type": "execute_result"
    }
   ],
   "source": [
    "df['first_5_actors']"
   ]
  },
  {
   "cell_type": "code",
   "execution_count": 307,
   "metadata": {},
   "outputs": [],
   "source": [
    "def split(row):\n",
    "    if not row or row == 'nan':\n",
    "        return np.zeros(5)\n",
    "    return row.split(',')"
   ]
  },
  {
   "cell_type": "code",
   "execution_count": 308,
   "metadata": {},
   "outputs": [],
   "source": [
    "splited = df['first_5_actors'].astype(str).apply(split)\n",
    "for i in range(5):\n",
    "    column_name = 'actor_{}'.format(i+1)\n",
    "    df[column_name] = np.array([x[i] if len(x) == 5 else np.nan for x in splited])"
   ]
  },
  {
   "cell_type": "code",
   "execution_count": 309,
   "metadata": {},
   "outputs": [
    {
     "data": {
      "text/html": [
       "<div>\n",
       "<style scoped>\n",
       "    .dataframe tbody tr th:only-of-type {\n",
       "        vertical-align: middle;\n",
       "    }\n",
       "\n",
       "    .dataframe tbody tr th {\n",
       "        vertical-align: top;\n",
       "    }\n",
       "\n",
       "    .dataframe thead th {\n",
       "        text-align: right;\n",
       "    }\n",
       "</style>\n",
       "<table border=\"1\" class=\"dataframe\">\n",
       "  <thead>\n",
       "    <tr style=\"text-align: right;\">\n",
       "      <th></th>\n",
       "      <th>id</th>\n",
       "      <th>ru_name</th>\n",
       "      <th>origin_name</th>\n",
       "      <th>make_year</th>\n",
       "      <th>country</th>\n",
       "      <th>genres</th>\n",
       "      <th>director</th>\n",
       "      <th>scriptwriter</th>\n",
       "      <th>producer</th>\n",
       "      <th>operator</th>\n",
       "      <th>...</th>\n",
       "      <th>music_encoded</th>\n",
       "      <th>artist_encoded</th>\n",
       "      <th>edit_enc</th>\n",
       "      <th>genres_enc</th>\n",
       "      <th>country_enc</th>\n",
       "      <th>actor_1</th>\n",
       "      <th>actor_2</th>\n",
       "      <th>actor_3</th>\n",
       "      <th>actor_4</th>\n",
       "      <th>actor_5</th>\n",
       "    </tr>\n",
       "  </thead>\n",
       "  <tbody>\n",
       "    <tr>\n",
       "      <th>0.0</th>\n",
       "      <td>7620.0</td>\n",
       "      <td>С феями шутки плохи</td>\n",
       "      <td>Photographing Fairies</td>\n",
       "      <td>1997</td>\n",
       "      <td>Великобритания</td>\n",
       "      <td>фэнтези</td>\n",
       "      <td>Ник Уиллинг</td>\n",
       "      <td>Крис Харральд</td>\n",
       "      <td>Микеле Камарда</td>\n",
       "      <td>Джон де Борман</td>\n",
       "      <td>...</td>\n",
       "      <td>1757</td>\n",
       "      <td>1294</td>\n",
       "      <td>2550</td>\n",
       "      <td>28</td>\n",
       "      <td>10</td>\n",
       "      <td>Тоби Стивенс</td>\n",
       "      <td>Эмили Вуф</td>\n",
       "      <td>Бен Кингсли</td>\n",
       "      <td>Фрэнсис Барбер</td>\n",
       "      <td>Филип Дэвис</td>\n",
       "    </tr>\n",
       "    <tr>\n",
       "      <th>1.0</th>\n",
       "      <td>1035433.0</td>\n",
       "      <td>Скуби-Ду! На Диком Западе</td>\n",
       "      <td>Scooby-Doo! Shaggy's Showdown</td>\n",
       "      <td>2017</td>\n",
       "      <td>США</td>\n",
       "      <td>мультфильм</td>\n",
       "      <td>Мэтт Питерс</td>\n",
       "      <td>Кэнди Лангдэйл</td>\n",
       "      <td>Алан Барнетт</td>\n",
       "      <td>NaN</td>\n",
       "      <td>...</td>\n",
       "      <td>1135</td>\n",
       "      <td>62</td>\n",
       "      <td>2152</td>\n",
       "      <td>17</td>\n",
       "      <td>54</td>\n",
       "      <td>Фрэнк Уэлкер</td>\n",
       "      <td>Грэй Гриффин</td>\n",
       "      <td>Мэттью Лиллард</td>\n",
       "      <td>Кейт Микуччи</td>\n",
       "      <td>Карлос Аласраки</td>\n",
       "    </tr>\n",
       "    <tr>\n",
       "      <th>2.0</th>\n",
       "      <td>804697.0</td>\n",
       "      <td>Оно</td>\n",
       "      <td>It Follows</td>\n",
       "      <td>2014</td>\n",
       "      <td>США</td>\n",
       "      <td>ужасы</td>\n",
       "      <td>Дэвид Роберт Митчелл</td>\n",
       "      <td>Дэвид Роберт Митчелл</td>\n",
       "      <td>Дэвид Каплан</td>\n",
       "      <td>Майк Гиулакис</td>\n",
       "      <td>...</td>\n",
       "      <td>1674</td>\n",
       "      <td>1341</td>\n",
       "      <td>2504</td>\n",
       "      <td>25</td>\n",
       "      <td>54</td>\n",
       "      <td>Майка Монро</td>\n",
       "      <td>Кейр Гилкрист</td>\n",
       "      <td>Оливия Луккарди</td>\n",
       "      <td>Лили Сепе</td>\n",
       "      <td>Дэниэл Дзоватто</td>\n",
       "    </tr>\n",
       "    <tr>\n",
       "      <th>3.0</th>\n",
       "      <td>95341.0</td>\n",
       "      <td>Салемские вампиры (ТВ)</td>\n",
       "      <td>Salem's Lot</td>\n",
       "      <td>1979</td>\n",
       "      <td>США</td>\n",
       "      <td>ужасы</td>\n",
       "      <td>Тоуб Хупер</td>\n",
       "      <td>Пол Монаш</td>\n",
       "      <td>Анна Коттл</td>\n",
       "      <td>Джулс Бреннер</td>\n",
       "      <td>...</td>\n",
       "      <td>501</td>\n",
       "      <td>1530</td>\n",
       "      <td>2306</td>\n",
       "      <td>25</td>\n",
       "      <td>54</td>\n",
       "      <td>Дэвид Соул</td>\n",
       "      <td>Джеймс Мейсон</td>\n",
       "      <td>Лэнс Кервин</td>\n",
       "      <td>Бонни Беделиа</td>\n",
       "      <td>Лью Эйрз</td>\n",
       "    </tr>\n",
       "    <tr>\n",
       "      <th>4.0</th>\n",
       "      <td>711424.0</td>\n",
       "      <td>Глория</td>\n",
       "      <td>Gloria</td>\n",
       "      <td>2013</td>\n",
       "      <td>Чили</td>\n",
       "      <td>драма</td>\n",
       "      <td>Себастьян Лелио</td>\n",
       "      <td>Себастьян Лелио</td>\n",
       "      <td>Луис Кольяр</td>\n",
       "      <td>Бенхамин Эчасаррета</td>\n",
       "      <td>...</td>\n",
       "      <td>105</td>\n",
       "      <td>1444</td>\n",
       "      <td>2059</td>\n",
       "      <td>9</td>\n",
       "      <td>69</td>\n",
       "      <td>Паулина Гарсиа</td>\n",
       "      <td>Серхио Эрнандес</td>\n",
       "      <td>Диего Фонтесилья</td>\n",
       "      <td>Фабиола Самора</td>\n",
       "      <td>Луз Хименез</td>\n",
       "    </tr>\n",
       "    <tr>\n",
       "      <th>...</th>\n",
       "      <td>...</td>\n",
       "      <td>...</td>\n",
       "      <td>...</td>\n",
       "      <td>...</td>\n",
       "      <td>...</td>\n",
       "      <td>...</td>\n",
       "      <td>...</td>\n",
       "      <td>...</td>\n",
       "      <td>...</td>\n",
       "      <td>...</td>\n",
       "      <td>...</td>\n",
       "      <td>...</td>\n",
       "      <td>...</td>\n",
       "      <td>...</td>\n",
       "      <td>...</td>\n",
       "      <td>...</td>\n",
       "      <td>...</td>\n",
       "      <td>...</td>\n",
       "      <td>...</td>\n",
       "      <td>...</td>\n",
       "      <td>...</td>\n",
       "    </tr>\n",
       "    <tr>\n",
       "      <th>22781.0</th>\n",
       "      <td>8160.0</td>\n",
       "      <td>Аэропорт</td>\n",
       "      <td>Airport</td>\n",
       "      <td>1970</td>\n",
       "      <td>США</td>\n",
       "      <td>боевик</td>\n",
       "      <td>Джордж Ситон</td>\n",
       "      <td>Джордж Ситон</td>\n",
       "      <td>Росс Хантер</td>\n",
       "      <td>Эрнест Ласло</td>\n",
       "      <td>...</td>\n",
       "      <td>217</td>\n",
       "      <td>876</td>\n",
       "      <td>2193</td>\n",
       "      <td>2</td>\n",
       "      <td>54</td>\n",
       "      <td>Берт Ланкастер</td>\n",
       "      <td>Дин Мартин</td>\n",
       "      <td>Джин Сиберг</td>\n",
       "      <td>Жаклин Биссет</td>\n",
       "      <td>Джордж Кеннеди</td>\n",
       "    </tr>\n",
       "    <tr>\n",
       "      <th>22782.0</th>\n",
       "      <td>760740.0</td>\n",
       "      <td>Макбет</td>\n",
       "      <td>Macbeth</td>\n",
       "      <td>2015</td>\n",
       "      <td>Великобритания</td>\n",
       "      <td>драма</td>\n",
       "      <td>Джастин Курзель</td>\n",
       "      <td>Тодд Луисо</td>\n",
       "      <td>Эйн Каннинг</td>\n",
       "      <td>Адам Аркпоу</td>\n",
       "      <td>...</td>\n",
       "      <td>602</td>\n",
       "      <td>2309</td>\n",
       "      <td>1165</td>\n",
       "      <td>9</td>\n",
       "      <td>10</td>\n",
       "      <td>Майкл Фассбендер</td>\n",
       "      <td>Марион Котийяр</td>\n",
       "      <td>Пэдди Консидайн</td>\n",
       "      <td>Шон Харрис</td>\n",
       "      <td>Джек Рейнор</td>\n",
       "    </tr>\n",
       "    <tr>\n",
       "      <th>22783.0</th>\n",
       "      <td>493222.0</td>\n",
       "      <td>На грани</td>\n",
       "      <td>Man on a Ledge</td>\n",
       "      <td>2012</td>\n",
       "      <td>США</td>\n",
       "      <td>триллер</td>\n",
       "      <td>Асгер Лет</td>\n",
       "      <td>Пабло Ф. Фенхвес</td>\n",
       "      <td>Лоренцо Ди Бонавентура</td>\n",
       "      <td>Пол Кэмерон</td>\n",
       "      <td>...</td>\n",
       "      <td>514</td>\n",
       "      <td>96</td>\n",
       "      <td>1081</td>\n",
       "      <td>24</td>\n",
       "      <td>54</td>\n",
       "      <td>Сэм Уортингтон</td>\n",
       "      <td>Элизабет Бэнкс</td>\n",
       "      <td>Джейми Белл</td>\n",
       "      <td>Дженезис Родригез</td>\n",
       "      <td>Эд Харрис</td>\n",
       "    </tr>\n",
       "    <tr>\n",
       "      <th>22784.0</th>\n",
       "      <td>271999.0</td>\n",
       "      <td>Запретное царство</td>\n",
       "      <td>The Forbidden Kingdom</td>\n",
       "      <td>2008</td>\n",
       "      <td>США</td>\n",
       "      <td>фэнтези</td>\n",
       "      <td>Роб Минкофф</td>\n",
       "      <td>Джон Фуско</td>\n",
       "      <td>Кэйси Сильвер</td>\n",
       "      <td>Питер Пау</td>\n",
       "      <td>...</td>\n",
       "      <td>836</td>\n",
       "      <td>296</td>\n",
       "      <td>2660</td>\n",
       "      <td>28</td>\n",
       "      <td>54</td>\n",
       "      <td>Джет Ли</td>\n",
       "      <td>Джеки Чан</td>\n",
       "      <td>Майкл Ангарано</td>\n",
       "      <td>Хуана Коллиньон</td>\n",
       "      <td>Морган Бенуа</td>\n",
       "    </tr>\n",
       "    <tr>\n",
       "      <th>22788.0</th>\n",
       "      <td>775524.0</td>\n",
       "      <td>Каникулы в Провансе</td>\n",
       "      <td>Avis de mistral</td>\n",
       "      <td>2014</td>\n",
       "      <td>Франция</td>\n",
       "      <td>семейный</td>\n",
       "      <td>Розлин Бош</td>\n",
       "      <td>Розлин Бош</td>\n",
       "      <td>Ален Голдман</td>\n",
       "      <td>Стефан Ле Парк</td>\n",
       "      <td>...</td>\n",
       "      <td>55</td>\n",
       "      <td>1491</td>\n",
       "      <td>2030</td>\n",
       "      <td>21</td>\n",
       "      <td>65</td>\n",
       "      <td>Жан Рено</td>\n",
       "      <td>Анна Гальена</td>\n",
       "      <td>Хлоя Дез</td>\n",
       "      <td>Юго Дессью</td>\n",
       "      <td>Ор Атика</td>\n",
       "    </tr>\n",
       "  </tbody>\n",
       "</table>\n",
       "<p>4910 rows × 37 columns</p>\n",
       "</div>"
      ],
      "text/plain": [
       "                id                    ru_name                    origin_name  \\\n",
       "0.0         7620.0        С феями шутки плохи          Photographing Fairies   \n",
       "1.0      1035433.0  Скуби-Ду! На Диком Западе  Scooby-Doo! Shaggy's Showdown   \n",
       "2.0       804697.0                        Оно                     It Follows   \n",
       "3.0        95341.0     Салемские вампиры (ТВ)                    Salem's Lot   \n",
       "4.0       711424.0                     Глория                         Gloria   \n",
       "...            ...                        ...                            ...   \n",
       "22781.0     8160.0                   Аэропорт                        Airport   \n",
       "22782.0   760740.0                     Макбет                        Macbeth   \n",
       "22783.0   493222.0                   На грани                 Man on a Ledge   \n",
       "22784.0   271999.0          Запретное царство          The Forbidden Kingdom   \n",
       "22788.0   775524.0        Каникулы в Провансе                Avis de mistral   \n",
       "\n",
       "         make_year         country      genres              director  \\\n",
       "0.0           1997  Великобритания     фэнтези           Ник Уиллинг   \n",
       "1.0           2017             США  мультфильм           Мэтт Питерс   \n",
       "2.0           2014             США       ужасы  Дэвид Роберт Митчелл   \n",
       "3.0           1979             США       ужасы            Тоуб Хупер   \n",
       "4.0           2013            Чили       драма       Себастьян Лелио   \n",
       "...            ...             ...         ...                   ...   \n",
       "22781.0       1970             США      боевик          Джордж Ситон   \n",
       "22782.0       2015  Великобритания       драма       Джастин Курзель   \n",
       "22783.0       2012             США     триллер             Асгер Лет   \n",
       "22784.0       2008             США     фэнтези           Роб Минкофф   \n",
       "22788.0       2014         Франция    семейный            Розлин Бош   \n",
       "\n",
       "                 scriptwriter                producer             operator  \\\n",
       "0.0             Крис Харральд          Микеле Камарда       Джон де Борман   \n",
       "1.0            Кэнди Лангдэйл            Алан Барнетт                  NaN   \n",
       "2.0      Дэвид Роберт Митчелл            Дэвид Каплан        Майк Гиулакис   \n",
       "3.0                 Пол Монаш              Анна Коттл        Джулс Бреннер   \n",
       "4.0           Себастьян Лелио             Луис Кольяр  Бенхамин Эчасаррета   \n",
       "...                       ...                     ...                  ...   \n",
       "22781.0          Джордж Ситон             Росс Хантер         Эрнест Ласло   \n",
       "22782.0            Тодд Луисо             Эйн Каннинг          Адам Аркпоу   \n",
       "22783.0      Пабло Ф. Фенхвес  Лоренцо Ди Бонавентура          Пол Кэмерон   \n",
       "22784.0            Джон Фуско           Кэйси Сильвер            Питер Пау   \n",
       "22788.0            Розлин Бош            Ален Голдман       Стефан Ле Парк   \n",
       "\n",
       "         ... music_encoded artist_encoded edit_enc genres_enc country_enc  \\\n",
       "0.0      ...          1757           1294     2550         28          10   \n",
       "1.0      ...          1135             62     2152         17          54   \n",
       "2.0      ...          1674           1341     2504         25          54   \n",
       "3.0      ...           501           1530     2306         25          54   \n",
       "4.0      ...           105           1444     2059          9          69   \n",
       "...      ...           ...            ...      ...        ...         ...   \n",
       "22781.0  ...           217            876     2193          2          54   \n",
       "22782.0  ...           602           2309     1165          9          10   \n",
       "22783.0  ...           514             96     1081         24          54   \n",
       "22784.0  ...           836            296     2660         28          54   \n",
       "22788.0  ...            55           1491     2030         21          65   \n",
       "\n",
       "                  actor_1          actor_2           actor_3  \\\n",
       "0.0          Тоби Стивенс        Эмили Вуф       Бен Кингсли   \n",
       "1.0          Фрэнк Уэлкер     Грэй Гриффин    Мэттью Лиллард   \n",
       "2.0           Майка Монро    Кейр Гилкрист   Оливия Луккарди   \n",
       "3.0            Дэвид Соул    Джеймс Мейсон       Лэнс Кервин   \n",
       "4.0        Паулина Гарсиа  Серхио Эрнандес  Диего Фонтесилья   \n",
       "...                   ...              ...               ...   \n",
       "22781.0    Берт Ланкастер       Дин Мартин       Джин Сиберг   \n",
       "22782.0  Майкл Фассбендер   Марион Котийяр   Пэдди Консидайн   \n",
       "22783.0    Сэм Уортингтон   Элизабет Бэнкс       Джейми Белл   \n",
       "22784.0           Джет Ли        Джеки Чан    Майкл Ангарано   \n",
       "22788.0          Жан Рено     Анна Гальена          Хлоя Дез   \n",
       "\n",
       "                   actor_4          actor_5  \n",
       "0.0         Фрэнсис Барбер      Филип Дэвис  \n",
       "1.0           Кейт Микуччи  Карлос Аласраки  \n",
       "2.0              Лили Сепе  Дэниэл Дзоватто  \n",
       "3.0          Бонни Беделиа         Лью Эйрз  \n",
       "4.0         Фабиола Самора      Луз Хименез  \n",
       "...                    ...              ...  \n",
       "22781.0      Жаклин Биссет   Джордж Кеннеди  \n",
       "22782.0         Шон Харрис      Джек Рейнор  \n",
       "22783.0  Дженезис Родригез        Эд Харрис  \n",
       "22784.0    Хуана Коллиньон     Морган Бенуа  \n",
       "22788.0         Юго Дессью         Ор Атика  \n",
       "\n",
       "[4910 rows x 37 columns]"
      ]
     },
     "execution_count": 309,
     "metadata": {},
     "output_type": "execute_result"
    }
   ],
   "source": [
    "df"
   ]
  },
  {
   "cell_type": "code",
   "execution_count": 310,
   "metadata": {},
   "outputs": [],
   "source": [
    "le = preprocessing.LabelEncoder()\n",
    "\n",
    "for i in range(5):\n",
    "    column_name = 'enc_actor_{}'.format(i+1)\n",
    "    df[column_name] = le.fit_transform(df['actor_{}'.format(i+1)].values.astype(str))"
   ]
  },
  {
   "cell_type": "code",
   "execution_count": 311,
   "metadata": {},
   "outputs": [
    {
     "data": {
      "text/plain": [
       "Index(['id', 'ru_name', 'origin_name', 'make_year', 'country', 'genres',\n",
       "       'director', 'scriptwriter', 'producer', 'operator', 'music', 'artist',\n",
       "       'edit', 'world_premiere', 'synopsis', 'kinopoisk_rating', 'imdb_rating',\n",
       "       'first_5_actors', 'cost', 'usa_fees', 'world_fees', 'rus_premiere',\n",
       "       'marketing', 'dir_encoded', 'scriptwriter_encoded', 'producer_encoded',\n",
       "       'operator_encoded', 'music_encoded', 'artist_encoded', 'edit_enc',\n",
       "       'genres_enc', 'country_enc', 'actor_1', 'actor_2', 'actor_3', 'actor_4',\n",
       "       'actor_5', 'enc_actor_1', 'enc_actor_2', 'enc_actor_3', 'enc_actor_4',\n",
       "       'enc_actor_5'],\n",
       "      dtype='object')"
      ]
     },
     "execution_count": 311,
     "metadata": {},
     "output_type": "execute_result"
    }
   ],
   "source": [
    "df.columns"
   ]
  },
  {
   "cell_type": "code",
   "execution_count": 312,
   "metadata": {},
   "outputs": [
    {
     "name": "stdout",
     "output_type": "stream",
     "text": [
      "R2 на обучающем наборе: 0.54\n",
      "R2 на тестовом наборе: 0.33\n",
      "MAE: 0.64\n",
      "MSE: 0.72\n"
     ]
    }
   ],
   "source": [
    "y = df['imdb_rating']\n",
    "to_drop = ['imdb_rating', 'kinopoisk_rating','ru_name', 'origin_name', 'id', 'first_5_actors','synopsis',\n",
    "          'director', 'scriptwriter', 'producer', 'operator','music','artist','edit','genres','country', \n",
    "           'world_premiere', 'synopsis', 'kinopoisk_rating', 'imdb_rating', 'rus_premiere','actor_1', \n",
    "         'actor_2', 'actor_3', 'actor_4', 'actor_5']\n",
    "\n",
    "X_train, X_test, y_train, y_test = train_test_split(df.drop(columns=to_drop), y, test_size=0.33,\n",
    "                                                        random_state=42)\n",
    "\n",
    "cat = CatBoostRegressor(max_depth=3)\n",
    "cat.fit(X_train, y_train, silent=True)\n",
    "show_metrics(cat, X_train, X_test, y_train, y_test)"
   ]
  },
  {
   "cell_type": "markdown",
   "metadata": {},
   "source": [
    "### Не очень помогло, нужен другой подход. Попробуем найти 500 самых популярный актеров, и создадим признак, где будем проставлять наличие известного актера. А лучше количество известных актеров."
   ]
  },
  {
   "cell_type": "code",
   "execution_count": 313,
   "metadata": {},
   "outputs": [],
   "source": [
    "df.drop(columns=['actor_1', 'actor_2', 'actor_3',\n",
    "       'actor_4', 'actor_5', 'enc_actor_1', 'enc_actor_2', 'enc_actor_3',\n",
    "       'enc_actor_4', 'enc_actor_5'], inplace=True)"
   ]
  },
  {
   "cell_type": "code",
   "execution_count": 314,
   "metadata": {},
   "outputs": [],
   "source": [
    "actors = []\n",
    "for lst in itertools.chain(df['first_5_actors'].astype(str).apply(split).values):\n",
    "    actors.extend(lst)"
   ]
  },
  {
   "cell_type": "code",
   "execution_count": 315,
   "metadata": {},
   "outputs": [],
   "source": [
    "from nltk import ngrams, FreqDist\n",
    "import itertools\n",
    "\n",
    "actor_freq = FreqDist(actors)"
   ]
  },
  {
   "cell_type": "code",
   "execution_count": 316,
   "metadata": {},
   "outputs": [
    {
     "data": {
      "text/plain": [
       "[(0.0, 55),\n",
       " ('Роберт Де Ниро', 22),\n",
       " ('Сэмюэл Л. Джексон', 20),\n",
       " ('Сильвестр Сталлоне', 19),\n",
       " ('Дастин Хоффман', 18),\n",
       " ('Энтони Хопкинс', 17),\n",
       " ('Джеки Чан', 17),\n",
       " ('Итан Хоук', 16),\n",
       " ('Джулия Робертс', 16),\n",
       " ('Морган Фриман', 16),\n",
       " ('Вуди Харрельсон', 16),\n",
       " ('Алек Болдуин', 16),\n",
       " ('Кристиан Слэйтер', 16),\n",
       " ('Аль Пачино', 16),\n",
       " ('Питер Фальк', 16),\n",
       " ('Киану Ривз', 15),\n",
       " ('Мишель Пфайффер', 15),\n",
       " ('Джулианна Мур', 15),\n",
       " ('Харрисон Форд', 15),\n",
       " ('Бен Кингсли', 14),\n",
       " ('Джек Николсон', 14),\n",
       " ('Мэтт Дэймон', 14),\n",
       " ('Николь Кидман', 14),\n",
       " ('Гари Олдман', 14),\n",
       " ('Брюс Уиллис', 14),\n",
       " ('Уиллем Дефо', 14)]"
      ]
     },
     "execution_count": 316,
     "metadata": {},
     "output_type": "execute_result"
    }
   ],
   "source": [
    "actor_freq.most_common(26)[0:]"
   ]
  },
  {
   "cell_type": "markdown",
   "metadata": {},
   "source": [
    "### Интересно получается. Можно взять количество фильмов с актером за \"вес\" актера и просуммировать для каждого фильма"
   ]
  },
  {
   "cell_type": "code",
   "execution_count": 321,
   "metadata": {},
   "outputs": [],
   "source": [
    "def actors_sum(current_actors):\n",
    "    actors = current_actors.split(',')\n",
    "    if not actors:\n",
    "        return 0\n",
    "    act_sum = 0\n",
    "    for actor in actors:\n",
    "        if actor == '0.0':\n",
    "            continue\n",
    "        else:\n",
    "            act_sum = act_sum + actor_freq[actor]\n",
    "    return act_sum    "
   ]
  },
  {
   "cell_type": "code",
   "execution_count": 322,
   "metadata": {},
   "outputs": [],
   "source": [
    "df['actors_sum'] = df['first_5_actors'].astype(str).apply(actors_sum)"
   ]
  },
  {
   "cell_type": "code",
   "execution_count": 323,
   "metadata": {},
   "outputs": [
    {
     "data": {
      "text/html": [
       "<div>\n",
       "<style scoped>\n",
       "    .dataframe tbody tr th:only-of-type {\n",
       "        vertical-align: middle;\n",
       "    }\n",
       "\n",
       "    .dataframe tbody tr th {\n",
       "        vertical-align: top;\n",
       "    }\n",
       "\n",
       "    .dataframe thead th {\n",
       "        text-align: right;\n",
       "    }\n",
       "</style>\n",
       "<table border=\"1\" class=\"dataframe\">\n",
       "  <thead>\n",
       "    <tr style=\"text-align: right;\">\n",
       "      <th></th>\n",
       "      <th>id</th>\n",
       "      <th>ru_name</th>\n",
       "      <th>origin_name</th>\n",
       "      <th>make_year</th>\n",
       "      <th>country</th>\n",
       "      <th>genres</th>\n",
       "      <th>director</th>\n",
       "      <th>scriptwriter</th>\n",
       "      <th>producer</th>\n",
       "      <th>operator</th>\n",
       "      <th>...</th>\n",
       "      <th>dir_encoded</th>\n",
       "      <th>scriptwriter_encoded</th>\n",
       "      <th>producer_encoded</th>\n",
       "      <th>operator_encoded</th>\n",
       "      <th>music_encoded</th>\n",
       "      <th>artist_encoded</th>\n",
       "      <th>edit_enc</th>\n",
       "      <th>genres_enc</th>\n",
       "      <th>country_enc</th>\n",
       "      <th>actors_sum</th>\n",
       "    </tr>\n",
       "  </thead>\n",
       "  <tbody>\n",
       "    <tr>\n",
       "      <th>328.0</th>\n",
       "      <td>501821.0</td>\n",
       "      <td>Заражение</td>\n",
       "      <td>Contagion</td>\n",
       "      <td>2011</td>\n",
       "      <td>ОАЭ</td>\n",
       "      <td>боевик</td>\n",
       "      <td>Стивен Содерберг</td>\n",
       "      <td>Скотт З. Бёрнс</td>\n",
       "      <td>Грегори Джейкобс</td>\n",
       "      <td>Стивен Содерберг</td>\n",
       "      <td>...</td>\n",
       "      <td>2725</td>\n",
       "      <td>2929</td>\n",
       "      <td>612</td>\n",
       "      <td>1952</td>\n",
       "      <td>1081</td>\n",
       "      <td>2406</td>\n",
       "      <td>2169</td>\n",
       "      <td>2</td>\n",
       "      <td>45</td>\n",
       "      <td>53</td>\n",
       "    </tr>\n",
       "    <tr>\n",
       "      <th>352.0</th>\n",
       "      <td>81503.0</td>\n",
       "      <td>Компаньоны</td>\n",
       "      <td>A Prairie Home Companion</td>\n",
       "      <td>2006</td>\n",
       "      <td>США</td>\n",
       "      <td>мюзикл</td>\n",
       "      <td>Роберт Олтмен</td>\n",
       "      <td>Гаррисон Кейллор</td>\n",
       "      <td>Роберт Олтмен</td>\n",
       "      <td>Эдвард Лахман</td>\n",
       "      <td>...</td>\n",
       "      <td>2453</td>\n",
       "      <td>624</td>\n",
       "      <td>2348</td>\n",
       "      <td>2306</td>\n",
       "      <td>504</td>\n",
       "      <td>796</td>\n",
       "      <td>545</td>\n",
       "      <td>18</td>\n",
       "      <td>54</td>\n",
       "      <td>55</td>\n",
       "    </tr>\n",
       "    <tr>\n",
       "      <th>394.0</th>\n",
       "      <td>4517.0</td>\n",
       "      <td>Эпидемия</td>\n",
       "      <td>Outbreak</td>\n",
       "      <td>1995</td>\n",
       "      <td>США</td>\n",
       "      <td>триллер</td>\n",
       "      <td>Вольфганг Петерсен</td>\n",
       "      <td>Лоуренс Дуорет</td>\n",
       "      <td>Гэйл Кац</td>\n",
       "      <td>Михаэль Балльхаус</td>\n",
       "      <td>...</td>\n",
       "      <td>528</td>\n",
       "      <td>1895</td>\n",
       "      <td>631</td>\n",
       "      <td>1474</td>\n",
       "      <td>617</td>\n",
       "      <td>2262</td>\n",
       "      <td>2368</td>\n",
       "      <td>24</td>\n",
       "      <td>54</td>\n",
       "      <td>56</td>\n",
       "    </tr>\n",
       "    <tr>\n",
       "      <th>786.0</th>\n",
       "      <td>854942.0</td>\n",
       "      <td>Джейсон Борн</td>\n",
       "      <td>Jason Bourne</td>\n",
       "      <td>2016</td>\n",
       "      <td>США</td>\n",
       "      <td>боевик</td>\n",
       "      <td>Пол Гринграсс</td>\n",
       "      <td>Пол Гринграсс</td>\n",
       "      <td>Мэтт Дэймон</td>\n",
       "      <td>Бэрри Экройд</td>\n",
       "      <td>...</td>\n",
       "      <td>2294</td>\n",
       "      <td>2532</td>\n",
       "      <td>1981</td>\n",
       "      <td>382</td>\n",
       "      <td>836</td>\n",
       "      <td>1750</td>\n",
       "      <td>1208</td>\n",
       "      <td>2</td>\n",
       "      <td>54</td>\n",
       "      <td>53</td>\n",
       "    </tr>\n",
       "    <tr>\n",
       "      <th>824.0</th>\n",
       "      <td>18294.0</td>\n",
       "      <td>Двенадцать друзей Оушена</td>\n",
       "      <td>Ocean's Twelve</td>\n",
       "      <td>2004</td>\n",
       "      <td>США</td>\n",
       "      <td>триллер</td>\n",
       "      <td>Стивен Содерберг</td>\n",
       "      <td>Джордж Нолфи</td>\n",
       "      <td>Брюс Берман</td>\n",
       "      <td>Стивен Содерберг</td>\n",
       "      <td>...</td>\n",
       "      <td>2725</td>\n",
       "      <td>1111</td>\n",
       "      <td>456</td>\n",
       "      <td>1952</td>\n",
       "      <td>874</td>\n",
       "      <td>2303</td>\n",
       "      <td>2169</td>\n",
       "      <td>24</td>\n",
       "      <td>54</td>\n",
       "      <td>54</td>\n",
       "    </tr>\n",
       "    <tr>\n",
       "      <th>1276.0</th>\n",
       "      <td>632.0</td>\n",
       "      <td>В чужом ряду</td>\n",
       "      <td>Changing Lanes</td>\n",
       "      <td>2002</td>\n",
       "      <td>США</td>\n",
       "      <td>триллер</td>\n",
       "      <td>Роджер Мишелл</td>\n",
       "      <td>Чэп Тейлор</td>\n",
       "      <td>Скотт Рудин</td>\n",
       "      <td>Сальваторе Тотино</td>\n",
       "      <td>...</td>\n",
       "      <td>2480</td>\n",
       "      <td>3510</td>\n",
       "      <td>2538</td>\n",
       "      <td>1847</td>\n",
       "      <td>835</td>\n",
       "      <td>1162</td>\n",
       "      <td>1210</td>\n",
       "      <td>24</td>\n",
       "      <td>54</td>\n",
       "      <td>53</td>\n",
       "    </tr>\n",
       "    <tr>\n",
       "      <th>2006.0</th>\n",
       "      <td>543838.0</td>\n",
       "      <td>Забойный реванш</td>\n",
       "      <td>Grudge Match</td>\n",
       "      <td>2013</td>\n",
       "      <td>США</td>\n",
       "      <td>драма</td>\n",
       "      <td>Питер Сигал</td>\n",
       "      <td>Тим Келлехер</td>\n",
       "      <td>Майкл Юинг</td>\n",
       "      <td>Дин Семлер</td>\n",
       "      <td>...</td>\n",
       "      <td>2276</td>\n",
       "      <td>3120</td>\n",
       "      <td>1729</td>\n",
       "      <td>817</td>\n",
       "      <td>1969</td>\n",
       "      <td>413</td>\n",
       "      <td>2361</td>\n",
       "      <td>9</td>\n",
       "      <td>54</td>\n",
       "      <td>54</td>\n",
       "    </tr>\n",
       "    <tr>\n",
       "      <th>2924.0</th>\n",
       "      <td>61439.0</td>\n",
       "      <td>Знакомство с Факерами</td>\n",
       "      <td>Meet the Fockers</td>\n",
       "      <td>2004</td>\n",
       "      <td>США</td>\n",
       "      <td>мелодрама</td>\n",
       "      <td>Джей Роуч</td>\n",
       "      <td>Джим Херцфелд</td>\n",
       "      <td>Роберт Де Ниро</td>\n",
       "      <td>Джон Шварцман</td>\n",
       "      <td>...</td>\n",
       "      <td>728</td>\n",
       "      <td>960</td>\n",
       "      <td>2331</td>\n",
       "      <td>776</td>\n",
       "      <td>1751</td>\n",
       "      <td>1799</td>\n",
       "      <td>96</td>\n",
       "      <td>15</td>\n",
       "      <td>54</td>\n",
       "      <td>59</td>\n",
       "    </tr>\n",
       "    <tr>\n",
       "      <th>2949.0</th>\n",
       "      <td>682669.0</td>\n",
       "      <td>Малавита</td>\n",
       "      <td>The Family</td>\n",
       "      <td>2013</td>\n",
       "      <td>Франция</td>\n",
       "      <td>криминал</td>\n",
       "      <td>Люк Бессон</td>\n",
       "      <td>Люк Бессон</td>\n",
       "      <td>Джейсон Бекман</td>\n",
       "      <td>Тьерри Арбогаст</td>\n",
       "      <td>...</td>\n",
       "      <td>1753</td>\n",
       "      <td>1927</td>\n",
       "      <td>733</td>\n",
       "      <td>2080</td>\n",
       "      <td>908</td>\n",
       "      <td>2621</td>\n",
       "      <td>959</td>\n",
       "      <td>14</td>\n",
       "      <td>65</td>\n",
       "      <td>53</td>\n",
       "    </tr>\n",
       "    <tr>\n",
       "      <th>2988.0</th>\n",
       "      <td>568355.0</td>\n",
       "      <td>Тайна в их глазах</td>\n",
       "      <td>Secret in Their Eyes</td>\n",
       "      <td>2015</td>\n",
       "      <td>США</td>\n",
       "      <td>триллер</td>\n",
       "      <td>Билли Рэй</td>\n",
       "      <td>Билли Рэй</td>\n",
       "      <td>Мэтт Джексон</td>\n",
       "      <td>Дэниэл Модер</td>\n",
       "      <td>...</td>\n",
       "      <td>350</td>\n",
       "      <td>400</td>\n",
       "      <td>1979</td>\n",
       "      <td>908</td>\n",
       "      <td>2206</td>\n",
       "      <td>1576</td>\n",
       "      <td>637</td>\n",
       "      <td>24</td>\n",
       "      <td>54</td>\n",
       "      <td>52</td>\n",
       "    </tr>\n",
       "    <tr>\n",
       "      <th>6381.0</th>\n",
       "      <td>639.0</td>\n",
       "      <td>Последнее дело Ламарки</td>\n",
       "      <td>City by the Sea</td>\n",
       "      <td>2002</td>\n",
       "      <td>США</td>\n",
       "      <td>триллер</td>\n",
       "      <td>Майкл Кейтон-Джонс</td>\n",
       "      <td>Кен Хиксон</td>\n",
       "      <td>Мэттью Баэр</td>\n",
       "      <td>Карл Вальтер Линденлауб</td>\n",
       "      <td>...</td>\n",
       "      <td>1810</td>\n",
       "      <td>1579</td>\n",
       "      <td>1984</td>\n",
       "      <td>1069</td>\n",
       "      <td>724</td>\n",
       "      <td>618</td>\n",
       "      <td>631</td>\n",
       "      <td>24</td>\n",
       "      <td>54</td>\n",
       "      <td>53</td>\n",
       "    </tr>\n",
       "    <tr>\n",
       "      <th>6406.0</th>\n",
       "      <td>696813.0</td>\n",
       "      <td>Неудержимые 3</td>\n",
       "      <td>The Expendables 3</td>\n",
       "      <td>2014</td>\n",
       "      <td>США</td>\n",
       "      <td>боевик</td>\n",
       "      <td>Патрик Хьюз</td>\n",
       "      <td>Сильвестр Сталлоне</td>\n",
       "      <td>Ави Лернер</td>\n",
       "      <td>Питер Мензиес мл.</td>\n",
       "      <td>...</td>\n",
       "      <td>2222</td>\n",
       "      <td>2903</td>\n",
       "      <td>102</td>\n",
       "      <td>1640</td>\n",
       "      <td>360</td>\n",
       "      <td>869</td>\n",
       "      <td>2549</td>\n",
       "      <td>2</td>\n",
       "      <td>54</td>\n",
       "      <td>63</td>\n",
       "    </tr>\n",
       "    <tr>\n",
       "      <th>7881.0</th>\n",
       "      <td>4518.0</td>\n",
       "      <td>Билли Батгейт</td>\n",
       "      <td>Billy Bathgate</td>\n",
       "      <td>1991</td>\n",
       "      <td>США</td>\n",
       "      <td>триллер</td>\n",
       "      <td>Роберт Бентон</td>\n",
       "      <td>Том Стоппард</td>\n",
       "      <td>Роберт Ф. Коулсберри</td>\n",
       "      <td>Нестор Альмендрос</td>\n",
       "      <td>...</td>\n",
       "      <td>2439</td>\n",
       "      <td>3163</td>\n",
       "      <td>2355</td>\n",
       "      <td>1520</td>\n",
       "      <td>1326</td>\n",
       "      <td>1702</td>\n",
       "      <td>102</td>\n",
       "      <td>24</td>\n",
       "      <td>54</td>\n",
       "      <td>51</td>\n",
       "    </tr>\n",
       "    <tr>\n",
       "      <th>21121.0</th>\n",
       "      <td>770.0</td>\n",
       "      <td>Одиннадцать друзей Оушена</td>\n",
       "      <td>Ocean's Eleven</td>\n",
       "      <td>2001</td>\n",
       "      <td>США</td>\n",
       "      <td>триллер</td>\n",
       "      <td>Стивен Содерберг</td>\n",
       "      <td>Гарри Браун</td>\n",
       "      <td>Брюс Берман</td>\n",
       "      <td>Стивен Содерберг</td>\n",
       "      <td>...</td>\n",
       "      <td>2725</td>\n",
       "      <td>622</td>\n",
       "      <td>456</td>\n",
       "      <td>1952</td>\n",
       "      <td>874</td>\n",
       "      <td>2303</td>\n",
       "      <td>2169</td>\n",
       "      <td>24</td>\n",
       "      <td>54</td>\n",
       "      <td>59</td>\n",
       "    </tr>\n",
       "    <tr>\n",
       "      <th>21647.0</th>\n",
       "      <td>1059.0</td>\n",
       "      <td>Амистад</td>\n",
       "      <td>Amistad</td>\n",
       "      <td>1997</td>\n",
       "      <td>США</td>\n",
       "      <td>драма</td>\n",
       "      <td>Стивен Спилберг</td>\n",
       "      <td>Дэвид Францони</td>\n",
       "      <td>Дебби Аллен</td>\n",
       "      <td>Януш Камински</td>\n",
       "      <td>...</td>\n",
       "      <td>2727</td>\n",
       "      <td>1247</td>\n",
       "      <td>656</td>\n",
       "      <td>2454</td>\n",
       "      <td>738</td>\n",
       "      <td>1817</td>\n",
       "      <td>1394</td>\n",
       "      <td>9</td>\n",
       "      <td>54</td>\n",
       "      <td>52</td>\n",
       "    </tr>\n",
       "    <tr>\n",
       "      <th>22286.0</th>\n",
       "      <td>835877.0</td>\n",
       "      <td>Телохранитель киллера</td>\n",
       "      <td>The Hitman's Bodyguard</td>\n",
       "      <td>2017</td>\n",
       "      <td>США</td>\n",
       "      <td>боевик</td>\n",
       "      <td>Патрик Хьюз</td>\n",
       "      <td>Том О’Коннор</td>\n",
       "      <td>Марк Гилл</td>\n",
       "      <td>Джулс О’Лафлин</td>\n",
       "      <td>...</td>\n",
       "      <td>2222</td>\n",
       "      <td>3157</td>\n",
       "      <td>1789</td>\n",
       "      <td>805</td>\n",
       "      <td>293</td>\n",
       "      <td>1796</td>\n",
       "      <td>544</td>\n",
       "      <td>2</td>\n",
       "      <td>54</td>\n",
       "      <td>55</td>\n",
       "    </tr>\n",
       "    <tr>\n",
       "      <th>22400.0</th>\n",
       "      <td>837737.0</td>\n",
       "      <td>Сиротский Бруклин</td>\n",
       "      <td>Motherless Brooklyn</td>\n",
       "      <td>2019</td>\n",
       "      <td>США</td>\n",
       "      <td>драма</td>\n",
       "      <td>Эдвард Нортон</td>\n",
       "      <td>Эдвард Нортон</td>\n",
       "      <td>Адриан Альперович</td>\n",
       "      <td>Дик Поуп</td>\n",
       "      <td>...</td>\n",
       "      <td>3223</td>\n",
       "      <td>3568</td>\n",
       "      <td>119</td>\n",
       "      <td>811</td>\n",
       "      <td>896</td>\n",
       "      <td>292</td>\n",
       "      <td>648</td>\n",
       "      <td>9</td>\n",
       "      <td>54</td>\n",
       "      <td>54</td>\n",
       "    </tr>\n",
       "    <tr>\n",
       "      <th>22565.0</th>\n",
       "      <td>1884.0</td>\n",
       "      <td>Комната Марвина</td>\n",
       "      <td>Marvin's Room</td>\n",
       "      <td>1996</td>\n",
       "      <td>США</td>\n",
       "      <td>драма</td>\n",
       "      <td>Джерри Цакс</td>\n",
       "      <td>Скотт МакФерсон</td>\n",
       "      <td>Роберт Де Ниро</td>\n",
       "      <td>Пётр Собочиньский</td>\n",
       "      <td>...</td>\n",
       "      <td>814</td>\n",
       "      <td>2931</td>\n",
       "      <td>2331</td>\n",
       "      <td>1684</td>\n",
       "      <td>1750</td>\n",
       "      <td>826</td>\n",
       "      <td>631</td>\n",
       "      <td>9</td>\n",
       "      <td>54</td>\n",
       "      <td>52</td>\n",
       "    </tr>\n",
       "  </tbody>\n",
       "</table>\n",
       "<p>18 rows × 33 columns</p>\n",
       "</div>"
      ],
      "text/plain": [
       "               id                    ru_name               origin_name  \\\n",
       "328.0    501821.0                  Заражение                 Contagion   \n",
       "352.0     81503.0                 Компаньоны  A Prairie Home Companion   \n",
       "394.0      4517.0                   Эпидемия                  Outbreak   \n",
       "786.0    854942.0               Джейсон Борн              Jason Bourne   \n",
       "824.0     18294.0   Двенадцать друзей Оушена            Ocean's Twelve   \n",
       "1276.0      632.0               В чужом ряду            Changing Lanes   \n",
       "2006.0   543838.0            Забойный реванш              Grudge Match   \n",
       "2924.0    61439.0      Знакомство с Факерами          Meet the Fockers   \n",
       "2949.0   682669.0                   Малавита                The Family   \n",
       "2988.0   568355.0          Тайна в их глазах      Secret in Their Eyes   \n",
       "6381.0      639.0     Последнее дело Ламарки           City by the Sea   \n",
       "6406.0   696813.0              Неудержимые 3         The Expendables 3   \n",
       "7881.0     4518.0              Билли Батгейт            Billy Bathgate   \n",
       "21121.0     770.0  Одиннадцать друзей Оушена            Ocean's Eleven   \n",
       "21647.0    1059.0                    Амистад                   Amistad   \n",
       "22286.0  835877.0      Телохранитель киллера    The Hitman's Bodyguard   \n",
       "22400.0  837737.0          Сиротский Бруклин       Motherless Brooklyn   \n",
       "22565.0    1884.0            Комната Марвина             Marvin's Room   \n",
       "\n",
       "         make_year  country     genres            director  \\\n",
       "328.0         2011      ОАЭ     боевик    Стивен Содерберг   \n",
       "352.0         2006      США     мюзикл       Роберт Олтмен   \n",
       "394.0         1995      США    триллер  Вольфганг Петерсен   \n",
       "786.0         2016      США     боевик       Пол Гринграсс   \n",
       "824.0         2004      США    триллер    Стивен Содерберг   \n",
       "1276.0        2002      США    триллер       Роджер Мишелл   \n",
       "2006.0        2013      США      драма         Питер Сигал   \n",
       "2924.0        2004      США  мелодрама           Джей Роуч   \n",
       "2949.0        2013  Франция   криминал          Люк Бессон   \n",
       "2988.0        2015      США    триллер           Билли Рэй   \n",
       "6381.0        2002      США    триллер  Майкл Кейтон-Джонс   \n",
       "6406.0        2014      США     боевик         Патрик Хьюз   \n",
       "7881.0        1991      США    триллер       Роберт Бентон   \n",
       "21121.0       2001      США    триллер    Стивен Содерберг   \n",
       "21647.0       1997      США      драма     Стивен Спилберг   \n",
       "22286.0       2017      США     боевик         Патрик Хьюз   \n",
       "22400.0       2019      США      драма       Эдвард Нортон   \n",
       "22565.0       1996      США      драма         Джерри Цакс   \n",
       "\n",
       "               scriptwriter              producer                 operator  \\\n",
       "328.0        Скотт З. Бёрнс      Грегори Джейкобс         Стивен Содерберг   \n",
       "352.0      Гаррисон Кейллор         Роберт Олтмен            Эдвард Лахман   \n",
       "394.0        Лоуренс Дуорет              Гэйл Кац        Михаэль Балльхаус   \n",
       "786.0         Пол Гринграсс           Мэтт Дэймон             Бэрри Экройд   \n",
       "824.0          Джордж Нолфи           Брюс Берман         Стивен Содерберг   \n",
       "1276.0           Чэп Тейлор           Скотт Рудин        Сальваторе Тотино   \n",
       "2006.0         Тим Келлехер            Майкл Юинг               Дин Семлер   \n",
       "2924.0        Джим Херцфелд        Роберт Де Ниро            Джон Шварцман   \n",
       "2949.0           Люк Бессон        Джейсон Бекман          Тьерри Арбогаст   \n",
       "2988.0            Билли Рэй          Мэтт Джексон             Дэниэл Модер   \n",
       "6381.0           Кен Хиксон           Мэттью Баэр  Карл Вальтер Линденлауб   \n",
       "6406.0   Сильвестр Сталлоне            Ави Лернер        Питер Мензиес мл.   \n",
       "7881.0         Том Стоппард  Роберт Ф. Коулсберри        Нестор Альмендрос   \n",
       "21121.0         Гарри Браун           Брюс Берман         Стивен Содерберг   \n",
       "21647.0      Дэвид Францони           Дебби Аллен            Януш Камински   \n",
       "22286.0        Том О’Коннор             Марк Гилл           Джулс О’Лафлин   \n",
       "22400.0       Эдвард Нортон     Адриан Альперович                 Дик Поуп   \n",
       "22565.0     Скотт МакФерсон        Роберт Де Ниро        Пётр Собочиньский   \n",
       "\n",
       "         ... dir_encoded scriptwriter_encoded producer_encoded  \\\n",
       "328.0    ...        2725                 2929              612   \n",
       "352.0    ...        2453                  624             2348   \n",
       "394.0    ...         528                 1895              631   \n",
       "786.0    ...        2294                 2532             1981   \n",
       "824.0    ...        2725                 1111              456   \n",
       "1276.0   ...        2480                 3510             2538   \n",
       "2006.0   ...        2276                 3120             1729   \n",
       "2924.0   ...         728                  960             2331   \n",
       "2949.0   ...        1753                 1927              733   \n",
       "2988.0   ...         350                  400             1979   \n",
       "6381.0   ...        1810                 1579             1984   \n",
       "6406.0   ...        2222                 2903              102   \n",
       "7881.0   ...        2439                 3163             2355   \n",
       "21121.0  ...        2725                  622              456   \n",
       "21647.0  ...        2727                 1247              656   \n",
       "22286.0  ...        2222                 3157             1789   \n",
       "22400.0  ...        3223                 3568              119   \n",
       "22565.0  ...         814                 2931             2331   \n",
       "\n",
       "        operator_encoded music_encoded  artist_encoded  edit_enc genres_enc  \\\n",
       "328.0               1952          1081            2406      2169          2   \n",
       "352.0               2306           504             796       545         18   \n",
       "394.0               1474           617            2262      2368         24   \n",
       "786.0                382           836            1750      1208          2   \n",
       "824.0               1952           874            2303      2169         24   \n",
       "1276.0              1847           835            1162      1210         24   \n",
       "2006.0               817          1969             413      2361          9   \n",
       "2924.0               776          1751            1799        96         15   \n",
       "2949.0              2080           908            2621       959         14   \n",
       "2988.0               908          2206            1576       637         24   \n",
       "6381.0              1069           724             618       631         24   \n",
       "6406.0              1640           360             869      2549          2   \n",
       "7881.0              1520          1326            1702       102         24   \n",
       "21121.0             1952           874            2303      2169         24   \n",
       "21647.0             2454           738            1817      1394          9   \n",
       "22286.0              805           293            1796       544          2   \n",
       "22400.0              811           896             292       648          9   \n",
       "22565.0             1684          1750             826       631          9   \n",
       "\n",
       "         country_enc  actors_sum  \n",
       "328.0             45          53  \n",
       "352.0             54          55  \n",
       "394.0             54          56  \n",
       "786.0             54          53  \n",
       "824.0             54          54  \n",
       "1276.0            54          53  \n",
       "2006.0            54          54  \n",
       "2924.0            54          59  \n",
       "2949.0            65          53  \n",
       "2988.0            54          52  \n",
       "6381.0            54          53  \n",
       "6406.0            54          63  \n",
       "7881.0            54          51  \n",
       "21121.0           54          59  \n",
       "21647.0           54          52  \n",
       "22286.0           54          55  \n",
       "22400.0           54          54  \n",
       "22565.0           54          52  \n",
       "\n",
       "[18 rows x 33 columns]"
      ]
     },
     "execution_count": 323,
     "metadata": {},
     "output_type": "execute_result"
    }
   ],
   "source": [
    "df[df['actors_sum'] > 50]"
   ]
  },
  {
   "cell_type": "code",
   "execution_count": 324,
   "metadata": {},
   "outputs": [
    {
     "data": {
      "text/plain": [
       "<AxesSubplot:xlabel='actors_sum', ylabel='imdb_rating'>"
      ]
     },
     "execution_count": 324,
     "metadata": {},
     "output_type": "execute_result"
    },
    {
     "data": {
      "image/png": "[encoded data removed]",
      "text/plain": [
       "<Figure size 720x720 with 1 Axes>"
      ]
     },
     "metadata": {
      "needs_background": "light"
     },
     "output_type": "display_data"
    }
   ],
   "source": [
    "plt.figure(figsize=(10,10))\n",
    "sns.scatterplot(data=df, y='imdb_rating', x='actors_sum')"
   ]
  },
  {
   "cell_type": "markdown",
   "metadata": {},
   "source": [
    "### Ну, что-то немного похожее на линейную зависимость"
   ]
  },
  {
   "cell_type": "code",
   "execution_count": 325,
   "metadata": {},
   "outputs": [
    {
     "data": {
      "text/plain": [
       "<AxesSubplot:xlabel='imdb_rating', ylabel='actors_sum'>"
      ]
     },
     "execution_count": 325,
     "metadata": {},
     "output_type": "execute_result"
    },
    {
     "data": {
      "image/png": "[encoded data removed]",
      "text/plain": [
       "<Figure size 720x720 with 1 Axes>"
      ]
     },
     "metadata": {
      "needs_background": "light"
     },
     "output_type": "display_data"
    }
   ],
   "source": [
    "plt.figure(figsize=(10,10))\n",
    "sns.scatterplot(data=df, y='actors_sum', x='imdb_rating')"
   ]
  },
  {
   "cell_type": "code",
   "execution_count": 361,
   "metadata": {},
   "outputs": [
    {
     "data": {
      "text/html": [
       "<div>\n",
       "<style scoped>\n",
       "    .dataframe tbody tr th:only-of-type {\n",
       "        vertical-align: middle;\n",
       "    }\n",
       "\n",
       "    .dataframe tbody tr th {\n",
       "        vertical-align: top;\n",
       "    }\n",
       "\n",
       "    .dataframe thead th {\n",
       "        text-align: right;\n",
       "    }\n",
       "</style>\n",
       "<table border=\"1\" class=\"dataframe\">\n",
       "  <thead>\n",
       "    <tr style=\"text-align: right;\">\n",
       "      <th></th>\n",
       "      <th>make_year</th>\n",
       "      <th>cost</th>\n",
       "      <th>usa_fees</th>\n",
       "      <th>world_fees</th>\n",
       "      <th>marketing</th>\n",
       "      <th>dir_encoded</th>\n",
       "      <th>scriptwriter_encoded</th>\n",
       "      <th>producer_encoded</th>\n",
       "      <th>operator_encoded</th>\n",
       "      <th>music_encoded</th>\n",
       "      <th>artist_encoded</th>\n",
       "      <th>edit_enc</th>\n",
       "      <th>genres_enc</th>\n",
       "      <th>country_enc</th>\n",
       "      <th>actors_sum</th>\n",
       "      <th>synopsis_norm</th>\n",
       "    </tr>\n",
       "  </thead>\n",
       "  <tbody>\n",
       "    <tr>\n",
       "      <th>0.0</th>\n",
       "      <td>1997</td>\n",
       "      <td>0.0</td>\n",
       "      <td>0.0</td>\n",
       "      <td>0.0</td>\n",
       "      <td>0.0</td>\n",
       "      <td>2093</td>\n",
       "      <td>1697</td>\n",
       "      <td>1890</td>\n",
       "      <td>778</td>\n",
       "      <td>1757</td>\n",
       "      <td>1294</td>\n",
       "      <td>2550</td>\n",
       "      <td>28</td>\n",
       "      <td>10</td>\n",
       "      <td>20</td>\n",
       "      <td>фотограф,чарльз,касл,тяжело,переживать,утрата,...</td>\n",
       "    </tr>\n",
       "    <tr>\n",
       "      <th>1.0</th>\n",
       "      <td>2017</td>\n",
       "      <td>0.0</td>\n",
       "      <td>0.0</td>\n",
       "      <td>0.0</td>\n",
       "      <td>0.0</td>\n",
       "      <td>2051</td>\n",
       "      <td>1773</td>\n",
       "      <td>135</td>\n",
       "      <td>40</td>\n",
       "      <td>1135</td>\n",
       "      <td>62</td>\n",
       "      <td>2152</td>\n",
       "      <td>17</td>\n",
       "      <td>54</td>\n",
       "      <td>35</td>\n",
       "      <td>главный,герой,отправляться,уникальный,место,на...</td>\n",
       "    </tr>\n",
       "    <tr>\n",
       "      <th>2.0</th>\n",
       "      <td>2014</td>\n",
       "      <td>2000000.0</td>\n",
       "      <td>14674076.0</td>\n",
       "      <td>21729511.0</td>\n",
       "      <td>0.0</td>\n",
       "      <td>1154</td>\n",
       "      <td>1234</td>\n",
       "      <td>1086</td>\n",
       "      <td>1304</td>\n",
       "      <td>1674</td>\n",
       "      <td>1341</td>\n",
       "      <td>2504</td>\n",
       "      <td>25</td>\n",
       "      <td>54</td>\n",
       "      <td>10</td>\n",
       "      <td>сексуальный,связь,19,летний,девушка,имя,джей,н...</td>\n",
       "    </tr>\n",
       "    <tr>\n",
       "      <th>3.0</th>\n",
       "      <td>1979</td>\n",
       "      <td>4000000.0</td>\n",
       "      <td>0.0</td>\n",
       "      <td>0.0</td>\n",
       "      <td>0.0</td>\n",
       "      <td>2905</td>\n",
       "      <td>2538</td>\n",
       "      <td>267</td>\n",
       "      <td>804</td>\n",
       "      <td>501</td>\n",
       "      <td>1530</td>\n",
       "      <td>2306</td>\n",
       "      <td>25</td>\n",
       "      <td>54</td>\n",
       "      <td>13</td>\n",
       "      <td>бен,мейрс,успешный,романист,возвращаться,домой...</td>\n",
       "    </tr>\n",
       "    <tr>\n",
       "      <th>4.0</th>\n",
       "      <td>2013</td>\n",
       "      <td>0.0</td>\n",
       "      <td>2107925.0</td>\n",
       "      <td>6461559.0</td>\n",
       "      <td>0.0</td>\n",
       "      <td>2589</td>\n",
       "      <td>2853</td>\n",
       "      <td>1624</td>\n",
       "      <td>303</td>\n",
       "      <td>105</td>\n",
       "      <td>1444</td>\n",
       "      <td>2059</td>\n",
       "      <td>9</td>\n",
       "      <td>69</td>\n",
       "      <td>5</td>\n",
       "      <td>58,летний,развести,женщина,начинать,скучать,ре...</td>\n",
       "    </tr>\n",
       "    <tr>\n",
       "      <th>...</th>\n",
       "      <td>...</td>\n",
       "      <td>...</td>\n",
       "      <td>...</td>\n",
       "      <td>...</td>\n",
       "      <td>...</td>\n",
       "      <td>...</td>\n",
       "      <td>...</td>\n",
       "      <td>...</td>\n",
       "      <td>...</td>\n",
       "      <td>...</td>\n",
       "      <td>...</td>\n",
       "      <td>...</td>\n",
       "      <td>...</td>\n",
       "      <td>...</td>\n",
       "      <td>...</td>\n",
       "      <td>...</td>\n",
       "    </tr>\n",
       "    <tr>\n",
       "      <th>22781.0</th>\n",
       "      <td>1970</td>\n",
       "      <td>10000000.0</td>\n",
       "      <td>100489151.0</td>\n",
       "      <td>100489151.0</td>\n",
       "      <td>0.0</td>\n",
       "      <td>1009</td>\n",
       "      <td>1113</td>\n",
       "      <td>2405</td>\n",
       "      <td>2395</td>\n",
       "      <td>217</td>\n",
       "      <td>876</td>\n",
       "      <td>2193</td>\n",
       "      <td>2</td>\n",
       "      <td>54</td>\n",
       "      <td>16</td>\n",
       "      <td>похоже,начальник,международный,аэропорт,линкол...</td>\n",
       "    </tr>\n",
       "    <tr>\n",
       "      <th>22782.0</th>\n",
       "      <td>2015</td>\n",
       "      <td>15000000.0</td>\n",
       "      <td>1110707.0</td>\n",
       "      <td>16322067.0</td>\n",
       "      <td>0.0</td>\n",
       "      <td>715</td>\n",
       "      <td>3143</td>\n",
       "      <td>3110</td>\n",
       "      <td>62</td>\n",
       "      <td>602</td>\n",
       "      <td>2309</td>\n",
       "      <td>1165</td>\n",
       "      <td>9</td>\n",
       "      <td>10</td>\n",
       "      <td>26</td>\n",
       "      <td>холодное,поле,шотландия,военный,лагерь,готовый...</td>\n",
       "    </tr>\n",
       "    <tr>\n",
       "      <th>22783.0</th>\n",
       "      <td>2012</td>\n",
       "      <td>42000000.0</td>\n",
       "      <td>18620000.0</td>\n",
       "      <td>47636031.0</td>\n",
       "      <td>0.0</td>\n",
       "      <td>275</td>\n",
       "      <td>2418</td>\n",
       "      <td>1601</td>\n",
       "      <td>1661</td>\n",
       "      <td>514</td>\n",
       "      <td>96</td>\n",
       "      <td>1081</td>\n",
       "      <td>24</td>\n",
       "      <td>54</td>\n",
       "      <td>26</td>\n",
       "      <td>экс,полицейский,обвинять,преступление,который,...</td>\n",
       "    </tr>\n",
       "    <tr>\n",
       "      <th>22784.0</th>\n",
       "      <td>2008</td>\n",
       "      <td>55000000.0</td>\n",
       "      <td>52075270.0</td>\n",
       "      <td>127980002.0</td>\n",
       "      <td>0.0</td>\n",
       "      <td>2431</td>\n",
       "      <td>1067</td>\n",
       "      <td>1493</td>\n",
       "      <td>1642</td>\n",
       "      <td>836</td>\n",
       "      <td>296</td>\n",
       "      <td>2660</td>\n",
       "      <td>28</td>\n",
       "      <td>54</td>\n",
       "      <td>36</td>\n",
       "      <td>американский,подросток,джейсон,основательно,по...</td>\n",
       "    </tr>\n",
       "    <tr>\n",
       "      <th>22788.0</th>\n",
       "      <td>2014</td>\n",
       "      <td>0.0</td>\n",
       "      <td>0.0</td>\n",
       "      <td>0.0</td>\n",
       "      <td>0.0</td>\n",
       "      <td>2495</td>\n",
       "      <td>2739</td>\n",
       "      <td>182</td>\n",
       "      <td>1927</td>\n",
       "      <td>55</td>\n",
       "      <td>1491</td>\n",
       "      <td>2030</td>\n",
       "      <td>21</td>\n",
       "      <td>65</td>\n",
       "      <td>17</td>\n",
       "      <td>лиа,адриен,рождение,глухой,младший,брат,тео,от...</td>\n",
       "    </tr>\n",
       "  </tbody>\n",
       "</table>\n",
       "<p>4910 rows × 16 columns</p>\n",
       "</div>"
      ],
      "text/plain": [
       "         make_year        cost     usa_fees   world_fees  marketing  \\\n",
       "0.0           1997         0.0          0.0          0.0        0.0   \n",
       "1.0           2017         0.0          0.0          0.0        0.0   \n",
       "2.0           2014   2000000.0   14674076.0   21729511.0        0.0   \n",
       "3.0           1979   4000000.0          0.0          0.0        0.0   \n",
       "4.0           2013         0.0    2107925.0    6461559.0        0.0   \n",
       "...            ...         ...          ...          ...        ...   \n",
       "22781.0       1970  10000000.0  100489151.0  100489151.0        0.0   \n",
       "22782.0       2015  15000000.0    1110707.0   16322067.0        0.0   \n",
       "22783.0       2012  42000000.0   18620000.0   47636031.0        0.0   \n",
       "22784.0       2008  55000000.0   52075270.0  127980002.0        0.0   \n",
       "22788.0       2014         0.0          0.0          0.0        0.0   \n",
       "\n",
       "         dir_encoded  scriptwriter_encoded  producer_encoded  \\\n",
       "0.0             2093                  1697              1890   \n",
       "1.0             2051                  1773               135   \n",
       "2.0             1154                  1234              1086   \n",
       "3.0             2905                  2538               267   \n",
       "4.0             2589                  2853              1624   \n",
       "...              ...                   ...               ...   \n",
       "22781.0         1009                  1113              2405   \n",
       "22782.0          715                  3143              3110   \n",
       "22783.0          275                  2418              1601   \n",
       "22784.0         2431                  1067              1493   \n",
       "22788.0         2495                  2739               182   \n",
       "\n",
       "         operator_encoded  music_encoded  artist_encoded  edit_enc  \\\n",
       "0.0                   778           1757            1294      2550   \n",
       "1.0                    40           1135              62      2152   \n",
       "2.0                  1304           1674            1341      2504   \n",
       "3.0                   804            501            1530      2306   \n",
       "4.0                   303            105            1444      2059   \n",
       "...                   ...            ...             ...       ...   \n",
       "22781.0              2395            217             876      2193   \n",
       "22782.0                62            602            2309      1165   \n",
       "22783.0              1661            514              96      1081   \n",
       "22784.0              1642            836             296      2660   \n",
       "22788.0              1927             55            1491      2030   \n",
       "\n",
       "         genres_enc  country_enc  actors_sum  \\\n",
       "0.0              28           10          20   \n",
       "1.0              17           54          35   \n",
       "2.0              25           54          10   \n",
       "3.0              25           54          13   \n",
       "4.0               9           69           5   \n",
       "...             ...          ...         ...   \n",
       "22781.0           2           54          16   \n",
       "22782.0           9           10          26   \n",
       "22783.0          24           54          26   \n",
       "22784.0          28           54          36   \n",
       "22788.0          21           65          17   \n",
       "\n",
       "                                             synopsis_norm  \n",
       "0.0      фотограф,чарльз,касл,тяжело,переживать,утрата,...  \n",
       "1.0      главный,герой,отправляться,уникальный,место,на...  \n",
       "2.0      сексуальный,связь,19,летний,девушка,имя,джей,н...  \n",
       "3.0      бен,мейрс,успешный,романист,возвращаться,домой...  \n",
       "4.0      58,летний,развести,женщина,начинать,скучать,ре...  \n",
       "...                                                    ...  \n",
       "22781.0  похоже,начальник,международный,аэропорт,линкол...  \n",
       "22782.0  холодное,поле,шотландия,военный,лагерь,готовый...  \n",
       "22783.0  экс,полицейский,обвинять,преступление,который,...  \n",
       "22784.0  американский,подросток,джейсон,основательно,по...  \n",
       "22788.0  лиа,адриен,рождение,глухой,младший,брат,тео,от...  \n",
       "\n",
       "[4910 rows x 16 columns]"
      ]
     },
     "execution_count": 361,
     "metadata": {},
     "output_type": "execute_result"
    }
   ],
   "source": [
    "df.drop(columns=to_drop)"
   ]
  },
  {
   "cell_type": "code",
   "execution_count": 329,
   "metadata": {},
   "outputs": [
    {
     "name": "stdout",
     "output_type": "stream",
     "text": [
      "R2 на обучающем наборе: 0.52\n",
      "R2 на тестовом наборе: 0.35\n",
      "MAE: 0.64\n",
      "MSE: 0.70\n"
     ]
    }
   ],
   "source": [
    "y = df['imdb_rating']\n",
    "to_drop = ['imdb_rating', 'kinopoisk_rating','ru_name', 'origin_name', 'id', 'first_5_actors','synopsis',\n",
    "          'director', 'scriptwriter', 'producer', 'operator','music','artist','edit','genres','country', 'world_premiere', 'synopsis', 'kinopoisk_rating', 'imdb_rating',\n",
    "        'rus_premiere']\n",
    "\n",
    "X_train, X_test, y_train, y_test = train_test_split(df.drop(columns=to_drop), y, test_size=0.33,\n",
    "                                                        random_state=42)\n",
    "\n",
    "cat = CatBoostRegressor(max_depth=3)\n",
    "cat.fit(X_train, y_train, silent=True)\n",
    "show_metrics(cat, X_train, X_test, y_train, y_test)"
   ]
  },
  {
   "cell_type": "code",
   "execution_count": 330,
   "metadata": {
    "pycharm": {
     "name": "#%%\n"
    }
   },
   "outputs": [
    {
     "data": {
      "text/plain": [
       "<AxesSubplot:>"
      ]
     },
     "execution_count": 330,
     "metadata": {},
     "output_type": "execute_result"
    },
    {
     "data": {
      "image/png": "[encoded data removed]",
      "text/plain": [
       "<Figure size 720x720 with 1 Axes>"
      ]
     },
     "metadata": {
      "needs_background": "light"
     },
     "output_type": "display_data"
    }
   ],
   "source": [
    "plt.figure(figsize=(10,10))\n",
    "sns.barplot(x=cat.feature_importances_, y = X_train.columns)"
   ]
  },
  {
   "cell_type": "markdown",
   "metadata": {},
   "source": [
    "### Идея казалась хорошей..."
   ]
  },
  {
   "cell_type": "markdown",
   "metadata": {},
   "source": [
    "### Ну а теперь посмотрим, что можно сделать с описанием фильмов"
   ]
  },
  {
   "cell_type": "code",
   "execution_count": 332,
   "metadata": {
    "pycharm": {
     "name": "#%%\n"
    }
   },
   "outputs": [
    {
     "data": {
      "text/plain": [
       "0.0    Фотограф Чарльз Касл тяжело переживает утрату ...\n",
       "1.0    Главные герои отправляются в уникальное место ...\n",
       "2.0    После сексуальной связи 19-летнюю девушку по и...\n",
       "3.0    Бен Мейрс, успешный романист, возвращается дом...\n",
       "4.0    58-летняя разведенная женщина начинает скучать...\n",
       "Name: synopsis, dtype: object"
      ]
     },
     "execution_count": 332,
     "metadata": {},
     "output_type": "execute_result"
    }
   ],
   "source": [
    "df['synopsis'].head()"
   ]
  },
  {
   "cell_type": "code",
   "execution_count": 333,
   "metadata": {
    "pycharm": {
     "name": "#%%\n"
    }
   },
   "outputs": [],
   "source": [
    "from nltk.tokenize import RegexpTokenizer\n",
    "import pymorphy2\n",
    "from nltk.corpus import stopwords\n",
    "\n",
    "tokenizer = RegexpTokenizer(r'\\w+')\n",
    "morph = pymorphy2.MorphAnalyzer()   \n",
    "\n",
    "def normalize(doc):\n",
    "    tokens = tokenizer.tokenize(doc)\n",
    "    tokens = [x.lower() for x in tokens]\n",
    "    tokens = [x for x in tokens if x not in stopwords.words('russian')]\n",
    "    tokens = [morph.normal_forms(x)[0] for x in tokens]\n",
    "    return ','.join(tokens)"
   ]
  },
  {
   "cell_type": "code",
   "execution_count": 334,
   "metadata": {
    "pycharm": {
     "name": "#%%\n"
    }
   },
   "outputs": [],
   "source": [
    "df['synopsis_norm'] = df['synopsis'].astype(str).apply(normalize)"
   ]
  },
  {
   "cell_type": "code",
   "execution_count": 362,
   "metadata": {
    "pycharm": {
     "name": "#%%\n"
    }
   },
   "outputs": [
    {
     "data": {
      "text/plain": [
       "(4910, 22262)"
      ]
     },
     "execution_count": 362,
     "metadata": {},
     "output_type": "execute_result"
    }
   ],
   "source": [
    "from sklearn.feature_extraction.text import TfidfVectorizer\n",
    "\n",
    "vectorizer = TfidfVectorizer(norm=None)\n",
    "matrix = vectorizer.fit_transform(df['synopsis_norm']).todense()\n",
    "matrix.shape"
   ]
  },
  {
   "cell_type": "code",
   "execution_count": 336,
   "metadata": {
    "pycharm": {
     "name": "#%%\n"
    }
   },
   "outputs": [],
   "source": [
    "word_df = pd.DataFrame(\n",
    "    matrix, \n",
    "    columns=vectorizer.get_feature_names()\n",
    ")"
   ]
  },
  {
   "cell_type": "code",
   "execution_count": 337,
   "metadata": {
    "pycharm": {
     "name": "#%%\n"
    }
   },
   "outputs": [
    {
     "name": "stdout",
     "output_type": "stream",
     "text": [
      "R2 на обучающем наборе: 0.99\n",
      "R2 на тестовом наборе: -0.24\n",
      "MAE: 0.84\n",
      "MSE: 1.20\n"
     ]
    }
   ],
   "source": [
    "from sklearn.linear_model import RidgeCV\n",
    "from sklearn.preprocessing import PolynomialFeatures\n",
    "\n",
    "X_train, X_test, y_train, y_test = train_test_split(word_df, y, test_size=0.2,\n",
    "                                                        random_state=42)\n",
    "\n",
    "poly = PolynomialFeatures(1)\n",
    "scaler = preprocessing.StandardScaler()\n",
    "ridge = RidgeCV()\n",
    "pipe = Pipeline([('poly', poly),('scaler', scaler), ('ridge', ridge)])\n",
    "pipe.fit(X_train, y_train)\n",
    "show_metrics(pipe, X_train, X_test, y_train, y_test)"
   ]
  },
  {
   "cell_type": "markdown",
   "metadata": {},
   "source": [
    "### Сильное переобучение, но все равно не очень плохой результат, можно поудалять очень редкие и слишком частые слова, возможно станет лучше"
   ]
  },
  {
   "cell_type": "code",
   "execution_count": 338,
   "metadata": {
    "pycharm": {
     "name": "#%%\n"
    }
   },
   "outputs": [
    {
     "name": "stdout",
     "output_type": "stream",
     "text": [
      "R2 на обучающем наборе: 0.08\n",
      "R2 на тестовом наборе: 0.02\n",
      "MAE: 0.73\n",
      "MSE: 0.95\n"
     ]
    }
   ],
   "source": [
    "from sklearn.linear_model import ElasticNetCV\n",
    "\n",
    "vectorizer = TfidfVectorizer(norm=None, max_df=0.01, min_df=0.005)\n",
    "\n",
    "word_df = pd.DataFrame(vectorizer.fit_transform(df['synopsis_norm']).todense(),\n",
    "                       columns=vectorizer.get_feature_names())\n",
    "\n",
    "X_train, X_test, y_train, y_test = train_test_split(word_df, y, test_size=0.2,\n",
    "                                                        random_state=42)\n",
    "\n",
    "scaler = preprocessing.StandardScaler()\n",
    "model = ElasticNetCV(l1_ratio=0.2)\n",
    "pipe = Pipeline([('scaler', scaler), ('model', model)])\n",
    "pipe.fit(X_train, y_train)\n",
    "show_metrics(pipe, X_train, X_test, y_train, y_test)"
   ]
  },
  {
   "cell_type": "code",
   "execution_count": 339,
   "metadata": {
    "pycharm": {
     "name": "#%%\n"
    }
   },
   "outputs": [
    {
     "name": "stdout",
     "output_type": "stream",
     "text": [
      "R2 на обучающем наборе: 0.09\n",
      "R2 на тестовом наборе: 0.02\n",
      "MAE: 0.73\n",
      "MSE: 0.95\n"
     ]
    }
   ],
   "source": [
    "cat = CatBoostRegressor(max_depth=1)\n",
    "cat.fit(X_train, y_train, silent=True)\n",
    "show_metrics(cat, X_train, X_test, y_train, y_test)"
   ]
  },
  {
   "cell_type": "markdown",
   "metadata": {},
   "source": [
    "### Кстати, стоит посмотреть насколько наши модели лучше, чем если мы просто проставим всем одинаковое значение (Посмотрим по распределению оценок)"
   ]
  },
  {
   "cell_type": "code",
   "execution_count": 340,
   "metadata": {
    "pycharm": {
     "name": "#%%\n"
    }
   },
   "outputs": [
    {
     "data": {
      "text/plain": [
       "6.5178004073319755"
      ]
     },
     "execution_count": 340,
     "metadata": {},
     "output_type": "execute_result"
    }
   ],
   "source": [
    "df['imdb_rating'].mean()"
   ]
  },
  {
   "cell_type": "code",
   "execution_count": 341,
   "metadata": {
    "pycharm": {
     "name": "#%%\n"
    }
   },
   "outputs": [
    {
     "data": {
      "text/plain": [
       "array([6.5, 6.5, 6.5, ..., 6.5, 6.5, 6.5])"
      ]
     },
     "execution_count": 341,
     "metadata": {},
     "output_type": "execute_result"
    }
   ],
   "source": [
    "np.ones_like(df['imdb_rating']) * 6.5"
   ]
  },
  {
   "cell_type": "code",
   "execution_count": 342,
   "metadata": {
    "pycharm": {
     "name": "#%%\n"
    }
   },
   "outputs": [
    {
     "name": "stdout",
     "output_type": "stream",
     "text": [
      "MAE: 0.79\n",
      "MSE: 1.12\n"
     ]
    }
   ],
   "source": [
    "print(\"MAE: {:.2f}\".format(mean_absolute_error(df['imdb_rating'], np.ones_like(df['imdb_rating']) * 6.5)))\n",
    "print(\"MSE: {:.2f}\".format(mean_squared_error(df['imdb_rating'], np.ones_like(df['imdb_rating']) * 6.5)))"
   ]
  },
  {
   "cell_type": "markdown",
   "metadata": {},
   "source": [
    "### Перебрав параметры видна сходимость к значению R2 ~ 0.03-0.04."
   ]
  },
  {
   "cell_type": "markdown",
   "metadata": {},
   "source": [
    "### Попробуем уменьшить размерность, может нам удастся улучшить точность"
   ]
  },
  {
   "cell_type": "code",
   "execution_count": 343,
   "metadata": {},
   "outputs": [
    {
     "name": "stdout",
     "output_type": "stream",
     "text": [
      "R2 на обучающем наборе: 0.06\n",
      "R2 на тестовом наборе: 0.03\n",
      "MAE: 0.72\n",
      "MSE: 0.93\n"
     ]
    }
   ],
   "source": [
    "from sklearn.decomposition import PCA\n",
    "from sklearn.linear_model import ElasticNetCV\n",
    "\n",
    "vectorizer = TfidfVectorizer(norm=None, max_df=4000, min_df=5)\n",
    "\n",
    "word_df = pd.DataFrame(vectorizer.fit_transform(df['synopsis_norm']).todense(),\n",
    "                       columns=vectorizer.get_feature_names())\n",
    "\n",
    "X_train, X_test, y_train, y_test = train_test_split(word_df, y, test_size=0.2,\n",
    "                                                        random_state=42)\n",
    "\n",
    "scaler = preprocessing.StandardScaler()\n",
    "pca = PCA(n_components=100)\n",
    "model = ElasticNetCV(l1_ratio=0.8)\n",
    "pipe = Pipeline([('scaler', scaler),('pca', pca), ('model', model)])\n",
    "pipe.fit(X_train, y_train)\n",
    "show_metrics(pipe, X_train, X_test, y_train, y_test)"
   ]
  },
  {
   "cell_type": "code",
   "execution_count": 344,
   "metadata": {},
   "outputs": [],
   "source": [
    "def get_top_n(vectorizer, dataset, n=50):\n",
    "    sorted_ds = dataset.max(axis=1).sort_values(ascending=False)\n",
    "    inv_map = {v: k for k, v in vectorizer.vocabulary_.items()}\n",
    "    names = [inv_map[word_num] if word_num in inv_map else \"NOT FOUND\" for word_num in sorted_ds[:n].index]\n",
    "    return dict(zip(names, sorted_ds.values[:n]))"
   ]
  },
  {
   "cell_type": "code",
   "execution_count": 345,
   "metadata": {},
   "outputs": [
    {
     "data": {
      "text/plain": [
       "{'план': 43.17988663827119,\n",
       " 'пересечь': 37.766613584919654,\n",
       " 'соседка': 35.98323886522599,\n",
       " 'крутой': 35.50668796620437,\n",
       " 'летать': 35.07163108125622,\n",
       " 'бросаться': 34.67141754288854,\n",
       " 'подпольный': 34.67141754288854,\n",
       " 'кабаре': 34.30087768211993,\n",
       " 'культ': 33.95591332468517,\n",
       " 'обворожительный': 33.633220718997315,\n",
       " 'почувствовать': 33.33009760991514,\n",
       " 'сибирский': 32.27355214157911,\n",
       " 'командир': 30.829893587244758,\n",
       " 'занятие': 30.829893587244758,\n",
       " 'упорно': 30.829893587244758,\n",
       " 'выпивка': 30.829893587244758,\n",
       " 'книга': 30.829893587244758,\n",
       " 'сыщик': 30.213290867935726,\n",
       " 'отдавать': 30.213290867935726,\n",
       " 'третий': 30.213290867935726,\n",
       " 'виктория': 30.063578977842624,\n",
       " 'зависимость': 30.01362652286382,\n",
       " 'франсуа': 29.679165297437635,\n",
       " 'погубить': 29.679165297437635,\n",
       " 'быстро': 29.679165297437635,\n",
       " 'супермаркет': 29.2080331548121,\n",
       " 'плод': 29.2080331548121,\n",
       " 'волшебник': 29.2080331548121,\n",
       " 'отказ': 29.2080331548121,\n",
       " 'хроника': 28.786591092180796,\n",
       " 'вес': 27.73713403431083,\n",
       " 'пляжный': 27.440702145695944,\n",
       " 'проверить': 27.440702145695944,\n",
       " 'носить': 27.440702145695944,\n",
       " 'двойник': 27.440702145695944,\n",
       " 'манера': 27.440702145695944,\n",
       " 'предвещать': 27.280907991023472,\n",
       " 'комик': 27.164730659748137,\n",
       " 'склад': 26.906576575197853,\n",
       " 'уверенный': 26.664078087932115,\n",
       " '1990': 26.219175547491215,\n",
       " 'квартира': 26.04386712445427,\n",
       " 'коллектив': 25.818841713263286,\n",
       " 'альберт': 25.632761650723715,\n",
       " 'находка': 25.632761650723715,\n",
       " 'скорый': 25.284716142765195,\n",
       " 'возглавлять': 24.813584000139663,\n",
       " 'ложиться': 24.392141937508356,\n",
       " 'спасательный': 24.392141937508356,\n",
       " 'добровольно': 24.260982646216394}"
      ]
     },
     "execution_count": 345,
     "metadata": {},
     "output_type": "execute_result"
    }
   ],
   "source": [
    "words = get_top_n(vectorizer, word_df)\n",
    "words"
   ]
  },
  {
   "cell_type": "markdown",
   "metadata": {},
   "source": [
    "### Если в фильме есть план, то фильм будет хорошим. Но, в целом, сложно сделать какие-то выводы по этим словам."
   ]
  },
  {
   "cell_type": "code",
   "execution_count": 346,
   "metadata": {},
   "outputs": [
    {
     "data": {
      "text/plain": [
       "<AxesSubplot:>"
      ]
     },
     "execution_count": 346,
     "metadata": {},
     "output_type": "execute_result"
    },
    {
     "data": {
      "image/png": "[encoded data removed]",
      "text/plain": [
       "<Figure size 720x720 with 1 Axes>"
      ]
     },
     "metadata": {
      "needs_background": "light"
     },
     "output_type": "display_data"
    }
   ],
   "source": [
    "plt.figure(figsize=(10,10))\n",
    "sns.lineplot(y=words.keys(), x= words.values())"
   ]
  },
  {
   "cell_type": "markdown",
   "metadata": {},
   "source": [
    "### Не очень удобно, зато подписи видно. Видно что большой разрыв между словами \"план\" и \"пересечь\", остальные слова довольно равномерно распределены. "
   ]
  },
  {
   "cell_type": "markdown",
   "metadata": {},
   "source": [
    "### В принципе, довольно много хороший фильмов могут содержать слово \"план\": различные фильмы про ограбление казино/банка (11 друзей Оушена, ограбление по-итальянски и т.д.), так что можно сказать, что наличие данного слова в описании влияет на рейтинг. \n",
    "### Слово \"соседка\", возможно,часто встречается в молодежный комедиях.\n",
    "### Про слово \"крутой\" и говорить нечего)\n",
    "### Забавно, что слова \"упорно\" и \"выпивка\" находятся рядом, возможно фильмы о упорных спортсменах и заядлых пьяницах одинаково интересны\n",
    "### Слова \"зависимость\" и \"погубить\" так же могут использоваться в одном контексте\n",
    "### Попробуем посомтреть на словосочетания."
   ]
  },
  {
   "cell_type": "code",
   "execution_count": 347,
   "metadata": {},
   "outputs": [
    {
     "name": "stdout",
     "output_type": "stream",
     "text": [
      "R2 на обучающем наборе: 0.01\n",
      "R2 на тестовом наборе: 0.00\n",
      "MAE: 0.73\n",
      "MSE: 0.96\n"
     ]
    }
   ],
   "source": [
    "vectorizer = TfidfVectorizer(norm=None, max_df=1000, min_df=2,ngram_range=(2,2))\n",
    "\n",
    "word_df = pd.DataFrame(vectorizer.fit_transform(df['synopsis_norm']).todense(),\n",
    "                       columns=vectorizer.get_feature_names())\n",
    "\n",
    "X_train, X_test, y_train, y_test = train_test_split(word_df, y, test_size=0.2,\n",
    "                                                        random_state=42)\n",
    "\n",
    "scaler = preprocessing.StandardScaler()\n",
    "pca = PCA(n_components=100)\n",
    "model = ElasticNetCV(l1_ratio=0.9)\n",
    "pipe = Pipeline([('scaler', scaler),('pca', pca), ('model', model)])\n",
    "pipe.fit(X_train, y_train)\n",
    "show_metrics(pipe, X_train, X_test, y_train, y_test)"
   ]
  },
  {
   "cell_type": "code",
   "execution_count": 348,
   "metadata": {},
   "outputs": [
    {
     "data": {
      "text/plain": [
       "<AxesSubplot:>"
      ]
     },
     "execution_count": 348,
     "metadata": {},
     "output_type": "execute_result"
    },
    {
     "data": {
      "image/png": "[encoded data removed]",
      "text/plain": [
       "<Figure size 720x720 with 1 Axes>"
      ]
     },
     "metadata": {
      "needs_background": "light"
     },
     "output_type": "display_data"
    }
   ],
   "source": [
    "words = get_top_n(vectorizer, word_df)\n",
    "plt.figure(figsize=(10,10))\n",
    "sns.lineplot(y=words.keys(), x= words.values())"
   ]
  },
  {
   "cell_type": "markdown",
   "metadata": {},
   "source": [
    "### А вот это уже интереснее. Тут уже довольно хорошо выделяется темы, например словосочетание \"бывший секретный\" говорит о каком-то шпионском фильме, \"закрутить роман\" - это возможно о мелодрамах и т.д."
   ]
  },
  {
   "cell_type": "markdown",
   "metadata": {},
   "source": [
    "### Подводя итог, можно сказать что в данном случае, текстовое описание не очень хорошо работает, либо нужно брать другие модели, но TD-IDF, наверное, слишком простая для построения более точной регрессии.  Скорее так можно было бы выделять темы фильмов или определять жанр по описанию."
   ]
  },
  {
   "cell_type": "code",
   "execution_count": null,
   "metadata": {},
   "outputs": [],
   "source": []
  }
 ],
 "metadata": {
  "kernelspec": {
   "display_name": "Python 3",
   "language": "python",
   "name": "python3"
  },
  "language_info": {
   "codemirror_mode": {
    "name": "ipython",
    "version": 3
   },
   "file_extension": ".py",
   "mimetype": "text/x-python",
   "name": "python",
   "nbconvert_exporter": "python",
   "pygments_lexer": "ipython3",
   "version": "3.8.6"
  },
  "pycharm": {
   "stem_cell": {
    "cell_type": "raw",
    "source": [],
    "metadata": {
     "collapsed": false
    }
   }
  }
 },
 "nbformat": 4,
 "nbformat_minor": 1
}