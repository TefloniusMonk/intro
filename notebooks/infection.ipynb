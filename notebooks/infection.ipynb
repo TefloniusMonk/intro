{
 "cells": [
  {
   "cell_type": "markdown",
   "metadata": {
    "collapsed": true
   },
   "source": [
    "# Spread of infection "
   ]
  },
  {
   "cell_type": "code",
   "execution_count": 1,
   "metadata": {},
   "outputs": [],
   "source": [
    "import pandas as pd\n",
    "import seaborn as sns\n",
    "import numpy as np\n",
    "import matplotlib.pyplot as plt\n",
    "\n",
    "import warnings\n",
    "warnings.filterwarnings('ignore')\n"
   ]
  },
  {
   "cell_type": "code",
   "execution_count": 2,
   "metadata": {},
   "outputs": [],
   "source": [
    "airports_file = \"../csv/infection/US_airport.csv\"\n",
    "airports = pd.read_csv(airports_file, index_col=0)\n",
    "\n",
    "flights_file = \"../csv/infection/flights.csv\"\n",
    "flights = pd.read_csv(flights_file, sep=\" \")"
   ]
  },
  {
   "cell_type": "code",
   "execution_count": 3,
   "metadata": {},
   "outputs": [
    {
     "data": {
      "text/html": [
       "<div>\n",
       "<style scoped>\n",
       "    .dataframe tbody tr th:only-of-type {\n",
       "        vertical-align: middle;\n",
       "    }\n",
       "\n",
       "    .dataframe tbody tr th {\n",
       "        vertical-align: top;\n",
       "    }\n",
       "\n",
       "    .dataframe thead th {\n",
       "        text-align: right;\n",
       "    }\n",
       "</style>\n",
       "<table border=\"1\" class=\"dataframe\">\n",
       "  <thead>\n",
       "    <tr style=\"text-align: right;\">\n",
       "      <th></th>\n",
       "      <th>Source</th>\n",
       "      <th>Destination</th>\n",
       "      <th>StartTime</th>\n",
       "      <th>EndTime</th>\n",
       "      <th>Duration</th>\n",
       "    </tr>\n",
       "  </thead>\n",
       "  <tbody>\n",
       "    <tr>\n",
       "      <th>0</th>\n",
       "      <td>0</td>\n",
       "      <td>1</td>\n",
       "      <td>1229286900</td>\n",
       "      <td>1229291520</td>\n",
       "      <td>4620</td>\n",
       "    </tr>\n",
       "    <tr>\n",
       "      <th>1</th>\n",
       "      <td>0</td>\n",
       "      <td>1</td>\n",
       "      <td>1229272800</td>\n",
       "      <td>1229277300</td>\n",
       "      <td>4500</td>\n",
       "    </tr>\n",
       "    <tr>\n",
       "      <th>2</th>\n",
       "      <td>0</td>\n",
       "      <td>2</td>\n",
       "      <td>1229285640</td>\n",
       "      <td>1229291520</td>\n",
       "      <td>5880</td>\n",
       "    </tr>\n",
       "    <tr>\n",
       "      <th>3</th>\n",
       "      <td>0</td>\n",
       "      <td>3</td>\n",
       "      <td>1229268060</td>\n",
       "      <td>1229276040</td>\n",
       "      <td>7980</td>\n",
       "    </tr>\n",
       "    <tr>\n",
       "      <th>4</th>\n",
       "      <td>0</td>\n",
       "      <td>3</td>\n",
       "      <td>1229284740</td>\n",
       "      <td>1229293140</td>\n",
       "      <td>8400</td>\n",
       "    </tr>\n",
       "    <tr>\n",
       "      <th>...</th>\n",
       "      <td>...</td>\n",
       "      <td>...</td>\n",
       "      <td>...</td>\n",
       "      <td>...</td>\n",
       "      <td>...</td>\n",
       "    </tr>\n",
       "    <tr>\n",
       "      <th>180187</th>\n",
       "      <td>260</td>\n",
       "      <td>24</td>\n",
       "      <td>1230066420</td>\n",
       "      <td>1230070440</td>\n",
       "      <td>4020</td>\n",
       "    </tr>\n",
       "    <tr>\n",
       "      <th>180188</th>\n",
       "      <td>260</td>\n",
       "      <td>24</td>\n",
       "      <td>1230049200</td>\n",
       "      <td>1230052620</td>\n",
       "      <td>3420</td>\n",
       "    </tr>\n",
       "    <tr>\n",
       "      <th>180189</th>\n",
       "      <td>260</td>\n",
       "      <td>16</td>\n",
       "      <td>1230059400</td>\n",
       "      <td>1230064200</td>\n",
       "      <td>4800</td>\n",
       "    </tr>\n",
       "    <tr>\n",
       "      <th>180190</th>\n",
       "      <td>260</td>\n",
       "      <td>16</td>\n",
       "      <td>1230035400</td>\n",
       "      <td>1230040200</td>\n",
       "      <td>4800</td>\n",
       "    </tr>\n",
       "    <tr>\n",
       "      <th>180191</th>\n",
       "      <td>260</td>\n",
       "      <td>16</td>\n",
       "      <td>1230075780</td>\n",
       "      <td>1230080580</td>\n",
       "      <td>4800</td>\n",
       "    </tr>\n",
       "  </tbody>\n",
       "</table>\n",
       "<p>180192 rows × 5 columns</p>\n",
       "</div>"
      ],
      "text/plain": [
       "        Source  Destination   StartTime     EndTime  Duration\n",
       "0            0            1  1229286900  1229291520      4620\n",
       "1            0            1  1229272800  1229277300      4500\n",
       "2            0            2  1229285640  1229291520      5880\n",
       "3            0            3  1229268060  1229276040      7980\n",
       "4            0            3  1229284740  1229293140      8400\n",
       "...        ...          ...         ...         ...       ...\n",
       "180187     260           24  1230066420  1230070440      4020\n",
       "180188     260           24  1230049200  1230052620      3420\n",
       "180189     260           16  1230059400  1230064200      4800\n",
       "180190     260           16  1230035400  1230040200      4800\n",
       "180191     260           16  1230075780  1230080580      4800\n",
       "\n",
       "[180192 rows x 5 columns]"
      ]
     },
     "execution_count": 3,
     "metadata": {},
     "output_type": "execute_result"
    }
   ],
   "source": [
    "flights"
   ]
  },
  {
   "cell_type": "markdown",
   "metadata": {},
   "source": [
    "### Всего у нас 10 дней перелетов"
   ]
  },
  {
   "cell_type": "code",
   "execution_count": 4,
   "metadata": {},
   "outputs": [
    {
     "name": "stdout",
     "output_type": "stream",
     "text": [
      "First flight:  2008-12-14 08:05:00\n",
      "Last flight:  2008-12-24 17:20:00\n"
     ]
    }
   ],
   "source": [
    "from datetime import datetime\n",
    "\n",
    "print(\"First flight: \", datetime.fromtimestamp(flights[\"StartTime\"].min()))\n",
    "print(\"Last flight: \", datetime.fromtimestamp(flights[\"EndTime\"].max()))"
   ]
  },
  {
   "cell_type": "code",
   "execution_count": 5,
   "metadata": {},
   "outputs": [
    {
     "data": {
      "text/html": [
       "<div>\n",
       "<style scoped>\n",
       "    .dataframe tbody tr th:only-of-type {\n",
       "        vertical-align: middle;\n",
       "    }\n",
       "\n",
       "    .dataframe tbody tr th {\n",
       "        vertical-align: top;\n",
       "    }\n",
       "\n",
       "    .dataframe thead th {\n",
       "        text-align: right;\n",
       "    }\n",
       "</style>\n",
       "<table border=\"1\" class=\"dataframe\">\n",
       "  <thead>\n",
       "    <tr style=\"text-align: right;\">\n",
       "      <th></th>\n",
       "      <th>symbol</th>\n",
       "      <th>airport name</th>\n",
       "      <th>city</th>\n",
       "      <th>latitude</th>\n",
       "      <th>longitude</th>\n",
       "      <th>xcoordviz</th>\n",
       "      <th>ycoordviz</th>\n",
       "    </tr>\n",
       "    <tr>\n",
       "      <th>id</th>\n",
       "      <th></th>\n",
       "      <th></th>\n",
       "      <th></th>\n",
       "      <th></th>\n",
       "      <th></th>\n",
       "      <th></th>\n",
       "      <th></th>\n",
       "    </tr>\n",
       "  </thead>\n",
       "  <tbody>\n",
       "    <tr>\n",
       "      <th>0</th>\n",
       "      <td>ABE</td>\n",
       "      <td>Lehigh Valley Intl</td>\n",
       "      <td>Allentown</td>\n",
       "      <td>40.652083</td>\n",
       "      <td>-75.440806</td>\n",
       "      <td>1.926093e+06</td>\n",
       "      <td>337357.529978</td>\n",
       "    </tr>\n",
       "    <tr>\n",
       "      <th>1</th>\n",
       "      <td>CLE</td>\n",
       "      <td>Cleveland Hopkins Intl</td>\n",
       "      <td>Cleveland</td>\n",
       "      <td>41.411689</td>\n",
       "      <td>-81.849794</td>\n",
       "      <td>1.384469e+06</td>\n",
       "      <td>302554.338074</td>\n",
       "    </tr>\n",
       "    <tr>\n",
       "      <th>2</th>\n",
       "      <td>CLT</td>\n",
       "      <td>Charlotte Douglas Intl</td>\n",
       "      <td>Charlotte</td>\n",
       "      <td>35.214000</td>\n",
       "      <td>-80.943139</td>\n",
       "      <td>1.590611e+06</td>\n",
       "      <td>-355004.415565</td>\n",
       "    </tr>\n",
       "    <tr>\n",
       "      <th>3</th>\n",
       "      <td>ORD</td>\n",
       "      <td>Chicago Ohare Intl</td>\n",
       "      <td>Chicago</td>\n",
       "      <td>41.978603</td>\n",
       "      <td>-87.904842</td>\n",
       "      <td>8.790187e+05</td>\n",
       "      <td>289127.727396</td>\n",
       "    </tr>\n",
       "    <tr>\n",
       "      <th>4</th>\n",
       "      <td>ATL</td>\n",
       "      <td>Hartsfield Jackson Atlanta Intl</td>\n",
       "      <td>Atlanta</td>\n",
       "      <td>33.636719</td>\n",
       "      <td>-84.428067</td>\n",
       "      <td>1.306257e+06</td>\n",
       "      <td>-582505.812325</td>\n",
       "    </tr>\n",
       "    <tr>\n",
       "      <th>...</th>\n",
       "      <td>...</td>\n",
       "      <td>...</td>\n",
       "      <td>...</td>\n",
       "      <td>...</td>\n",
       "      <td>...</td>\n",
       "      <td>...</td>\n",
       "      <td>...</td>\n",
       "    </tr>\n",
       "    <tr>\n",
       "      <th>274</th>\n",
       "      <td>RDD</td>\n",
       "      <td>Redding Muni</td>\n",
       "      <td>Redding</td>\n",
       "      <td>40.509000</td>\n",
       "      <td>-122.293389</td>\n",
       "      <td>-1.976890e+06</td>\n",
       "      <td>334403.078441</td>\n",
       "    </tr>\n",
       "    <tr>\n",
       "      <th>275</th>\n",
       "      <td>SUN</td>\n",
       "      <td>Friedman Mem</td>\n",
       "      <td>Hailey</td>\n",
       "      <td>43.504444</td>\n",
       "      <td>-114.296194</td>\n",
       "      <td>-1.261565e+06</td>\n",
       "      <td>515731.793677</td>\n",
       "    </tr>\n",
       "    <tr>\n",
       "      <th>276</th>\n",
       "      <td>TWF</td>\n",
       "      <td>Magic Valley Regional Airport</td>\n",
       "      <td>Twin Falls</td>\n",
       "      <td>42.481803</td>\n",
       "      <td>-114.487733</td>\n",
       "      <td>-1.296508e+06</td>\n",
       "      <td>406881.420680</td>\n",
       "    </tr>\n",
       "    <tr>\n",
       "      <th>277</th>\n",
       "      <td>RHI</td>\n",
       "      <td>Rhinelander Oneida County Airport</td>\n",
       "      <td>Rhinelander</td>\n",
       "      <td>45.631200</td>\n",
       "      <td>-89.467500</td>\n",
       "      <td>7.102613e+05</td>\n",
       "      <td>678171.825235</td>\n",
       "    </tr>\n",
       "    <tr>\n",
       "      <th>278</th>\n",
       "      <td>TEX</td>\n",
       "      <td>Telluride</td>\n",
       "      <td>Telluride</td>\n",
       "      <td>37.953759</td>\n",
       "      <td>-107.908480</td>\n",
       "      <td>-8.141072e+05</td>\n",
       "      <td>-165339.105983</td>\n",
       "    </tr>\n",
       "  </tbody>\n",
       "</table>\n",
       "<p>279 rows × 7 columns</p>\n",
       "</div>"
      ],
      "text/plain": [
       "    symbol                       airport name         city   latitude  \\\n",
       "id                                                                      \n",
       "0      ABE                 Lehigh Valley Intl    Allentown  40.652083   \n",
       "1      CLE             Cleveland Hopkins Intl    Cleveland  41.411689   \n",
       "2      CLT             Charlotte Douglas Intl    Charlotte  35.214000   \n",
       "3      ORD                 Chicago Ohare Intl      Chicago  41.978603   \n",
       "4      ATL    Hartsfield Jackson Atlanta Intl      Atlanta  33.636719   \n",
       "..     ...                                ...          ...        ...   \n",
       "274    RDD                       Redding Muni      Redding  40.509000   \n",
       "275    SUN                       Friedman Mem       Hailey  43.504444   \n",
       "276    TWF      Magic Valley Regional Airport   Twin Falls  42.481803   \n",
       "277    RHI  Rhinelander Oneida County Airport  Rhinelander  45.631200   \n",
       "278    TEX                          Telluride    Telluride  37.953759   \n",
       "\n",
       "      longitude     xcoordviz      ycoordviz  \n",
       "id                                            \n",
       "0    -75.440806  1.926093e+06  337357.529978  \n",
       "1    -81.849794  1.384469e+06  302554.338074  \n",
       "2    -80.943139  1.590611e+06 -355004.415565  \n",
       "3    -87.904842  8.790187e+05  289127.727396  \n",
       "4    -84.428067  1.306257e+06 -582505.812325  \n",
       "..          ...           ...            ...  \n",
       "274 -122.293389 -1.976890e+06  334403.078441  \n",
       "275 -114.296194 -1.261565e+06  515731.793677  \n",
       "276 -114.487733 -1.296508e+06  406881.420680  \n",
       "277  -89.467500  7.102613e+05  678171.825235  \n",
       "278 -107.908480 -8.141072e+05 -165339.105983  \n",
       "\n",
       "[279 rows x 7 columns]"
      ]
     },
     "execution_count": 5,
     "metadata": {},
     "output_type": "execute_result"
    }
   ],
   "source": [
    "airports"
   ]
  },
  {
   "cell_type": "code",
   "execution_count": 6,
   "metadata": {},
   "outputs": [
    {
     "name": "stdout",
     "output_type": "stream",
     "text": [
      "279\n",
      "279\n"
     ]
    }
   ],
   "source": [
    "print(len(flights['Destination'].unique()))\n",
    "print(len(flights['Source'].unique()))"
   ]
  },
  {
   "cell_type": "markdown",
   "metadata": {},
   "source": [
    "### В каждый город есть рейс, и из каждого города есть рейс. Т.е. наш граф является связным. (В рамках нашей задачи это значит, что все города могут быть заражены)\n",
    "### Напишем функцию распростарнения инфекции."
   ]
  },
  {
   "cell_type": "code",
   "execution_count": 7,
   "metadata": {},
   "outputs": [],
   "source": [
    "def get_airport_code(airports, index):\n",
    "    return airports.at[index, 'symbol']\n",
    "\n",
    "def spread(dataset, airports, init_city = 'ABE', p = 0.5, verbose=False):\n",
    "    infected_city_codes = set([init_city])\n",
    "    result = {dataset['StartTime'].min() : [init_city]}\n",
    "    if verbose:\n",
    "        print(\"p = {}, init_city = {}\".format(p, init_city))\n",
    "        print(\"Starting infection...\")\n",
    "    \n",
    "    for index, flight in dataset.iterrows():\n",
    "        if get_airport_code(airports, flight['Source']) in infected_city_codes:\n",
    "            if np.random.random() <= p:\n",
    "                destination = get_airport_code(airports, flight['Destination'])\n",
    "                if destination in infected_city_codes:\n",
    "                    continue\n",
    "                if verbose:\n",
    "                    print(\"Infecting city with code {}\".format(destination))\n",
    "                infection_time = flight['EndTime']\n",
    "                if infection_time in result:\n",
    "                    result[infection_time].append(destination)\n",
    "                else:\n",
    "                    result[infection_time] = [destination]\n",
    "                infected_city_codes.add(destination)\n",
    "    return result"
   ]
  },
  {
   "cell_type": "code",
   "execution_count": 8,
   "metadata": {
    "scrolled": true
   },
   "outputs": [
    {
     "name": "stdout",
     "output_type": "stream",
     "text": [
      "p = 0.5, init_city = ABE\n",
      "Starting infection...\n",
      "Infecting city with code CLE\n",
      "Infecting city with code ORD\n",
      "Infecting city with code ATL\n",
      "Infecting city with code DTW\n",
      "Infecting city with code DEN\n",
      "Infecting city with code IAD\n",
      "Infecting city with code PIT\n",
      "Infecting city with code AUS\n",
      "Infecting city with code CHA\n",
      "Infecting city with code PHL\n",
      "Infecting city with code MOB\n",
      "Infecting city with code BUF\n",
      "Infecting city with code BNA\n",
      "Infecting city with code JAN\n",
      "Infecting city with code PNS\n",
      "Infecting city with code CLT\n",
      "Infecting city with code RSW\n",
      "Infecting city with code LGA\n",
      "Infecting city with code FLL\n",
      "Infecting city with code IAH\n",
      "Infecting city with code LAX\n",
      "Infecting city with code SFO\n",
      "Infecting city with code LAS\n",
      "Infecting city with code JFK\n",
      "Infecting city with code MCO\n",
      "Infecting city with code RDU\n",
      "Infecting city with code MSP\n",
      "Infecting city with code SLC\n",
      "Infecting city with code SJU\n",
      "Infecting city with code EWR\n",
      "Infecting city with code RIC\n",
      "Infecting city with code TPA\n",
      "Infecting city with code CMH\n",
      "Infecting city with code PDX\n",
      "Infecting city with code STL\n",
      "Infecting city with code PBI\n",
      "Infecting city with code BWI\n",
      "Infecting city with code MIA\n",
      "Infecting city with code GPT\n",
      "Infecting city with code SDF\n",
      "Infecting city with code PHX\n",
      "Infecting city with code CHS\n",
      "Infecting city with code SAN\n",
      "Infecting city with code SEA\n",
      "Infecting city with code ORF\n",
      "Infecting city with code SRQ\n",
      "Infecting city with code MCI\n",
      "Infecting city with code MKE\n",
      "Infecting city with code GSO\n",
      "Infecting city with code BHM\n",
      "Infecting city with code ABQ\n",
      "Infecting city with code PWM\n",
      "Infecting city with code IND\n",
      "Infecting city with code LEX\n",
      "Infecting city with code HSV\n",
      "Infecting city with code DAY\n",
      "Infecting city with code DAB\n",
      "Infecting city with code GSP\n",
      "Infecting city with code BDL\n",
      "Infecting city with code MSY\n",
      "Infecting city with code SAV\n",
      "Infecting city with code SAT\n",
      "Infecting city with code JAX\n",
      "Infecting city with code SNA\n",
      "Infecting city with code ONT\n",
      "Infecting city with code CVG\n",
      "Infecting city with code SJC\n",
      "Infecting city with code ROC\n",
      "Infecting city with code BOS\n",
      "Infecting city with code DFW\n",
      "Infecting city with code DCA\n",
      "Infecting city with code MLB\n",
      "Infecting city with code CHO\n",
      "Infecting city with code SGF\n",
      "Infecting city with code DSM\n",
      "Infecting city with code VPS\n",
      "Infecting city with code PHF\n",
      "Infecting city with code BTV\n",
      "Infecting city with code OMA\n",
      "Infecting city with code ROA\n",
      "Infecting city with code CAE\n",
      "Infecting city with code CSG\n",
      "Infecting city with code CAK\n",
      "Infecting city with code XNA\n",
      "Infecting city with code BTR\n",
      "Infecting city with code MSN\n",
      "Infecting city with code FAY\n",
      "Infecting city with code TUL\n",
      "Infecting city with code CRW\n",
      "Infecting city with code AEX\n",
      "Infecting city with code VLD\n",
      "Infecting city with code LIT\n",
      "Infecting city with code LFT\n",
      "Infecting city with code FNT\n",
      "Infecting city with code TRI\n",
      "Infecting city with code ILM\n",
      "Infecting city with code ICT\n",
      "Infecting city with code GNV\n",
      "Infecting city with code OKC\n",
      "Infecting city with code MLI\n",
      "Infecting city with code AGS\n",
      "Infecting city with code SHV\n",
      "Infecting city with code GRK\n",
      "Infecting city with code FWA\n",
      "Infecting city with code ATW\n",
      "Infecting city with code AVL\n",
      "Infecting city with code MLU\n",
      "Infecting city with code CID\n",
      "Infecting city with code MDT\n",
      "Infecting city with code PVD\n",
      "Infecting city with code SWF\n",
      "Infecting city with code BMI\n",
      "Infecting city with code OAJ\n",
      "Infecting city with code SYR\n",
      "Infecting city with code HPN\n",
      "Infecting city with code TYS\n",
      "Infecting city with code MEI\n",
      "Infecting city with code SBN\n",
      "Infecting city with code BQK\n",
      "Infecting city with code FLO\n",
      "Infecting city with code EWN\n",
      "Infecting city with code MGM\n",
      "Infecting city with code GRR\n",
      "Infecting city with code PFN\n",
      "Infecting city with code EVV\n",
      "Infecting city with code EYW\n",
      "Infecting city with code MYR\n",
      "Infecting city with code TLH\n",
      "Infecting city with code LAW\n",
      "Infecting city with code FSM\n",
      "Infecting city with code DHN\n",
      "Infecting city with code HOU\n",
      "Infecting city with code MDW\n",
      "Infecting city with code MEM\n",
      "Infecting city with code DAL\n",
      "Infecting city with code ELP\n",
      "Infecting city with code MAF\n",
      "Infecting city with code OAK\n",
      "Infecting city with code BGR\n",
      "Infecting city with code LGB\n",
      "Infecting city with code ALB\n",
      "Infecting city with code ISP\n",
      "Infecting city with code MHT\n",
      "Infecting city with code STT\n",
      "Infecting city with code HTS\n",
      "Infecting city with code AVP\n",
      "Infecting city with code AMA\n",
      "Infecting city with code LBB\n",
      "Infecting city with code SMF\n",
      "Infecting city with code COD\n",
      "Infecting city with code COS\n",
      "Infecting city with code CPR\n",
      "Infecting city with code DRO\n",
      "Infecting city with code EGE\n",
      "Infecting city with code JAC\n",
      "Infecting city with code MTJ\n",
      "Infecting city with code RAP\n",
      "Infecting city with code RKS\n",
      "Infecting city with code BIS\n",
      "Infecting city with code TUS\n",
      "Infecting city with code LNK\n",
      "Infecting city with code HLN\n",
      "Infecting city with code GUC\n",
      "Infecting city with code HDN\n",
      "Infecting city with code ASE\n",
      "Infecting city with code IDA\n",
      "Infecting city with code FAR\n",
      "Infecting city with code BIL\n",
      "Infecting city with code GTF\n",
      "Infecting city with code SBA\n",
      "Infecting city with code BZN\n",
      "Infecting city with code EUG\n",
      "Infecting city with code FAT\n",
      "Infecting city with code MRY\n",
      "Infecting city with code PSC\n",
      "Infecting city with code FSD\n",
      "Infecting city with code HNL\n",
      "Infecting city with code RNO\n",
      "Infecting city with code GEG\n",
      "Infecting city with code PSP\n",
      "Infecting city with code BOI\n",
      "Infecting city with code CLL\n",
      "Infecting city with code TXK\n",
      "Infecting city with code LRD\n",
      "Infecting city with code ACT\n",
      "Infecting city with code GGG\n",
      "Infecting city with code CRP\n",
      "Infecting city with code ABI\n",
      "Infecting city with code CMI\n",
      "Infecting city with code GJT\n",
      "Infecting city with code MFE\n",
      "Infecting city with code BUR\n",
      "Infecting city with code MBS\n",
      "Infecting city with code GRB\n",
      "Infecting city with code PIA\n",
      "Infecting city with code CWA\n",
      "Infecting city with code ELM\n",
      "Infecting city with code ERI\n",
      "Infecting city with code SCE\n",
      "Infecting city with code DLH\n",
      "Infecting city with code LAN\n",
      "Infecting city with code AZO\n",
      "Infecting city with code BGM\n",
      "Infecting city with code ITO\n",
      "Infecting city with code KOA\n",
      "Infecting city with code LIH\n",
      "Infecting city with code OGG\n",
      "Infecting city with code HRL\n",
      "Infecting city with code LCH\n",
      "Infecting city with code BRO\n",
      "Infecting city with code PSE\n",
      "Infecting city with code IYK\n",
      "Infecting city with code SMX\n",
      "Infecting city with code BFL\n",
      "Infecting city with code OXR\n",
      "Infecting city with code SBP\n",
      "Infecting city with code SGU\n",
      "Infecting city with code YUM\n",
      "Infecting city with code CLD\n",
      "Infecting city with code STX\n",
      "Infecting city with code GFK\n",
      "Infecting city with code MOT\n",
      "Infecting city with code CMX\n",
      "Infecting city with code RST\n",
      "Infecting city with code TVC\n",
      "Infecting city with code SPI\n",
      "Infecting city with code DBQ\n",
      "Infecting city with code LSE\n",
      "Infecting city with code ANC\n",
      "Infecting city with code MFR\n",
      "Infecting city with code LMT\n",
      "Infecting city with code GCC\n",
      "Infecting city with code KTN\n",
      "Infecting city with code FAI\n",
      "Infecting city with code ACV\n",
      "Infecting city with code RDD\n",
      "Infecting city with code MOD\n",
      "Infecting city with code CEC\n",
      "Infecting city with code CIC\n",
      "Infecting city with code RDM\n",
      "Infecting city with code OTH\n",
      "Infecting city with code FCA\n",
      "Infecting city with code MSO\n",
      "Infecting city with code CDC\n",
      "Infecting city with code EKO\n",
      "Infecting city with code PIH\n",
      "Infecting city with code SUN\n",
      "Infecting city with code TWF\n",
      "Infecting city with code BET\n",
      "Infecting city with code JNU\n",
      "Infecting city with code ADQ\n",
      "Infecting city with code CDV\n",
      "Infecting city with code OME\n",
      "Infecting city with code OTZ\n",
      "Infecting city with code ABY\n",
      "Infecting city with code GTR\n",
      "Infecting city with code LYH\n",
      "Infecting city with code YAK\n",
      "Infecting city with code ROW\n",
      "Infecting city with code TYR\n",
      "Infecting city with code BRW\n",
      "Infecting city with code SCC\n",
      "Infecting city with code BQN\n",
      "Infecting city with code SIT\n",
      "Infecting city with code IPL\n",
      "Infecting city with code ALO\n",
      "Infecting city with code TOL\n",
      "Infecting city with code FLG\n",
      "Infecting city with code WRG\n",
      "Infecting city with code MQT\n",
      "Infecting city with code RHI\n",
      "Infecting city with code BTM\n",
      "Infecting city with code PSG\n",
      "Infecting city with code LWS\n",
      "Infecting city with code ITH\n",
      "Infecting city with code TEX\n"
     ]
    }
   ],
   "source": [
    "infection_spread = spread(flights, airports, verbose=True)"
   ]
  },
  {
   "cell_type": "code",
   "execution_count": 9,
   "metadata": {},
   "outputs": [],
   "source": [
    "import itertools\n",
    "\n",
    "def infection_report(airports, infection_spread):\n",
    "    flatten = list(itertools.chain.from_iterable(infection_spread.values()))\n",
    "    print(\"In total {} of {} cities was infected\".format(len(flatten), len(airports['symbol'].unique())))"
   ]
  },
  {
   "cell_type": "code",
   "execution_count": 10,
   "metadata": {},
   "outputs": [
    {
     "name": "stdout",
     "output_type": "stream",
     "text": [
      "In total 277 of 279 cities was infected\n"
     ]
    }
   ],
   "source": [
    "infection_report(airports, infection_spread)"
   ]
  },
  {
   "cell_type": "code",
   "execution_count": 11,
   "metadata": {},
   "outputs": [
    {
     "data": {
      "application/vnd.jupyter.widget-view+json": {
       "model_id": "a793f10984904be3bc685fc2a483030f",
       "version_major": 2,
       "version_minor": 0
      },
      "text/plain": [
       "HBox(children=(HTML(value=''), FloatProgress(value=0.0, max=5.0), HTML(value='')))"
      ]
     },
     "metadata": {},
     "output_type": "display_data"
    },
    {
     "data": {
      "application/vnd.jupyter.widget-view+json": {
       "model_id": "865e60f5f29f451a991e15c7edf435ff",
       "version_major": 2,
       "version_minor": 0
      },
      "text/plain": [
       "HBox(children=(HTML(value=''), FloatProgress(value=0.0, max=10.0), HTML(value='')))"
      ]
     },
     "metadata": {},
     "output_type": "display_data"
    },
    {
     "name": "stdout",
     "output_type": "stream",
     "text": [
      "\n"
     ]
    },
    {
     "data": {
      "application/vnd.jupyter.widget-view+json": {
       "model_id": "5b690d0c82924cb8ae9aacdd433438ba",
       "version_major": 2,
       "version_minor": 0
      },
      "text/plain": [
       "HBox(children=(HTML(value=''), FloatProgress(value=0.0, max=10.0), HTML(value='')))"
      ]
     },
     "metadata": {},
     "output_type": "display_data"
    },
    {
     "name": "stdout",
     "output_type": "stream",
     "text": [
      "\n"
     ]
    },
    {
     "data": {
      "application/vnd.jupyter.widget-view+json": {
       "model_id": "0523f6e4692b40ac88b87147ca258552",
       "version_major": 2,
       "version_minor": 0
      },
      "text/plain": [
       "HBox(children=(HTML(value=''), FloatProgress(value=0.0, max=10.0), HTML(value='')))"
      ]
     },
     "metadata": {},
     "output_type": "display_data"
    },
    {
     "name": "stdout",
     "output_type": "stream",
     "text": [
      "\n"
     ]
    },
    {
     "data": {
      "application/vnd.jupyter.widget-view+json": {
       "model_id": "bfc76bc957dd44af9fbb9b516cb7dc70",
       "version_major": 2,
       "version_minor": 0
      },
      "text/plain": [
       "HBox(children=(HTML(value=''), FloatProgress(value=0.0, max=10.0), HTML(value='')))"
      ]
     },
     "metadata": {},
     "output_type": "display_data"
    },
    {
     "name": "stdout",
     "output_type": "stream",
     "text": [
      "\n"
     ]
    },
    {
     "data": {
      "application/vnd.jupyter.widget-view+json": {
       "model_id": "eae03861ef68401eb4a5f57105efdc23",
       "version_major": 2,
       "version_minor": 0
      },
      "text/plain": [
       "HBox(children=(HTML(value=''), FloatProgress(value=0.0, max=10.0), HTML(value='')))"
      ]
     },
     "metadata": {},
     "output_type": "display_data"
    },
    {
     "name": "stdout",
     "output_type": "stream",
     "text": [
      "\n",
      "\n"
     ]
    }
   ],
   "source": [
    "from tqdm import notebook\n",
    "\n",
    "\n",
    "\n",
    "probabilities = [0.01, 0.05, 0.1, 0.5, 1.]\n",
    "results = {}\n",
    "\n",
    "for p in notebook.tqdm(probabilities):\n",
    "    results[p] = []\n",
    "    for i in notebook.tqdm(range(10)):\n",
    "        results[p].append(spread(flights, airports, p = p))"
   ]
  },
  {
   "cell_type": "code",
   "execution_count": 12,
   "metadata": {},
   "outputs": [],
   "source": [
    "import pickle\n",
    "\n",
    "file_path = 'file_path'\n",
    "\n",
    "with open(file_path, 'wb') as f:\n",
    "    pickle.dump(results, f)\n",
    "\n",
    "# with open(file_path, 'rb') as f:\n",
    "#     results = pickle.load(f)"
   ]
  },
  {
   "cell_type": "code",
   "execution_count": 13,
   "metadata": {},
   "outputs": [
    {
     "name": "stdout",
     "output_type": "stream",
     "text": [
      "In total 279 of 279 cities was infected\n",
      "In total 279 of 279 cities was infected\n",
      "In total 279 of 279 cities was infected\n",
      "In total 279 of 279 cities was infected\n",
      "In total 279 of 279 cities was infected\n",
      "In total 279 of 279 cities was infected\n",
      "In total 279 of 279 cities was infected\n",
      "In total 279 of 279 cities was infected\n",
      "In total 279 of 279 cities was infected\n",
      "In total 279 of 279 cities was infected\n"
     ]
    }
   ],
   "source": [
    "for res in results[1]:\n",
    "    infection_report(airports, res)"
   ]
  },
  {
   "cell_type": "markdown",
   "metadata": {
    "pycharm": {
     "name": "#%% md\n"
    }
   },
   "source": [
    "### Пройдемся по каждому 12-ти часовому отрезку и посчитаем сколько городов к каждому из отрезков было заражено"
   ]
  },
  {
   "cell_type": "code",
   "execution_count": 38,
   "metadata": {},
   "outputs": [],
   "source": [
    "from datetime import datetime\n",
    "from dateutil import rrule\n",
    "\n",
    "def iter_by_12hours(data, interval_start, interval_end):\n",
    "    total = len(data)\n",
    "    infected = []\n",
    "    results = {}\n",
    "    time_intervals = rrule.rrule(rrule.HOURLY, dtstart=interval_start, until=interval_end)[0::12]\n",
    "    # Iterate over all 12-hour interval.\n",
    "    # add all times from data within current interval\n",
    "    # add this times to those that already infected\n",
    "    # divide length of infected time list by total count\n",
    "    for interval_index in range(len(time_intervals)):\n",
    "        infected_in_interval = []\n",
    "        if interval_index == 0:\n",
    "            for x in data:\n",
    "                if datetime.fromtimestamp(x) <= time_intervals[interval_index]:\n",
    "                    infected_in_interval.append(x)\n",
    "        else:\n",
    "            for x in data:\n",
    "                if (datetime.fromtimestamp(x) <= time_intervals[interval_index] \n",
    "                                          and datetime.fromtimestamp(x) > time_intervals[interval_index - 1]):\n",
    "                    infected_in_interval.append(x)       \n",
    "        if len(infected_in_interval) != 0:\n",
    "            infected.extend(infected_in_interval)\n",
    "        results[interval_index] = len(infected) / total\n",
    "    return results\n",
    "\n",
    "\n",
    "        \n",
    "probabilities = [0.01, 0.05, 0.1, 0.5, 1.]\n",
    "start_datetime = datetime.fromtimestamp(flights['StartTime'].min())\n",
    "end_datetime = datetime.fromtimestamp(flights['EndTime'].max())\n",
    "time_report = {}\n",
    "for p in probabilities:\n",
    "    time_report[p] = {}\n",
    "    for i in range(10):\n",
    "        result_for_iteration = iter_by_12hours(results[p][i], start_datetime, end_datetime)    \n",
    "        time_report[p][i] =  result_for_iteration"
   ]
  },
  {
   "cell_type": "code",
   "execution_count": 39,
   "metadata": {
    "pycharm": {
     "name": "#%%\n"
    }
   },
   "outputs": [
    {
     "data": {
      "text/plain": [
       "{0: 0.007623661991948219,\n",
       " 1: 0.01627231064059687,\n",
       " 2: 0.03248852685681308,\n",
       " 3: 0.0405966349649212,\n",
       " 4: 0.05356960793789417,\n",
       " 5: 0.07718937482332058,\n",
       " 6: 0.10365247321827095,\n",
       " 7: 0.13939524143831178,\n",
       " 8: 0.21654848177193448,\n",
       " 9: 0.2629849434314119,\n",
       " 10: 0.3406907463201812,\n",
       " 11: 0.38876785364481936,\n",
       " 12: 0.5034165969185193,\n",
       " 13: 0.5313551579305591,\n",
       " 14: 0.601596207259337,\n",
       " 15: 0.631111540613724,\n",
       " 16: 0.7099374669892196,\n",
       " 17: 0.7582326031207818,\n",
       " 18: 0.8425408522588839,\n",
       " 19: 0.8860976074651308}"
      ]
     },
     "execution_count": 39,
     "metadata": {},
     "output_type": "execute_result"
    }
   ],
   "source": [
    "def count_avg(data, interval_count = 20, num_of_iter = 10):\n",
    "    result = {}\n",
    "    for hour_interval in range(interval_count):\n",
    "        result[hour_interval] = 0.0\n",
    "        sum_by_hour = 0\n",
    "        for iteration in range(num_of_iter):\n",
    "            sum_by_hour = sum_by_hour + data[iteration][hour_interval]\n",
    "        result[hour_interval] = sum_by_hour / 10\n",
    "    return result\n",
    "\n",
    "avg_reports = {}\n",
    "for probability in time_report:\n",
    "    avg_reports[probability] = count_avg(time_report[probability])\n",
    "    \n",
    "avg_reports[0.01]"
   ]
  },
  {
   "cell_type": "markdown",
   "metadata": {
    "pycharm": {
     "name": "#%% md\n"
    }
   },
   "source": [
    "### Посмотрим на графики по вероятностям"
   ]
  },
  {
   "cell_type": "code",
   "execution_count": 40,
   "metadata": {
    "pycharm": {
     "name": "#%%\n"
    }
   },
   "outputs": [
    {
     "data": {
      "image/png": "[encoded data removed]",
      "text/plain": [
       "<Figure size 432x288 with 1 Axes>"
      ]
     },
     "metadata": {},
     "output_type": "display_data"
    },
    {
     "data": {
      "image/png": "[encoded data removed]",
      "text/plain": [
       "<Figure size 432x288 with 1 Axes>"
      ]
     },
     "metadata": {},
     "output_type": "display_data"
    },
    {
     "data": {
      "image/png": "[encoded data removed]",
      "text/plain": [
       "<Figure size 432x288 with 1 Axes>"
      ]
     },
     "metadata": {},
     "output_type": "display_data"
    },
    {
     "data": {
      "image/png": "[encoded data removed]",
      "text/plain": [
       "<Figure size 432x288 with 1 Axes>"
      ]
     },
     "metadata": {},
     "output_type": "display_data"
    },
    {
     "data": {
      "image/png": "[encoded data removed]",
      "text/plain": [
       "<Figure size 432x288 with 1 Axes>"
      ]
     },
     "metadata": {},
     "output_type": "display_data"
    }
   ],
   "source": [
    "sns.set_theme(style=\"darkgrid\")\n",
    "\n",
    "for prob in avg_reports:\n",
    "    s = pd.Series(avg_reports[prob].values(), index=avg_reports[prob].keys())\n",
    "    sns.lineplot(data=s).set_title(\"Probabilty: {}\".format(prob))\n",
    "    plt.xlabel('12 hour interval')\n",
    "    plt.xticks(range(0,20,2))\n",
    "    plt.show()"
   ]
  },
  {
   "cell_type": "markdown",
   "metadata": {},
   "source": [
    "### Видно, что уже при вероятности 0.05 через 10 суток почти все города заражены. Графики вероятностей 0.5 и 1 очень похожи и уже через 5 дней все города заражены."
   ]
  },
  {
   "cell_type": "markdown",
   "metadata": {
    "pycharm": {
     "name": "#%% md\n"
    }
   },
   "source": [
    "### Теперь построим граф перелетов"
   ]
  },
  {
   "cell_type": "code",
   "execution_count": 84,
   "metadata": {},
   "outputs": [
    {
     "data": {
      "text/plain": [
       "26"
      ]
     },
     "execution_count": 84,
     "metadata": {},
     "output_type": "execute_result"
    }
   ],
   "source": [
    "flights[(flights['Source'] == 0)][flights['Destination']==1].count()[0]"
   ]
  },
  {
   "cell_type": "code",
   "execution_count": 85,
   "metadata": {},
   "outputs": [],
   "source": [
    "def count_weight(data, first_city_id, second_city_id):\n",
    "    total = len(data)\n",
    "    from_first_to_second = flights[(flights['Source'] == first_city_id)][flights['Destination'] == second_city_id].count()[0]\n",
    "    from_second_to_first = flights[(flights['Source'] == second_city_id)][flights['Destination'] == first_city_id].count()[0]\n",
    "    return (from_first_to_second + from_second_to_first) / total"
   ]
  },
  {
   "cell_type": "code",
   "execution_count": 94,
   "metadata": {},
   "outputs": [],
   "source": [
    "import networkx as nx\n",
    "\n",
    "G = nx.from_pandas_edgelist(flights, source=\"Source\", target=\"Destination\")\n",
    "weights = []\n",
    "for i,j in G.edges():\n",
    "    weight = count_weight(flights, i, j)\n",
    "    G[i][j]['weight'] = count_weight(flights, i, j)\n",
    "    weights.append(weight)"
   ]
  },
  {
   "cell_type": "code",
   "execution_count": 99,
   "metadata": {},
   "outputs": [
    {
     "data": {
      "text/plain": [
       "<AxesSubplot:>"
      ]
     },
     "execution_count": 99,
     "metadata": {},
     "output_type": "execute_result"
    },
    {
     "data": {
      "image/png": "[encoded data removed]",
      "text/plain": [
       "<Figure size 432x288 with 1 Axes>"
      ]
     },
     "metadata": {},
     "output_type": "display_data"
    }
   ],
   "source": [
    "weights = np.array(weights)\n",
    "sns.boxplot(y=weights)"
   ]
  },
  {
   "cell_type": "markdown",
   "metadata": {
    "pycharm": {
     "name": "#%% md\n"
    }
   },
   "source": [
    "### Посмотрим на медиану и на максимальное значение перелетов"
   ]
  },
  {
   "cell_type": "code",
   "execution_count": null,
   "outputs": [],
   "source": [
    "print(\"Mean:\",weights.mean() * len(flights))\n",
    "print(\"Max:\", weights.max() * len(flights))\n",
    "print(\"Min:\", weights.min() * len(flights))"
   ],
   "metadata": {
    "collapsed": false,
    "pycharm": {
     "name": "#%%\n"
    }
   }
  },
  {
   "cell_type": "markdown",
   "source": [
    "### Прогоним симуляцию 50 раз"
   ],
   "metadata": {
    "collapsed": false
   }
  },
  {
   "cell_type": "code",
   "execution_count": null,
   "outputs": [],
   "source": [
    "for_mean_time = []\n",
    "for i in notebook.tqdm(range(50)):\n",
    "    for_mean_time.append(spread(flights,airports))"
   ],
   "metadata": {
    "collapsed": false,
    "pycharm": {
     "name": "#%%\n"
    }
   }
  },
  {
   "cell_type": "code",
   "execution_count": null,
   "outputs": [],
   "source": [
    "def swap(dict_to_swap):\n",
    "    res = {}\n",
    "    for key, values in dict_to_swap.items():\n",
    "        for value in values:\n",
    "            res[value] = key\n",
    "    return res"
   ],
   "metadata": {
    "collapsed": false,
    "pycharm": {
     "name": "#%%\n"
    }
   }
  },
  {
   "cell_type": "code",
   "execution_count": null,
   "outputs": [],
   "source": [
    "def get_airport_index(airports, code):\n",
    "    return airports[airports['symbol'] == code].index[0]"
   ],
   "metadata": {
    "collapsed": false,
    "pycharm": {
     "name": "#%%\n"
    }
   }
  },
  {
   "cell_type": "markdown",
   "source": [
    "### Посчитаем среднее время заражения для каждого из городов."
   ],
   "metadata": {
    "collapsed": false
   }
  },
  {
   "cell_type": "code",
   "execution_count": null,
   "outputs": [],
   "source": [
    "airport_infection_times = {}\n",
    "for airport_code in airports['symbol']:\n",
    "    airport_infection_times[airport_code] = []\n",
    "\n",
    "for iteration in for_mean_time:\n",
    "    for airport, infection_time in swap(iteration).items():\n",
    "        airport_infection_times[airport].append(infection_time)\n",
    "\n",
    "for airport in airport_infection_times:\n",
    "    airport_infection_times[airport] = np.array(airport_infection_times[airport])"
   ],
   "metadata": {
    "collapsed": false,
    "pycharm": {
     "name": "#%%\n"
    }
   }
  },
  {
   "cell_type": "code",
   "execution_count": null,
   "outputs": [],
   "source": [
    "airport_mean = {get_airport_index(airports, airport) : times.mean() - flights['StartTime'].min() for airport, times in airport_infection_times.items()}"
   ],
   "metadata": {
    "collapsed": false,
    "pycharm": {
     "name": "#%%\n"
    }
   }
  },
  {
   "cell_type": "code",
   "execution_count": null,
   "outputs": [],
   "source": [
    "airport_mean"
   ],
   "metadata": {
    "collapsed": false,
    "pycharm": {
     "name": "#%%\n"
    }
   }
  },
  {
   "cell_type": "code",
   "execution_count": null,
   "outputs": [],
   "source": [
    "clustering = nx.clustering(G, weight=\"weight\")\n",
    "degree = nx.degree(G)\n",
    "centrality = nx.betweenness_centrality(G)"
   ],
   "metadata": {
    "collapsed": false,
    "pycharm": {
     "name": "#%%\n"
    }
   }
  },
  {
   "cell_type": "code",
   "execution_count": null,
   "outputs": [],
   "source": [
    "df = pd.DataFrame(index=airport_mean.keys(), data=airport_mean.values())\n",
    "df.rename(columns={0:\"Mean_time\"}, inplace=True)\n",
    "df['Clustering'] = dict(sorted(clustering.items())).values()\n",
    "df['Degree'] = dict(sorted(dict(degree).items())).values()\n",
    "df['Centrality'] = dict(sorted(centrality.items())).values()\n",
    "df['Mean_log'] = np.log(df['Mean_time'])\n",
    "df"
   ],
   "metadata": {
    "collapsed": false,
    "pycharm": {
     "name": "#%%\n"
    }
   }
  },
  {
   "cell_type": "code",
   "execution_count": null,
   "outputs": [],
   "source": [
    "sns.scatterplot(data = df, x='Clustering', y=\"Mean_time\")"
   ],
   "metadata": {
    "collapsed": false,
    "pycharm": {
     "name": "#%%\n"
    }
   }
  },
  {
   "cell_type": "code",
   "execution_count": null,
   "outputs": [],
   "source": [
    "sns.scatterplot(data = df, x='Degree', y=\"Mean_time\")"
   ],
   "metadata": {
    "collapsed": false,
    "pycharm": {
     "name": "#%%\n"
    }
   }
  },
  {
   "cell_type": "code",
   "execution_count": null,
   "outputs": [],
   "source": [
    "sns.scatterplot(data = df, x='Centrality', y=\"Mean_time\")"
   ],
   "metadata": {
    "collapsed": false,
    "pycharm": {
     "name": "#%%\n"
    }
   }
  },
  {
   "cell_type": "code",
   "execution_count": null,
   "outputs": [],
   "source": [
    "from scipy.stats import spearmanr\n",
    "\n",
    "coef_degree, p = spearmanr(df['Mean_time'], df['Degree'])\n",
    "coef_centr, p = spearmanr(df['Mean_time'], df['Centrality'])\n",
    "coef_clust, p = spearmanr(df['Mean_time'], df['Clustering'])"
   ],
   "metadata": {
    "collapsed": false,
    "pycharm": {
     "name": "#%%\n"
    }
   }
  },
  {
   "cell_type": "code",
   "execution_count": null,
   "outputs": [],
   "source": [
    "print(\"Clustering coef:\",coef_clust)\n",
    "print(\"Centrality coef:\",coef_centr)\n",
    "print(\"Degree coef:\",coef_degree)"
   ],
   "metadata": {
    "collapsed": false,
    "pycharm": {
     "name": "#%%\n"
    }
   }
  },
  {
   "cell_type": "code",
   "execution_count": null,
   "outputs": [],
   "source": [
    "ax = sns.heatmap(df.corr(method='spearman').abs(),cmap=\"Blues\")"
   ],
   "metadata": {
    "collapsed": false,
    "pycharm": {
     "name": "#%%\n"
    }
   }
  },
  {
   "cell_type": "markdown",
   "source": [
    "### Видно, что у степени узла коэффициент высокий по модулю (отрицательный потому что зависимость обратная). Вполне логично: чем больше связей у города, тем выше вероятность что в него прилетит зараженный самолет. \n",
    "### Так же, довольно высокий коэффициент у кластеризации, это можно объяснить тем, что, если у аэропорта не много соседей, но частое сообщение с какими-то другими аэропортами, то повышается вероятность, что из одного из соседних городов будет занесена инфекция."
   ],
   "metadata": {
    "collapsed": false
   }
  },
  {
   "cell_type": "code",
   "execution_count": 109,
   "metadata": {},
   "outputs": [
    {
     "name": "stdout",
     "output_type": "stream",
     "text": [
      "Mean: 86.29885057471265\n",
      "Max: 694.0\n",
      "Min: 1.0\n"
     ]
    }
   ],
   "source": [
    "### Видно, что у степени узла коэффициент высокий по модулю (отрицательный потому что зависимость обратная). Вполне логично: чем больше связей у города, тем выше вероятность что в него прилетит зараженный самолет. \n",
    "### Так же, довольно высокий коэффициент у кластеризации, это можно объяснить тем, что, если у аэропорта не много соседей, но частое сообщение с какими-то другими аэропортами, то повышается вероятность, что из одного из соседних городов будет занесена инфекция."
   ]
  },
  {
   "cell_type": "markdown",
   "metadata": {},
   "source": [
    "### Прогоним симуляцию 50 раз"
   ]
  },
  {
   "cell_type": "code",
   "execution_count": 110,
   "metadata": {},
   "outputs": [
    {
     "data": {
      "application/vnd.jupyter.widget-view+json": {
       "model_id": "c5af5153bef2444bac595d6117affebf",
       "version_major": 2,
       "version_minor": 0
      },
      "text/plain": [
       "HBox(children=(HTML(value=''), FloatProgress(value=0.0, max=50.0), HTML(value='')))"
      ]
     },
     "metadata": {},
     "output_type": "display_data"
    },
    {
     "name": "stdout",
     "output_type": "stream",
     "text": [
      "\n"
     ]
    }
   ],
   "source": [
    "for_mean_time = []\n",
    "for i in notebook.tqdm(range(50)):\n",
    "    for_mean_time.append(spread(flights,airports))"
   ]
  },
  {
   "cell_type": "code",
   "execution_count": 126,
   "metadata": {},
   "outputs": [],
   "source": [
    "def swap(dict_to_swap):\n",
    "    res = {}\n",
    "    for key, values in dict_to_swap.items():\n",
    "        for value in values:\n",
    "            res[value] = key\n",
    "    return res"
   ]
  },
  {
   "cell_type": "code",
   "execution_count": 144,
   "metadata": {},
   "outputs": [],
   "source": [
    "def get_airport_index(airports, code):\n",
    "    return airports[airports['symbol'] == code].index[0]"
   ]
  },
  {
   "cell_type": "markdown",
   "metadata": {},
   "source": [
    "### Посчитаем среднее время заражения для каждого из городов."
   ]
  },
  {
   "cell_type": "code",
   "execution_count": 127,
   "metadata": {},
   "outputs": [],
   "source": [
    "airport_infection_times = {}\n",
    "for airport_code in airports['symbol']:\n",
    "    airport_infection_times[airport_code] = []\n",
    "\n",
    "for iteration in for_mean_time:\n",
    "    for airport, infection_time in swap(iteration).items():\n",
    "        airport_infection_times[airport].append(infection_time)\n",
    "\n",
    "for airport in airport_infection_times:\n",
    "    airport_infection_times[airport] = np.array(airport_infection_times[airport])"
   ]
  },
  {
   "cell_type": "code",
   "execution_count": 154,
   "metadata": {},
   "outputs": [],
   "source": [
    "airport_mean = {get_airport_index(airports, airport) : times.mean() - flights['StartTime'].min() for airport, times in airport_infection_times.items()}"
   ]
  },
  {
   "cell_type": "code",
   "execution_count": 155,
   "metadata": {},
   "outputs": [
    {
     "data": {
      "text/plain": [
       "{0: 0.0,\n",
       " 1: 54273.59999990463,\n",
       " 2: 49560.0,\n",
       " 3: 49248.0,\n",
       " 4: 43477.200000047684,\n",
       " 5: 52369.200000047684,\n",
       " 6: 67974.0,\n",
       " 7: 52653.59999990463,\n",
       " 8: 57494.40000009537,\n",
       " 9: 49560.0,\n",
       " 10: 36627.59999990463,\n",
       " 11: 51144.0,\n",
       " 12: 52387.200000047684,\n",
       " 13: 61729.200000047684,\n",
       " 14: 44427.59999990463,\n",
       " 15: 62979.59999990463,\n",
       " 16: 65540.40000009537,\n",
       " 17: 49896.0,\n",
       " 18: 61520.40000009537,\n",
       " 19: 47317.200000047684,\n",
       " 20: 48992.40000009537,\n",
       " 21: 44529.59999990463,\n",
       " 22: 73494.0,\n",
       " 23: 72039.59999990463,\n",
       " 24: 55682.40000009537,\n",
       " 25: 65502.0,\n",
       " 26: 54074.40000009537,\n",
       " 27: 67830.0,\n",
       " 28: 50774.40000009537,\n",
       " 29: 47788.799999952316,\n",
       " 30: 62616.0,\n",
       " 31: 49006.799999952316,\n",
       " 32: 72387.59999990463,\n",
       " 33: 47324.40000009537,\n",
       " 34: 57957.59999990463,\n",
       " 35: 61572.0,\n",
       " 36: 61812.0,\n",
       " 37: 62071.200000047684,\n",
       " 38: 67516.79999995232,\n",
       " 39: 73940.40000009537,\n",
       " 40: 513337.241379261,\n",
       " 41: 101440.79999995232,\n",
       " 42: 151812.0,\n",
       " 43: 51000.0,\n",
       " 44: 53424.0,\n",
       " 45: 58227.59999990463,\n",
       " 46: 44611.200000047684,\n",
       " 47: 60758.40000009537,\n",
       " 48: 61914.0,\n",
       " 49: 57610.799999952316,\n",
       " 50: 62800.799999952316,\n",
       " 51: 101085.59999990463,\n",
       " 52: 164836.79999995232,\n",
       " 53: 67250.40000009537,\n",
       " 54: 184992.0,\n",
       " 55: 68232.0,\n",
       " 56: 63078.0,\n",
       " 57: 165768.0,\n",
       " 58: 168666.0,\n",
       " 59: 161325.59999990463,\n",
       " 60: 51690.0,\n",
       " 61: 59628.0,\n",
       " 62: 50688.0,\n",
       " 63: 46975.200000047684,\n",
       " 64: 43060.799999952316,\n",
       " 65: 50832.0,\n",
       " 66: 64729.200000047684,\n",
       " 67: 45292.799999952316,\n",
       " 68: 48030.0,\n",
       " 69: 47000.40000009537,\n",
       " 70: 49586.40000009537,\n",
       " 71: 50053.200000047684,\n",
       " 72: 64257.59999990463,\n",
       " 73: 57892.799999952316,\n",
       " 74: 40114.799999952316,\n",
       " 75: 63102.0,\n",
       " 76: 33606.0,\n",
       " 77: 56662.799999952316,\n",
       " 78: 54498.0,\n",
       " 79: 54549.59999990463,\n",
       " 80: 49725.59999990463,\n",
       " 81: 58528.799999952316,\n",
       " 82: 42402.0,\n",
       " 83: 41443.200000047684,\n",
       " 84: 58557.59999990463,\n",
       " 85: 58532.40000009537,\n",
       " 86: 47188.799999952316,\n",
       " 87: 61106.40000009537,\n",
       " 88: 66846.0,\n",
       " 89: 43140.0,\n",
       " 90: 66540.0,\n",
       " 91: 65786.40000009537,\n",
       " 92: 59188.799999952316,\n",
       " 93: 60891.59999990463,\n",
       " 94: 46227.59999990463,\n",
       " 95: 54692.40000009537,\n",
       " 96: 51151.200000047684,\n",
       " 97: 45638.40000009537,\n",
       " 98: 57992.40000009537,\n",
       " 99: 58218.0,\n",
       " 100: 59865.59999990463,\n",
       " 101: 50017.200000047684,\n",
       " 102: 69962.40000009537,\n",
       " 103: 45824.40000009537,\n",
       " 104: 48960.0,\n",
       " 105: 60064.799999952316,\n",
       " 106: 69105.59999990463,\n",
       " 107: 77325.59999990463,\n",
       " 108: 67210.79999995232,\n",
       " 109: 37268.40000009537,\n",
       " 110: 29648.400000095367,\n",
       " 111: 59378.40000009537,\n",
       " 112: 79495.20000004768,\n",
       " 113: 58215.59999990463,\n",
       " 114: 60198.0,\n",
       " 115: 53793.59999990463,\n",
       " 116: 52166.40000009537,\n",
       " 117: 59024.40000009537,\n",
       " 118: 51028.799999952316,\n",
       " 119: 62170.799999952316,\n",
       " 120: 39085.200000047684,\n",
       " 121: 58078.799999952316,\n",
       " 122: 58519.200000047684,\n",
       " 123: 52178.40000009537,\n",
       " 124: 56912.40000009537,\n",
       " 125: 50107.200000047684,\n",
       " 126: 56382.0,\n",
       " 127: 67922.40000009537,\n",
       " 128: 55128.0,\n",
       " 129: 59720.40000009537,\n",
       " 130: 62589.59999990463,\n",
       " 131: 82359.59999990463,\n",
       " 132: 40054.799999952316,\n",
       " 133: 49060.799999952316,\n",
       " 134: 53262.0,\n",
       " 135: 56338.799999952316,\n",
       " 136: 52344.0,\n",
       " 137: 47725.200000047684,\n",
       " 138: 50526.0,\n",
       " 139: 61507.200000047684,\n",
       " 140: 54687.59999990463,\n",
       " 141: 56997.59999990463,\n",
       " 142: 60933.59999990463,\n",
       " 143: 62162.40000009537,\n",
       " 144: 51157.200000047684,\n",
       " 145: 57908.40000009537,\n",
       " 146: 49956.0,\n",
       " 147: 52178.40000009537,\n",
       " 148: 64153.200000047684,\n",
       " 149: 68962.79999995232,\n",
       " 150: 59938.799999952316,\n",
       " 151: 54288.0,\n",
       " 152: 56084.40000009537,\n",
       " 153: 43990.799999952316,\n",
       " 154: 60712.799999952316,\n",
       " 155: 64676.40000009537,\n",
       " 156: 46848.0,\n",
       " 157: 59974.799999952316,\n",
       " 158: 41379.59999990463,\n",
       " 159: 95748.0,\n",
       " 160: 67032.0,\n",
       " 161: 87336.0,\n",
       " 162: 76921.20000004768,\n",
       " 163: 47257.200000047684,\n",
       " 164: 84877.20000004768,\n",
       " 165: 59755.200000047684,\n",
       " 166: 63758.40000009537,\n",
       " 167: 53817.59999990463,\n",
       " 168: 58327.200000047684,\n",
       " 169: 43098.0,\n",
       " 170: 62100.0,\n",
       " 171: 64977.59999990463,\n",
       " 172: 72573.59999990463,\n",
       " 173: 98013.59999990463,\n",
       " 174: 48177.59999990463,\n",
       " 175: 50658.0,\n",
       " 176: 58764.0,\n",
       " 177: 56113.200000047684,\n",
       " 178: 61086.0,\n",
       " 179: 71966.40000009537,\n",
       " 180: 77337.59999990463,\n",
       " 181: 60336.0,\n",
       " 182: 193988.40000009537,\n",
       " 183: 97363.20000004768,\n",
       " 184: 62389.200000047684,\n",
       " 185: 52584.0,\n",
       " 186: 70057.20000004768,\n",
       " 187: 80148.0,\n",
       " 188: 194818.79999995232,\n",
       " 189: 71096.40000009537,\n",
       " 190: 65316.0,\n",
       " 191: 52116.0,\n",
       " 192: 69870.0,\n",
       " 193: 101379.59999990463,\n",
       " 194: 74359.20000004768,\n",
       " 195: 62094.0,\n",
       " 196: 44010.0,\n",
       " 197: 71700.0,\n",
       " 198: 63537.59999990463,\n",
       " 199: 49621.200000047684,\n",
       " 200: 61326.0,\n",
       " 201: 46771.200000047684,\n",
       " 202: 60643.200000047684,\n",
       " 203: 64095.59999990463,\n",
       " 204: 69139.20000004768,\n",
       " 205: 50728.799999952316,\n",
       " 206: 53340.0,\n",
       " 207: 52315.200000047684,\n",
       " 208: 65304.0,\n",
       " 209: 52353.59999990463,\n",
       " 210: 67792.79999995232,\n",
       " 211: 69892.79999995232,\n",
       " 212: 64188.0,\n",
       " 213: 48507.59999990463,\n",
       " 214: 68444.40000009537,\n",
       " 215: 59240.40000009537,\n",
       " 216: 62706.0,\n",
       " 217: 54588.0,\n",
       " 218: 73077.59999990463,\n",
       " 219: 72585.59999990463,\n",
       " 220: 63175.200000047684,\n",
       " 221: 62797.200000047684,\n",
       " 222: 63280.799999952316,\n",
       " 223: 70105.20000004768,\n",
       " 224: 68559.59999990463,\n",
       " 225: 54216.0,\n",
       " 226: 65962.79999995232,\n",
       " 227: 72288.0,\n",
       " 228: 60372.0,\n",
       " 229: 48000.0,\n",
       " 230: 127193.61702132225,\n",
       " 231: 62858.40000009537,\n",
       " 232: 60009.59999990463,\n",
       " 233: 62326.799999952316,\n",
       " 234: 49808.40000009537,\n",
       " 235: 63402.0,\n",
       " 236: 65073.59999990463,\n",
       " 237: 53313.59999990463,\n",
       " 238: 40621.200000047684,\n",
       " 239: 90223.20000004768,\n",
       " 240: 163020.0,\n",
       " 241: 53098.799999952316,\n",
       " 242: 65907.59999990463,\n",
       " 243: 77322.0,\n",
       " 244: 85872.0,\n",
       " 245: 57868.799999952316,\n",
       " 246: 61333.200000047684,\n",
       " 247: 66592.79999995232,\n",
       " 248: 95724.0,\n",
       " 249: 79594.79999995232,\n",
       " 250: 93556.79999995232,\n",
       " 251: 122923.20000004768,\n",
       " 252: 175369.20000004768,\n",
       " 253: 64268.40000009537,\n",
       " 254: 210606.0,\n",
       " 255: 182419.20000004768,\n",
       " 256: 58215.59999990463,\n",
       " 257: 66681.59999990463,\n",
       " 258: 48620.40000009537,\n",
       " 259: 62767.200000047684,\n",
       " 260: 68367.59999990463,\n",
       " 261: 48224.40000009537,\n",
       " 262: 61618.799999952316,\n",
       " 263: 87928.79999995232,\n",
       " 264: 128942.40000009537,\n",
       " 265: 76792.79999995232,\n",
       " 266: 61844.40000009537,\n",
       " 267: 161587.20000004768,\n",
       " 268: 41196.0,\n",
       " 269: 82441.20000004768,\n",
       " 270: 79002.0,\n",
       " 271: 52594.799999952316,\n",
       " 272: 56274.0,\n",
       " 273: 51640.799999952316,\n",
       " 274: 51381.59999990463,\n",
       " 275: 43884.0,\n",
       " 276: 43864.799999952316,\n",
       " 277: 238034.40000009537,\n",
       " 278: 409119.59999990463}"
      ]
     },
     "execution_count": 155,
     "metadata": {},
     "output_type": "execute_result"
    }
   ],
   "source": [
    "airport_mean"
   ]
  },
  {
   "cell_type": "code",
   "execution_count": 220,
   "metadata": {},
   "outputs": [],
   "source": [
    "clustering = nx.clustering(G, weight=\"weight\")\n",
    "degree = nx.degree(G)\n",
    "centrality = nx.betweenness_centrality(G)"
   ]
  },
  {
   "cell_type": "code",
   "execution_count": 221,
   "metadata": {},
   "outputs": [
    {
     "data": {
      "text/html": [
       "<div>\n",
       "<style scoped>\n",
       "    .dataframe tbody tr th:only-of-type {\n",
       "        vertical-align: middle;\n",
       "    }\n",
       "\n",
       "    .dataframe tbody tr th {\n",
       "        vertical-align: top;\n",
       "    }\n",
       "\n",
       "    .dataframe thead th {\n",
       "        text-align: right;\n",
       "    }\n",
       "</style>\n",
       "<table border=\"1\" class=\"dataframe\">\n",
       "  <thead>\n",
       "    <tr style=\"text-align: right;\">\n",
       "      <th></th>\n",
       "      <th>Mean_time</th>\n",
       "      <th>Clustering</th>\n",
       "      <th>Degree</th>\n",
       "      <th>Centrality</th>\n",
       "      <th>Mean_log</th>\n",
       "    </tr>\n",
       "  </thead>\n",
       "  <tbody>\n",
       "    <tr>\n",
       "      <th>0</th>\n",
       "      <td>0.0</td>\n",
       "      <td>0.122561</td>\n",
       "      <td>5</td>\n",
       "      <td>0.000000</td>\n",
       "      <td>-inf</td>\n",
       "    </tr>\n",
       "    <tr>\n",
       "      <th>1</th>\n",
       "      <td>54273.6</td>\n",
       "      <td>0.047672</td>\n",
       "      <td>58</td>\n",
       "      <td>0.004675</td>\n",
       "      <td>10.901793</td>\n",
       "    </tr>\n",
       "    <tr>\n",
       "      <th>2</th>\n",
       "      <td>49560.0</td>\n",
       "      <td>0.063234</td>\n",
       "      <td>66</td>\n",
       "      <td>0.014125</td>\n",
       "      <td>10.810939</td>\n",
       "    </tr>\n",
       "    <tr>\n",
       "      <th>3</th>\n",
       "      <td>49248.0</td>\n",
       "      <td>0.032477</td>\n",
       "      <td>133</td>\n",
       "      <td>0.118203</td>\n",
       "      <td>10.804624</td>\n",
       "    </tr>\n",
       "    <tr>\n",
       "      <th>4</th>\n",
       "      <td>43477.2</td>\n",
       "      <td>0.026677</td>\n",
       "      <td>156</td>\n",
       "      <td>0.219629</td>\n",
       "      <td>10.679992</td>\n",
       "    </tr>\n",
       "    <tr>\n",
       "      <th>...</th>\n",
       "      <td>...</td>\n",
       "      <td>...</td>\n",
       "      <td>...</td>\n",
       "      <td>...</td>\n",
       "      <td>...</td>\n",
       "    </tr>\n",
       "    <tr>\n",
       "      <th>274</th>\n",
       "      <td>51381.6</td>\n",
       "      <td>0.000000</td>\n",
       "      <td>1</td>\n",
       "      <td>0.000000</td>\n",
       "      <td>10.847035</td>\n",
       "    </tr>\n",
       "    <tr>\n",
       "      <th>275</th>\n",
       "      <td>43884.0</td>\n",
       "      <td>0.000000</td>\n",
       "      <td>1</td>\n",
       "      <td>0.000000</td>\n",
       "      <td>10.689305</td>\n",
       "    </tr>\n",
       "    <tr>\n",
       "      <th>276</th>\n",
       "      <td>43864.8</td>\n",
       "      <td>0.000000</td>\n",
       "      <td>1</td>\n",
       "      <td>0.000000</td>\n",
       "      <td>10.688867</td>\n",
       "    </tr>\n",
       "    <tr>\n",
       "      <th>277</th>\n",
       "      <td>238034.4</td>\n",
       "      <td>0.000000</td>\n",
       "      <td>1</td>\n",
       "      <td>0.000000</td>\n",
       "      <td>12.380170</td>\n",
       "    </tr>\n",
       "    <tr>\n",
       "      <th>278</th>\n",
       "      <td>409119.6</td>\n",
       "      <td>0.000000</td>\n",
       "      <td>1</td>\n",
       "      <td>0.000000</td>\n",
       "      <td>12.921763</td>\n",
       "    </tr>\n",
       "  </tbody>\n",
       "</table>\n",
       "<p>279 rows × 5 columns</p>\n",
       "</div>"
      ],
      "text/plain": [
       "     Mean_time  Clustering  Degree  Centrality   Mean_log\n",
       "0          0.0    0.122561       5    0.000000       -inf\n",
       "1      54273.6    0.047672      58    0.004675  10.901793\n",
       "2      49560.0    0.063234      66    0.014125  10.810939\n",
       "3      49248.0    0.032477     133    0.118203  10.804624\n",
       "4      43477.2    0.026677     156    0.219629  10.679992\n",
       "..         ...         ...     ...         ...        ...\n",
       "274    51381.6    0.000000       1    0.000000  10.847035\n",
       "275    43884.0    0.000000       1    0.000000  10.689305\n",
       "276    43864.8    0.000000       1    0.000000  10.688867\n",
       "277   238034.4    0.000000       1    0.000000  12.380170\n",
       "278   409119.6    0.000000       1    0.000000  12.921763\n",
       "\n",
       "[279 rows x 5 columns]"
      ]
     },
     "execution_count": 221,
     "metadata": {},
     "output_type": "execute_result"
    }
   ],
   "source": [
    "df = pd.DataFrame(index=airport_mean.keys(), data=airport_mean.values())\n",
    "df.rename(columns={0:\"Mean_time\"}, inplace=True)\n",
    "df['Clustering'] = dict(sorted(clustering.items())).values()\n",
    "df['Degree'] = dict(sorted(dict(degree).items())).values()\n",
    "df['Centrality'] = dict(sorted(centrality.items())).values()\n",
    "df['Mean_log'] = np.log(df['Mean_time'])\n",
    "df"
   ]
  },
  {
   "cell_type": "code",
   "execution_count": 222,
   "metadata": {},
   "outputs": [
    {
     "data": {
      "text/plain": [
       "<AxesSubplot:xlabel='Clustering', ylabel='Mean_time'>"
      ]
     },
     "execution_count": 222,
     "metadata": {},
     "output_type": "execute_result"
    },
    {
     "data": {
      "image/png": "[encoded data removed]",
      "text/plain": [
       "<Figure size 432x288 with 1 Axes>"
      ]
     },
     "metadata": {},
     "output_type": "display_data"
    }
   ],
   "source": [
    "sns.scatterplot(data = df, x='Clustering', y=\"Mean_time\")"
   ]
  },
  {
   "cell_type": "code",
   "execution_count": 223,
   "metadata": {},
   "outputs": [
    {
     "data": {
      "text/plain": [
       "<AxesSubplot:xlabel='Degree', ylabel='Mean_time'>"
      ]
     },
     "execution_count": 223,
     "metadata": {},
     "output_type": "execute_result"
    },
    {
     "data": {
      "image/png": "[encoded data removed]",
      "text/plain": [
       "<Figure size 432x288 with 1 Axes>"
      ]
     },
     "metadata": {},
     "output_type": "display_data"
    }
   ],
   "source": [
    "sns.scatterplot(data = df, x='Degree', y=\"Mean_time\")"
   ]
  },
  {
   "cell_type": "code",
   "execution_count": 224,
   "metadata": {},
   "outputs": [
    {
     "data": {
      "text/plain": [
       "<AxesSubplot:xlabel='Centrality', ylabel='Mean_time'>"
      ]
     },
     "execution_count": 224,
     "metadata": {},
     "output_type": "execute_result"
    },
    {
     "data": {
      "image/png": "[encoded data removed]",
      "text/plain": [
       "<Figure size 432x288 with 1 Axes>"
      ]
     },
     "metadata": {},
     "output_type": "display_data"
    }
   ],
   "source": [
    "sns.scatterplot(data = df, x='Centrality', y=\"Mean_time\")"
   ]
  },
  {
   "cell_type": "code",
   "execution_count": 228,
   "metadata": {},
   "outputs": [],
   "source": [
    "from scipy.stats import spearmanr\n",
    "\n",
    "coef_degree, p = spearmanr(df['Mean_time'], df['Degree'])\n",
    "coef_centr, p = spearmanr(df['Mean_time'], df['Centrality'])\n",
    "coef_clust, p = spearmanr(df['Mean_time'], df['Clustering'])"
   ]
  },
  {
   "cell_type": "code",
   "execution_count": 229,
   "metadata": {},
   "outputs": [
    {
     "name": "stdout",
     "output_type": "stream",
     "text": [
      "Clustering coef: -0.31258899965889564\n",
      "Centrality coef: -0.2034386145061367\n",
      "Degree coef: -0.38537563203627845\n"
     ]
    }
   ],
   "source": [
    "print(\"Clustering coef:\",coef_clust)\n",
    "print(\"Centrality coef:\",coef_centr)\n",
    "print(\"Degree coef:\",coef_degree)"
   ]
  },
  {
   "cell_type": "code",
   "execution_count": 230,
   "metadata": {},
   "outputs": [
    {
     "data": {
      "image/png": "[encoded data removed]",
      "text/plain": [
       "<Figure size 432x288 with 2 Axes>"
      ]
     },
     "metadata": {},
     "output_type": "display_data"
    }
   ],
   "source": [
    "ax = sns.heatmap(df.corr(method='spearman').abs(),cmap=\"Blues\")"
   ]
  },
  {
   "cell_type": "markdown",
   "metadata": {},
   "source": [
    "### Видно, что у степени узла коэффициент высокий по модулю (отрицательный потому что зависимость обратная). Вполне логично: чем больше связей у города, тем выше вероятность что в него прилетит зараженный самолет. \n",
    "### Так же, довольно высокий коэффициент у кластеризации, это можно объяснить тем, что, если у аэропорта не много соседей, но частое сообщение с какими-то другими аэропортами, то повышается вероятность, что из одного из соседних городов будет занесена инфекция."
   ]
  }
 ],
 "metadata": {
  "kernelspec": {
   "display_name": "Python 3",
   "language": "python",
   "name": "python3"
  },
  "language_info": {
   "codemirror_mode": {
    "name": "ipython",
    "version": 3
   },
   "file_extension": ".py",
   "mimetype": "text/x-python",
   "name": "python",
   "nbconvert_exporter": "python",
   "pygments_lexer": "ipython3",
   "version": "3.8.6"
  },
  "pycharm": {
   "stem_cell": {
    "cell_type": "raw",
    "source": [],
    "metadata": {
     "collapsed": false
    }
   }
  }
 },
 "nbformat": 4,
 "nbformat_minor": 1
}