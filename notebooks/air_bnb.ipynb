{
 "cells": [
  {
   "cell_type": "markdown",
   "metadata": {},
   "source": [
    "# Предсказание цен в Airbnb\n",
    "Скриншоты карт можно посмотреть в папке \"plots/airbnb\"\n",
    "для просмотра карт нужно: pip3 install ipyleaflet\n"
   ]
  },
  {
   "cell_type": "code",
   "execution_count": 49,
   "metadata": {},
   "outputs": [],
   "source": [
    "from math import sqrt\n",
    "import pandas as pd\n",
    "import seaborn as sns\n",
    "from ipyleaflet import *\n",
    "import numpy as np\n",
    "from sklearn.model_selection import train_test_split\n",
    "from sklearn.linear_model import LinearRegression\n",
    "from sklearn.linear_model import Ridge\n",
    "from sklearn.linear_model import Lasso\n",
    "from sklearn.linear_model import ElasticNet\n",
    "from sklearn.pipeline import Pipeline\n",
    "from sklearn.preprocessing import MinMaxScaler\n",
    "from sklearn.preprocessing import StandardScaler\n",
    "from sklearn.preprocessing import RobustScaler\n",
    "from sklearn.linear_model import LogisticRegression\n",
    "from ipywidgets import HTML\n",
    "\n",
    "\n",
    "\n",
    "\n",
    "from sklearn import preprocessing\n",
    "from scipy.spatial import distance\n"
   ]
  },
  {
   "cell_type": "code",
   "execution_count": 2,
   "metadata": {},
   "outputs": [
    {
     "data": {
      "text/html": [
       "<div>\n",
       "<style scoped>\n",
       "    .dataframe tbody tr th:only-of-type {\n",
       "        vertical-align: middle;\n",
       "    }\n",
       "\n",
       "    .dataframe tbody tr th {\n",
       "        vertical-align: top;\n",
       "    }\n",
       "\n",
       "    .dataframe thead th {\n",
       "        text-align: right;\n",
       "    }\n",
       "</style>\n",
       "<table border=\"1\" class=\"dataframe\">\n",
       "  <thead>\n",
       "    <tr style=\"text-align: right;\">\n",
       "      <th></th>\n",
       "      <th>latitude</th>\n",
       "      <th>longitude</th>\n",
       "      <th>price</th>\n",
       "      <th>minimum_nights</th>\n",
       "      <th>number_of_reviews</th>\n",
       "      <th>reviews_per_month</th>\n",
       "      <th>calculated_host_listings_count</th>\n",
       "      <th>availability_365</th>\n",
       "    </tr>\n",
       "  </thead>\n",
       "  <tbody>\n",
       "    <tr>\n",
       "      <th>count</th>\n",
       "      <td>48895.000000</td>\n",
       "      <td>48895.000000</td>\n",
       "      <td>48895.000000</td>\n",
       "      <td>48895.000000</td>\n",
       "      <td>48895.000000</td>\n",
       "      <td>38843.000000</td>\n",
       "      <td>48895.000000</td>\n",
       "      <td>48895.000000</td>\n",
       "    </tr>\n",
       "    <tr>\n",
       "      <th>mean</th>\n",
       "      <td>40.728949</td>\n",
       "      <td>-73.952170</td>\n",
       "      <td>152.720687</td>\n",
       "      <td>7.029962</td>\n",
       "      <td>23.274466</td>\n",
       "      <td>1.373221</td>\n",
       "      <td>7.143982</td>\n",
       "      <td>112.781327</td>\n",
       "    </tr>\n",
       "    <tr>\n",
       "      <th>std</th>\n",
       "      <td>0.054530</td>\n",
       "      <td>0.046157</td>\n",
       "      <td>240.154170</td>\n",
       "      <td>20.510550</td>\n",
       "      <td>44.550582</td>\n",
       "      <td>1.680442</td>\n",
       "      <td>32.952519</td>\n",
       "      <td>131.622289</td>\n",
       "    </tr>\n",
       "    <tr>\n",
       "      <th>min</th>\n",
       "      <td>40.499790</td>\n",
       "      <td>-74.244420</td>\n",
       "      <td>0.000000</td>\n",
       "      <td>1.000000</td>\n",
       "      <td>0.000000</td>\n",
       "      <td>0.010000</td>\n",
       "      <td>1.000000</td>\n",
       "      <td>0.000000</td>\n",
       "    </tr>\n",
       "    <tr>\n",
       "      <th>5%</th>\n",
       "      <td>40.646114</td>\n",
       "      <td>-74.003880</td>\n",
       "      <td>40.000000</td>\n",
       "      <td>1.000000</td>\n",
       "      <td>0.000000</td>\n",
       "      <td>0.040000</td>\n",
       "      <td>1.000000</td>\n",
       "      <td>0.000000</td>\n",
       "    </tr>\n",
       "    <tr>\n",
       "      <th>50%</th>\n",
       "      <td>40.723070</td>\n",
       "      <td>-73.955680</td>\n",
       "      <td>106.000000</td>\n",
       "      <td>3.000000</td>\n",
       "      <td>5.000000</td>\n",
       "      <td>0.720000</td>\n",
       "      <td>1.000000</td>\n",
       "      <td>45.000000</td>\n",
       "    </tr>\n",
       "    <tr>\n",
       "      <th>95%</th>\n",
       "      <td>40.825643</td>\n",
       "      <td>-73.865771</td>\n",
       "      <td>355.000000</td>\n",
       "      <td>30.000000</td>\n",
       "      <td>114.000000</td>\n",
       "      <td>4.640000</td>\n",
       "      <td>15.000000</td>\n",
       "      <td>359.000000</td>\n",
       "    </tr>\n",
       "    <tr>\n",
       "      <th>max</th>\n",
       "      <td>40.913060</td>\n",
       "      <td>-73.712990</td>\n",
       "      <td>10000.000000</td>\n",
       "      <td>1250.000000</td>\n",
       "      <td>629.000000</td>\n",
       "      <td>58.500000</td>\n",
       "      <td>327.000000</td>\n",
       "      <td>365.000000</td>\n",
       "    </tr>\n",
       "  </tbody>\n",
       "</table>\n",
       "</div>"
      ],
      "text/plain": [
       "           latitude     longitude         price  minimum_nights  \\\n",
       "count  48895.000000  48895.000000  48895.000000    48895.000000   \n",
       "mean      40.728949    -73.952170    152.720687        7.029962   \n",
       "std        0.054530      0.046157    240.154170       20.510550   \n",
       "min       40.499790    -74.244420      0.000000        1.000000   \n",
       "5%        40.646114    -74.003880     40.000000        1.000000   \n",
       "50%       40.723070    -73.955680    106.000000        3.000000   \n",
       "95%       40.825643    -73.865771    355.000000       30.000000   \n",
       "max       40.913060    -73.712990  10000.000000     1250.000000   \n",
       "\n",
       "       number_of_reviews  reviews_per_month  calculated_host_listings_count  \\\n",
       "count       48895.000000       38843.000000                    48895.000000   \n",
       "mean           23.274466           1.373221                        7.143982   \n",
       "std            44.550582           1.680442                       32.952519   \n",
       "min             0.000000           0.010000                        1.000000   \n",
       "5%              0.000000           0.040000                        1.000000   \n",
       "50%             5.000000           0.720000                        1.000000   \n",
       "95%           114.000000           4.640000                       15.000000   \n",
       "max           629.000000          58.500000                      327.000000   \n",
       "\n",
       "       availability_365  \n",
       "count      48895.000000  \n",
       "mean         112.781327  \n",
       "std          131.622289  \n",
       "min            0.000000  \n",
       "5%             0.000000  \n",
       "50%           45.000000  \n",
       "95%          359.000000  \n",
       "max          365.000000  "
      ]
     },
     "execution_count": 2,
     "metadata": {},
     "output_type": "execute_result"
    }
   ],
   "source": [
    "data_file = \"../csv/airbnb/air_bnb.csv\"\n",
    "dataset = pd.read_csv(data_file)\n",
    "for feature in \"id, name, host_id, host_name, last_review\".split(\", \"):\n",
    "    dataset.drop(feature,inplace=True, axis=1)\n",
    "dataset.describe(percentiles=[0.05, 0.95])\n",
    "\n"
   ]
  },
  {
   "cell_type": "code",
   "execution_count": 3,
   "metadata": {},
   "outputs": [
    {
     "data": {
      "text/html": [
       "<div>\n",
       "<style scoped>\n",
       "    .dataframe tbody tr th:only-of-type {\n",
       "        vertical-align: middle;\n",
       "    }\n",
       "\n",
       "    .dataframe tbody tr th {\n",
       "        vertical-align: top;\n",
       "    }\n",
       "\n",
       "    .dataframe thead th {\n",
       "        text-align: right;\n",
       "    }\n",
       "</style>\n",
       "<table border=\"1\" class=\"dataframe\">\n",
       "  <thead>\n",
       "    <tr style=\"text-align: right;\">\n",
       "      <th></th>\n",
       "      <th>neighbourhood_group</th>\n",
       "      <th>neighbourhood</th>\n",
       "      <th>latitude</th>\n",
       "      <th>longitude</th>\n",
       "      <th>room_type</th>\n",
       "      <th>price</th>\n",
       "      <th>minimum_nights</th>\n",
       "      <th>number_of_reviews</th>\n",
       "      <th>reviews_per_month</th>\n",
       "      <th>calculated_host_listings_count</th>\n",
       "      <th>availability_365</th>\n",
       "    </tr>\n",
       "  </thead>\n",
       "  <tbody>\n",
       "    <tr>\n",
       "      <th>9151</th>\n",
       "      <td>Queens</td>\n",
       "      <td>Astoria</td>\n",
       "      <td>40.76810</td>\n",
       "      <td>-73.91651</td>\n",
       "      <td>Private room</td>\n",
       "      <td>10000</td>\n",
       "      <td>100</td>\n",
       "      <td>2</td>\n",
       "      <td>0.04</td>\n",
       "      <td>1</td>\n",
       "      <td>0</td>\n",
       "    </tr>\n",
       "    <tr>\n",
       "      <th>17692</th>\n",
       "      <td>Brooklyn</td>\n",
       "      <td>Greenpoint</td>\n",
       "      <td>40.73260</td>\n",
       "      <td>-73.95739</td>\n",
       "      <td>Entire home/apt</td>\n",
       "      <td>10000</td>\n",
       "      <td>5</td>\n",
       "      <td>5</td>\n",
       "      <td>0.16</td>\n",
       "      <td>1</td>\n",
       "      <td>0</td>\n",
       "    </tr>\n",
       "    <tr>\n",
       "      <th>29238</th>\n",
       "      <td>Manhattan</td>\n",
       "      <td>Upper West Side</td>\n",
       "      <td>40.77213</td>\n",
       "      <td>-73.98665</td>\n",
       "      <td>Entire home/apt</td>\n",
       "      <td>10000</td>\n",
       "      <td>30</td>\n",
       "      <td>0</td>\n",
       "      <td>NaN</td>\n",
       "      <td>1</td>\n",
       "      <td>83</td>\n",
       "    </tr>\n",
       "    <tr>\n",
       "      <th>40433</th>\n",
       "      <td>Manhattan</td>\n",
       "      <td>Lower East Side</td>\n",
       "      <td>40.71980</td>\n",
       "      <td>-73.98566</td>\n",
       "      <td>Entire home/apt</td>\n",
       "      <td>9999</td>\n",
       "      <td>30</td>\n",
       "      <td>0</td>\n",
       "      <td>NaN</td>\n",
       "      <td>1</td>\n",
       "      <td>365</td>\n",
       "    </tr>\n",
       "    <tr>\n",
       "      <th>12342</th>\n",
       "      <td>Manhattan</td>\n",
       "      <td>Lower East Side</td>\n",
       "      <td>40.71355</td>\n",
       "      <td>-73.98507</td>\n",
       "      <td>Private room</td>\n",
       "      <td>9999</td>\n",
       "      <td>99</td>\n",
       "      <td>6</td>\n",
       "      <td>0.14</td>\n",
       "      <td>1</td>\n",
       "      <td>83</td>\n",
       "    </tr>\n",
       "  </tbody>\n",
       "</table>\n",
       "</div>"
      ],
      "text/plain": [
       "      neighbourhood_group    neighbourhood  latitude  longitude  \\\n",
       "9151               Queens          Astoria  40.76810  -73.91651   \n",
       "17692            Brooklyn       Greenpoint  40.73260  -73.95739   \n",
       "29238           Manhattan  Upper West Side  40.77213  -73.98665   \n",
       "40433           Manhattan  Lower East Side  40.71980  -73.98566   \n",
       "12342           Manhattan  Lower East Side  40.71355  -73.98507   \n",
       "\n",
       "             room_type  price  minimum_nights  number_of_reviews  \\\n",
       "9151      Private room  10000             100                  2   \n",
       "17692  Entire home/apt  10000               5                  5   \n",
       "29238  Entire home/apt  10000              30                  0   \n",
       "40433  Entire home/apt   9999              30                  0   \n",
       "12342     Private room   9999              99                  6   \n",
       "\n",
       "       reviews_per_month  calculated_host_listings_count  availability_365  \n",
       "9151                0.04                               1                 0  \n",
       "17692               0.16                               1                 0  \n",
       "29238                NaN                               1                83  \n",
       "40433                NaN                               1               365  \n",
       "12342               0.14                               1                83  "
      ]
     },
     "execution_count": 3,
     "metadata": {},
     "output_type": "execute_result"
    }
   ],
   "source": [
    "dataset.sort_values(by='price',ascending=False).head()"
   ]
  },
  {
   "cell_type": "markdown",
   "metadata": {},
   "source": [
    "## Посмотрим в каких колонках есть пропуски"
   ]
  },
  {
   "cell_type": "code",
   "execution_count": 4,
   "metadata": {},
   "outputs": [
    {
     "data": {
      "text/plain": [
       "neighbourhood_group               False\n",
       "neighbourhood                     False\n",
       "latitude                          False\n",
       "longitude                         False\n",
       "room_type                         False\n",
       "price                             False\n",
       "minimum_nights                    False\n",
       "number_of_reviews                 False\n",
       "reviews_per_month                  True\n",
       "calculated_host_listings_count    False\n",
       "availability_365                  False\n",
       "dtype: bool"
      ]
     },
     "execution_count": 4,
     "metadata": {},
     "output_type": "execute_result"
    }
   ],
   "source": [
    "dataset.isna().any()"
   ]
  },
  {
   "cell_type": "markdown",
   "metadata": {},
   "source": [
    "## Заполним пропуски нулями"
   ]
  },
  {
   "cell_type": "code",
   "execution_count": 5,
   "metadata": {},
   "outputs": [],
   "source": [
    "dataset['reviews_per_month'].fillna(0,inplace=True)"
   ]
  },
  {
   "cell_type": "code",
   "execution_count": 6,
   "metadata": {},
   "outputs": [
    {
     "data": {
      "text/plain": [
       "neighbourhood_group               False\n",
       "neighbourhood                     False\n",
       "latitude                          False\n",
       "longitude                         False\n",
       "room_type                         False\n",
       "price                             False\n",
       "minimum_nights                    False\n",
       "number_of_reviews                 False\n",
       "reviews_per_month                 False\n",
       "calculated_host_listings_count    False\n",
       "availability_365                  False\n",
       "dtype: bool"
      ]
     },
     "execution_count": 6,
     "metadata": {},
     "output_type": "execute_result"
    }
   ],
   "source": [
    "dataset.isna().any()"
   ]
  },
  {
   "cell_type": "markdown",
   "metadata": {
    "pycharm": {
     "name": "#%% md\n"
    }
   },
   "source": [
    "## Посмотрим на распредление цен"
   ]
  },
  {
   "cell_type": "code",
   "execution_count": 7,
   "metadata": {
    "pycharm": {
     "name": "#%%\n"
    }
   },
   "outputs": [
    {
     "data": {
      "text/plain": [
       "<AxesSubplot:ylabel='Frequency'>"
      ]
     },
     "execution_count": 7,
     "metadata": {},
     "output_type": "execute_result"
    },
    {
     "data": {
      "image/png": "[encoded data removed]",
      "text/plain": [
       "<Figure size 432x288 with 1 Axes>"
      ]
     },
     "metadata": {
      "needs_background": "light"
     },
     "output_type": "display_data"
    }
   ],
   "source": [
    "dataset['price'].plot.hist()"
   ]
  },
  {
   "cell_type": "markdown",
   "metadata": {
    "pycharm": {
     "name": "#%% md\n"
    }
   },
   "source": [
    "## Видно, что у нас цены распределены не равномерно, попробуем удалить 5% самых дешевых и 5% самых дорогих "
   ]
  },
  {
   "cell_type": "code",
   "execution_count": 8,
   "metadata": {
    "pycharm": {
     "name": "#%%\n"
    }
   },
   "outputs": [
    {
     "data": {
      "text/plain": [
       "<AxesSubplot:ylabel='Frequency'>"
      ]
     },
     "execution_count": 8,
     "metadata": {},
     "output_type": "execute_result"
    },
    {
     "data": {
      "image/png": "[encoded data removed]",
      "text/plain": [
       "<Figure size 432x288 with 1 Axes>"
      ]
     },
     "metadata": {
      "needs_background": "light"
     },
     "output_type": "display_data"
    }
   ],
   "source": [
    "dataset.drop(dataset[dataset['price'] > 355.0].index, inplace=True)\n",
    "dataset.drop(dataset[dataset['price'] < 30.0].index, inplace=True)\n",
    "dataset['price'].plot.hist()"
   ]
  },
  {
   "cell_type": "code",
   "execution_count": 11,
   "metadata": {},
   "outputs": [
    {
     "data": {
      "text/html": [
       "<div>\n",
       "<style scoped>\n",
       "    .dataframe tbody tr th:only-of-type {\n",
       "        vertical-align: middle;\n",
       "    }\n",
       "\n",
       "    .dataframe tbody tr th {\n",
       "        vertical-align: top;\n",
       "    }\n",
       "\n",
       "    .dataframe thead th {\n",
       "        text-align: right;\n",
       "    }\n",
       "</style>\n",
       "<table border=\"1\" class=\"dataframe\">\n",
       "  <thead>\n",
       "    <tr style=\"text-align: right;\">\n",
       "      <th></th>\n",
       "      <th>latitude</th>\n",
       "      <th>longitude</th>\n",
       "      <th>price</th>\n",
       "      <th>minimum_nights</th>\n",
       "      <th>number_of_reviews</th>\n",
       "      <th>reviews_per_month</th>\n",
       "      <th>calculated_host_listings_count</th>\n",
       "      <th>availability_365</th>\n",
       "    </tr>\n",
       "  </thead>\n",
       "  <tbody>\n",
       "    <tr>\n",
       "      <th>count</th>\n",
       "      <td>46050.000000</td>\n",
       "      <td>46050.000000</td>\n",
       "      <td>46050.000000</td>\n",
       "      <td>46050.000000</td>\n",
       "      <td>46050.000000</td>\n",
       "      <td>46050.000000</td>\n",
       "      <td>46050.00000</td>\n",
       "      <td>46050.000000</td>\n",
       "    </tr>\n",
       "    <tr>\n",
       "      <th>mean</th>\n",
       "      <td>40.728674</td>\n",
       "      <td>-73.951207</td>\n",
       "      <td>123.451531</td>\n",
       "      <td>6.933920</td>\n",
       "      <td>23.887970</td>\n",
       "      <td>1.104862</td>\n",
       "      <td>6.70317</td>\n",
       "      <td>109.664017</td>\n",
       "    </tr>\n",
       "    <tr>\n",
       "      <th>std</th>\n",
       "      <td>0.054944</td>\n",
       "      <td>0.046207</td>\n",
       "      <td>71.698972</td>\n",
       "      <td>19.874165</td>\n",
       "      <td>45.271781</td>\n",
       "      <td>1.610611</td>\n",
       "      <td>31.24684</td>\n",
       "      <td>130.376280</td>\n",
       "    </tr>\n",
       "    <tr>\n",
       "      <th>min</th>\n",
       "      <td>40.499790</td>\n",
       "      <td>-74.244420</td>\n",
       "      <td>30.000000</td>\n",
       "      <td>1.000000</td>\n",
       "      <td>0.000000</td>\n",
       "      <td>0.000000</td>\n",
       "      <td>1.00000</td>\n",
       "      <td>0.000000</td>\n",
       "    </tr>\n",
       "    <tr>\n",
       "      <th>1%</th>\n",
       "      <td>40.596815</td>\n",
       "      <td>-74.027636</td>\n",
       "      <td>33.000000</td>\n",
       "      <td>1.000000</td>\n",
       "      <td>0.000000</td>\n",
       "      <td>0.000000</td>\n",
       "      <td>1.00000</td>\n",
       "      <td>0.000000</td>\n",
       "    </tr>\n",
       "    <tr>\n",
       "      <th>50%</th>\n",
       "      <td>40.722110</td>\n",
       "      <td>-73.954730</td>\n",
       "      <td>100.000000</td>\n",
       "      <td>2.000000</td>\n",
       "      <td>5.000000</td>\n",
       "      <td>0.380000</td>\n",
       "      <td>1.00000</td>\n",
       "      <td>40.000000</td>\n",
       "    </tr>\n",
       "    <tr>\n",
       "      <th>99.9%</th>\n",
       "      <td>40.893926</td>\n",
       "      <td>-73.731367</td>\n",
       "      <td>350.000000</td>\n",
       "      <td>300.000000</td>\n",
       "      <td>384.755000</td>\n",
       "      <td>11.169510</td>\n",
       "      <td>327.00000</td>\n",
       "      <td>365.000000</td>\n",
       "    </tr>\n",
       "    <tr>\n",
       "      <th>max</th>\n",
       "      <td>40.913060</td>\n",
       "      <td>-73.712990</td>\n",
       "      <td>355.000000</td>\n",
       "      <td>1250.000000</td>\n",
       "      <td>629.000000</td>\n",
       "      <td>58.500000</td>\n",
       "      <td>327.00000</td>\n",
       "      <td>365.000000</td>\n",
       "    </tr>\n",
       "  </tbody>\n",
       "</table>\n",
       "</div>"
      ],
      "text/plain": [
       "           latitude     longitude         price  minimum_nights  \\\n",
       "count  46050.000000  46050.000000  46050.000000    46050.000000   \n",
       "mean      40.728674    -73.951207    123.451531        6.933920   \n",
       "std        0.054944      0.046207     71.698972       19.874165   \n",
       "min       40.499790    -74.244420     30.000000        1.000000   \n",
       "1%        40.596815    -74.027636     33.000000        1.000000   \n",
       "50%       40.722110    -73.954730    100.000000        2.000000   \n",
       "99.9%     40.893926    -73.731367    350.000000      300.000000   \n",
       "max       40.913060    -73.712990    355.000000     1250.000000   \n",
       "\n",
       "       number_of_reviews  reviews_per_month  calculated_host_listings_count  \\\n",
       "count       46050.000000       46050.000000                     46050.00000   \n",
       "mean           23.887970           1.104862                         6.70317   \n",
       "std            45.271781           1.610611                        31.24684   \n",
       "min             0.000000           0.000000                         1.00000   \n",
       "1%              0.000000           0.000000                         1.00000   \n",
       "50%             5.000000           0.380000                         1.00000   \n",
       "99.9%         384.755000          11.169510                       327.00000   \n",
       "max           629.000000          58.500000                       327.00000   \n",
       "\n",
       "       availability_365  \n",
       "count      46050.000000  \n",
       "mean         109.664017  \n",
       "std          130.376280  \n",
       "min            0.000000  \n",
       "1%             0.000000  \n",
       "50%           40.000000  \n",
       "99.9%        365.000000  \n",
       "max          365.000000  "
      ]
     },
     "execution_count": 11,
     "metadata": {},
     "output_type": "execute_result"
    }
   ],
   "source": [
    "dataset.describe(percentiles=[0.999,0.01])"
   ]
  },
  {
   "cell_type": "markdown",
   "metadata": {},
   "source": [
    "##  Посмотрим где расположены самые дорогие аппартаменты"
   ]
  },
  {
   "cell_type": "code",
   "execution_count": 50,
   "metadata": {
    "pycharm": {
     "name": "#%%\n"
    }
   },
   "outputs": [
    {
     "data": {
      "application/vnd.jupyter.widget-view+json": {
       "model_id": "e93ec0171add4c3998727b7043ca2ee5",
       "version_major": 2,
       "version_minor": 0
      },
      "text/plain": [
       "Map(center=[40.7072, -73.9909], controls=(ZoomControl(options=['position', 'zoom_in_text', 'zoom_in_title', 'z…"
      ]
     },
     "metadata": {},
     "output_type": "display_data"
    }
   ],
   "source": [
    "a = Map(center=(40.7072,-73.9909), zoom = 10)\n",
    "mean_price = dataset['price'].mean()\n",
    "for index, row in dataset.iterrows():\n",
    "    if row['price'] >= 355:\n",
    "        message = HTML()\n",
    "        message.value = \"Longitude: {0}, latitude: {1}\".format(row['longitude'], row['latitude']) \n",
    "        marker = Marker(location=(row['latitude'], row['longitude']), draggable=False)\n",
    "        marker.popup = message\n",
    "        a.add_layer(marker)\n",
    "a"
   ]
  },
  {
   "cell_type": "markdown",
   "metadata": {
    "pycharm": {
     "name": "#%% md\n"
    }
   },
   "source": [
    "##  Посмотрим где расположены самые дешевые аппартаменты"
   ]
  },
  {
   "cell_type": "code",
   "execution_count": 14,
   "metadata": {
    "pycharm": {
     "name": "#%%\n"
    }
   },
   "outputs": [
    {
     "data": {
      "application/vnd.jupyter.widget-view+json": {
       "model_id": "176d125317294d27bf39667f4398b576",
       "version_major": 2,
       "version_minor": 0
      },
      "text/plain": [
       "Map(center=[40.7072, -73.9909], controls=(ZoomControl(options=['position', 'zoom_in_text', 'zoom_in_title', 'z…"
      ]
     },
     "metadata": {},
     "output_type": "display_data"
    }
   ],
   "source": [
    "a = Map(center=(40.7072,-73.9909), zoom = 10)\n",
    "mean_price = dataset['price'].mean()\n",
    "for index, row in dataset.iterrows():\n",
    "    if row['price'] <= 30 and row['price'] > 0:\n",
    "        a.add_layer(Marker(location=(row['latitude'], row['longitude']),draggable=False))\n",
    "a"
   ]
  },
  {
   "cell_type": "markdown",
   "metadata": {
    "pycharm": {
     "name": "#%% md\n"
    }
   },
   "source": [
    "##  Построим Heatmap"
   ]
  },
  {
   "cell_type": "code",
   "execution_count": 15,
   "metadata": {
    "pycharm": {
     "name": "#%%\n"
    }
   },
   "outputs": [
    {
     "data": {
      "application/vnd.jupyter.widget-view+json": {
       "model_id": "db7307c8cd5840c0bd4ca40074be35a2",
       "version_major": 2,
       "version_minor": 0
      },
      "text/plain": [
       "Map(center=[40.7072, -73.9909], controls=(ZoomControl(options=['position', 'zoom_in_text', 'zoom_in_title', 'z…"
      ]
     },
     "metadata": {},
     "output_type": "display_data"
    }
   ],
   "source": [
    "\n",
    "a = Map(center=(40.7072,-73.9909), zoom = 10)\n",
    "\n",
    "markers = []\n",
    "heat_coef = 1/100\n",
    "\n",
    "for index, row in dataset.iterrows():\n",
    "    markers.append([row['latitude'], row['longitude'], row['price'] * heat_coef]) \n",
    "heatmap = Heatmap(locations=markers, radius=10)\n",
    "a.add_layer(heatmap)\n",
    "a"
   ]
  },
  {
   "cell_type": "markdown",
   "metadata": {},
   "source": [
    "# А теперь посмотрим где расположены  5% самых дорогих аппартамментов"
   ]
  },
  {
   "cell_type": "code",
   "execution_count": 16,
   "metadata": {},
   "outputs": [
    {
     "data": {
      "text/html": [
       "<div>\n",
       "<style scoped>\n",
       "    .dataframe tbody tr th:only-of-type {\n",
       "        vertical-align: middle;\n",
       "    }\n",
       "\n",
       "    .dataframe tbody tr th {\n",
       "        vertical-align: top;\n",
       "    }\n",
       "\n",
       "    .dataframe thead th {\n",
       "        text-align: right;\n",
       "    }\n",
       "</style>\n",
       "<table border=\"1\" class=\"dataframe\">\n",
       "  <thead>\n",
       "    <tr style=\"text-align: right;\">\n",
       "      <th></th>\n",
       "      <th>latitude</th>\n",
       "      <th>longitude</th>\n",
       "      <th>price</th>\n",
       "      <th>minimum_nights</th>\n",
       "      <th>number_of_reviews</th>\n",
       "      <th>reviews_per_month</th>\n",
       "      <th>calculated_host_listings_count</th>\n",
       "      <th>availability_365</th>\n",
       "    </tr>\n",
       "  </thead>\n",
       "  <tbody>\n",
       "    <tr>\n",
       "      <th>count</th>\n",
       "      <td>46050.000000</td>\n",
       "      <td>46050.000000</td>\n",
       "      <td>46050.000000</td>\n",
       "      <td>46050.000000</td>\n",
       "      <td>46050.000000</td>\n",
       "      <td>46050.000000</td>\n",
       "      <td>46050.00000</td>\n",
       "      <td>46050.000000</td>\n",
       "    </tr>\n",
       "    <tr>\n",
       "      <th>mean</th>\n",
       "      <td>40.728674</td>\n",
       "      <td>-73.951207</td>\n",
       "      <td>123.451531</td>\n",
       "      <td>6.933920</td>\n",
       "      <td>23.887970</td>\n",
       "      <td>1.104862</td>\n",
       "      <td>6.70317</td>\n",
       "      <td>109.664017</td>\n",
       "    </tr>\n",
       "    <tr>\n",
       "      <th>std</th>\n",
       "      <td>0.054944</td>\n",
       "      <td>0.046207</td>\n",
       "      <td>71.698972</td>\n",
       "      <td>19.874165</td>\n",
       "      <td>45.271781</td>\n",
       "      <td>1.610611</td>\n",
       "      <td>31.24684</td>\n",
       "      <td>130.376280</td>\n",
       "    </tr>\n",
       "    <tr>\n",
       "      <th>min</th>\n",
       "      <td>40.499790</td>\n",
       "      <td>-74.244420</td>\n",
       "      <td>30.000000</td>\n",
       "      <td>1.000000</td>\n",
       "      <td>0.000000</td>\n",
       "      <td>0.000000</td>\n",
       "      <td>1.00000</td>\n",
       "      <td>0.000000</td>\n",
       "    </tr>\n",
       "    <tr>\n",
       "      <th>5%</th>\n",
       "      <td>40.645800</td>\n",
       "      <td>-74.003250</td>\n",
       "      <td>40.000000</td>\n",
       "      <td>1.000000</td>\n",
       "      <td>0.000000</td>\n",
       "      <td>0.000000</td>\n",
       "      <td>1.00000</td>\n",
       "      <td>0.000000</td>\n",
       "    </tr>\n",
       "    <tr>\n",
       "      <th>50%</th>\n",
       "      <td>40.722110</td>\n",
       "      <td>-73.954730</td>\n",
       "      <td>100.000000</td>\n",
       "      <td>2.000000</td>\n",
       "      <td>5.000000</td>\n",
       "      <td>0.380000</td>\n",
       "      <td>1.00000</td>\n",
       "      <td>40.000000</td>\n",
       "    </tr>\n",
       "    <tr>\n",
       "      <th>95%</th>\n",
       "      <td>40.826085</td>\n",
       "      <td>-73.864253</td>\n",
       "      <td>275.000000</td>\n",
       "      <td>30.000000</td>\n",
       "      <td>116.000000</td>\n",
       "      <td>4.350000</td>\n",
       "      <td>13.00000</td>\n",
       "      <td>358.000000</td>\n",
       "    </tr>\n",
       "    <tr>\n",
       "      <th>max</th>\n",
       "      <td>40.913060</td>\n",
       "      <td>-73.712990</td>\n",
       "      <td>355.000000</td>\n",
       "      <td>1250.000000</td>\n",
       "      <td>629.000000</td>\n",
       "      <td>58.500000</td>\n",
       "      <td>327.00000</td>\n",
       "      <td>365.000000</td>\n",
       "    </tr>\n",
       "  </tbody>\n",
       "</table>\n",
       "</div>"
      ],
      "text/plain": [
       "           latitude     longitude         price  minimum_nights  \\\n",
       "count  46050.000000  46050.000000  46050.000000    46050.000000   \n",
       "mean      40.728674    -73.951207    123.451531        6.933920   \n",
       "std        0.054944      0.046207     71.698972       19.874165   \n",
       "min       40.499790    -74.244420     30.000000        1.000000   \n",
       "5%        40.645800    -74.003250     40.000000        1.000000   \n",
       "50%       40.722110    -73.954730    100.000000        2.000000   \n",
       "95%       40.826085    -73.864253    275.000000       30.000000   \n",
       "max       40.913060    -73.712990    355.000000     1250.000000   \n",
       "\n",
       "       number_of_reviews  reviews_per_month  calculated_host_listings_count  \\\n",
       "count       46050.000000       46050.000000                     46050.00000   \n",
       "mean           23.887970           1.104862                         6.70317   \n",
       "std            45.271781           1.610611                        31.24684   \n",
       "min             0.000000           0.000000                         1.00000   \n",
       "5%              0.000000           0.000000                         1.00000   \n",
       "50%             5.000000           0.380000                         1.00000   \n",
       "95%           116.000000           4.350000                        13.00000   \n",
       "max           629.000000          58.500000                       327.00000   \n",
       "\n",
       "       availability_365  \n",
       "count      46050.000000  \n",
       "mean         109.664017  \n",
       "std          130.376280  \n",
       "min            0.000000  \n",
       "5%             0.000000  \n",
       "50%           40.000000  \n",
       "95%          358.000000  \n",
       "max          365.000000  "
      ]
     },
     "execution_count": 16,
     "metadata": {},
     "output_type": "execute_result"
    }
   ],
   "source": [
    "dataset.describe(percentiles=[0.95,0.05])"
   ]
  },
  {
   "cell_type": "code",
   "execution_count": 17,
   "metadata": {},
   "outputs": [
    {
     "data": {
      "application/vnd.jupyter.widget-view+json": {
       "model_id": "7c276d002cf145b2b10626cad7566fb1",
       "version_major": 2,
       "version_minor": 0
      },
      "text/plain": [
       "Map(center=[40.7072, -73.9909], controls=(ZoomControl(options=['position', 'zoom_in_text', 'zoom_in_title', 'z…"
      ]
     },
     "metadata": {},
     "output_type": "display_data"
    }
   ],
   "source": [
    "a = Map(center=(40.7072,-73.9909), zoom = 10)\n",
    "\n",
    "markers = []\n",
    "heat_coef = 1/100\n",
    "percentile_95_price = 275.0\n",
    "\n",
    "for index, row in dataset.iterrows():\n",
    "    if row['price'] < percentile_95_price:\n",
    "        continue\n",
    "    markers.append([row['latitude'], row['longitude'], row['price'] * heat_coef]) \n",
    "heatmap = Heatmap(locations=markers, radius=10)\n",
    "a.add_layer(heatmap)\n",
    "a"
   ]
  },
  {
   "cell_type": "markdown",
   "metadata": {},
   "source": [
    "## Видно, что скопление дорогих аппартаментов находится на юге Central Park и на западном берегу. Возьмем точку посередине и будет от нее отсчитывать расстояние."
   ]
  },
  {
   "cell_type": "code",
   "execution_count": 51,
   "metadata": {
    "pycharm": {
     "name": "#%%\n"
    }
   },
   "outputs": [],
   "source": [
    "cent_lon = 40.72205\n",
    "cent_lat = -74.00121\n",
    "cent = (cent_lon, cent_lat)\n",
    "dataset['relative_dist'] = np.array(list(distance.euclidean(cent, (row['longitude'],row['latitude'])) \n",
    "                                    for index, row in dataset.iterrows()))"
   ]
  },
  {
   "cell_type": "code",
   "execution_count": 52,
   "metadata": {},
   "outputs": [
    {
     "data": {
      "text/html": [
       "<div>\n",
       "<style scoped>\n",
       "    .dataframe tbody tr th:only-of-type {\n",
       "        vertical-align: middle;\n",
       "    }\n",
       "\n",
       "    .dataframe tbody tr th {\n",
       "        vertical-align: top;\n",
       "    }\n",
       "\n",
       "    .dataframe thead th {\n",
       "        text-align: right;\n",
       "    }\n",
       "</style>\n",
       "<table border=\"1\" class=\"dataframe\">\n",
       "  <thead>\n",
       "    <tr style=\"text-align: right;\">\n",
       "      <th></th>\n",
       "      <th>neighbourhood_group</th>\n",
       "      <th>neighbourhood</th>\n",
       "      <th>latitude</th>\n",
       "      <th>longitude</th>\n",
       "      <th>room_type</th>\n",
       "      <th>price</th>\n",
       "      <th>minimum_nights</th>\n",
       "      <th>number_of_reviews</th>\n",
       "      <th>reviews_per_month</th>\n",
       "      <th>calculated_host_listings_count</th>\n",
       "      <th>availability_365</th>\n",
       "      <th>relative_dist</th>\n",
       "    </tr>\n",
       "  </thead>\n",
       "  <tbody>\n",
       "    <tr>\n",
       "      <th>23011</th>\n",
       "      <td>Bronx</td>\n",
       "      <td>North Riverdale</td>\n",
       "      <td>40.91169</td>\n",
       "      <td>-73.90564</td>\n",
       "      <td>Private room</td>\n",
       "      <td>50</td>\n",
       "      <td>365</td>\n",
       "      <td>0</td>\n",
       "      <td>0.00</td>\n",
       "      <td>1</td>\n",
       "      <td>363</td>\n",
       "      <td>162.309833</td>\n",
       "    </tr>\n",
       "    <tr>\n",
       "      <th>25308</th>\n",
       "      <td>Bronx</td>\n",
       "      <td>North Riverdale</td>\n",
       "      <td>40.90734</td>\n",
       "      <td>-73.90137</td>\n",
       "      <td>Private room</td>\n",
       "      <td>119</td>\n",
       "      <td>3</td>\n",
       "      <td>0</td>\n",
       "      <td>0.00</td>\n",
       "      <td>1</td>\n",
       "      <td>0</td>\n",
       "      <td>162.303738</td>\n",
       "    </tr>\n",
       "    <tr>\n",
       "      <th>3349</th>\n",
       "      <td>Bronx</td>\n",
       "      <td>North Riverdale</td>\n",
       "      <td>40.90804</td>\n",
       "      <td>-73.90005</td>\n",
       "      <td>Private room</td>\n",
       "      <td>53</td>\n",
       "      <td>2</td>\n",
       "      <td>143</td>\n",
       "      <td>2.13</td>\n",
       "      <td>1</td>\n",
       "      <td>263</td>\n",
       "      <td>162.303301</td>\n",
       "    </tr>\n",
       "    <tr>\n",
       "      <th>48033</th>\n",
       "      <td>Bronx</td>\n",
       "      <td>North Riverdale</td>\n",
       "      <td>40.91167</td>\n",
       "      <td>-73.89566</td>\n",
       "      <td>Private room</td>\n",
       "      <td>40</td>\n",
       "      <td>1</td>\n",
       "      <td>1</td>\n",
       "      <td>1.00</td>\n",
       "      <td>3</td>\n",
       "      <td>174</td>\n",
       "      <td>162.302771</td>\n",
       "    </tr>\n",
       "    <tr>\n",
       "      <th>14715</th>\n",
       "      <td>Bronx</td>\n",
       "      <td>Riverdale</td>\n",
       "      <td>40.90080</td>\n",
       "      <td>-73.90639</td>\n",
       "      <td>Private room</td>\n",
       "      <td>49</td>\n",
       "      <td>6</td>\n",
       "      <td>2</td>\n",
       "      <td>0.05</td>\n",
       "      <td>1</td>\n",
       "      <td>340</td>\n",
       "      <td>162.302653</td>\n",
       "    </tr>\n",
       "  </tbody>\n",
       "</table>\n",
       "</div>"
      ],
      "text/plain": [
       "      neighbourhood_group    neighbourhood  latitude  longitude     room_type  \\\n",
       "23011               Bronx  North Riverdale  40.91169  -73.90564  Private room   \n",
       "25308               Bronx  North Riverdale  40.90734  -73.90137  Private room   \n",
       "3349                Bronx  North Riverdale  40.90804  -73.90005  Private room   \n",
       "48033               Bronx  North Riverdale  40.91167  -73.89566  Private room   \n",
       "14715               Bronx        Riverdale  40.90080  -73.90639  Private room   \n",
       "\n",
       "       price  minimum_nights  number_of_reviews  reviews_per_month  \\\n",
       "23011     50             365                  0               0.00   \n",
       "25308    119               3                  0               0.00   \n",
       "3349      53               2                143               2.13   \n",
       "48033     40               1                  1               1.00   \n",
       "14715     49               6                  2               0.05   \n",
       "\n",
       "       calculated_host_listings_count  availability_365  relative_dist  \n",
       "23011                               1               363     162.309833  \n",
       "25308                               1                 0     162.303738  \n",
       "3349                                1               263     162.303301  \n",
       "48033                               3               174     162.302771  \n",
       "14715                               1               340     162.302653  "
      ]
     },
     "execution_count": 52,
     "metadata": {},
     "output_type": "execute_result"
    }
   ],
   "source": [
    "dataset.sort_values(by='relative_dist',ascending=False).head()"
   ]
  },
  {
   "cell_type": "markdown",
   "metadata": {
    "pycharm": {
     "name": "#%% md\n"
    }
   },
   "source": [
    "## Попробуем построить простую линейную регрессию, преобразовав строковые значения в булевы(dummies)"
   ]
  },
  {
   "cell_type": "code",
   "execution_count": 53,
   "metadata": {
    "pycharm": {
     "name": "#%%\n"
    }
   },
   "outputs": [],
   "source": [
    "dummies = pd.get_dummies(data=dataset, columns=['room_type', 'neighbourhood', \n",
    "                                                'neighbourhood_group'])"
   ]
  },
  {
   "cell_type": "code",
   "execution_count": 54,
   "metadata": {},
   "outputs": [
    {
     "data": {
      "text/html": [
       "<div>\n",
       "<style scoped>\n",
       "    .dataframe tbody tr th:only-of-type {\n",
       "        vertical-align: middle;\n",
       "    }\n",
       "\n",
       "    .dataframe tbody tr th {\n",
       "        vertical-align: top;\n",
       "    }\n",
       "\n",
       "    .dataframe thead th {\n",
       "        text-align: right;\n",
       "    }\n",
       "</style>\n",
       "<table border=\"1\" class=\"dataframe\">\n",
       "  <thead>\n",
       "    <tr style=\"text-align: right;\">\n",
       "      <th></th>\n",
       "      <th>minimum_nights</th>\n",
       "      <th>number_of_reviews</th>\n",
       "      <th>reviews_per_month</th>\n",
       "      <th>calculated_host_listings_count</th>\n",
       "      <th>availability_365</th>\n",
       "      <th>relative_dist</th>\n",
       "      <th>room_type_Entire home/apt</th>\n",
       "      <th>room_type_Private room</th>\n",
       "      <th>room_type_Shared room</th>\n",
       "      <th>neighbourhood_Allerton</th>\n",
       "      <th>...</th>\n",
       "      <th>neighbourhood_Willowbrook</th>\n",
       "      <th>neighbourhood_Windsor Terrace</th>\n",
       "      <th>neighbourhood_Woodhaven</th>\n",
       "      <th>neighbourhood_Woodlawn</th>\n",
       "      <th>neighbourhood_Woodside</th>\n",
       "      <th>neighbourhood_group_Bronx</th>\n",
       "      <th>neighbourhood_group_Brooklyn</th>\n",
       "      <th>neighbourhood_group_Manhattan</th>\n",
       "      <th>neighbourhood_group_Queens</th>\n",
       "      <th>neighbourhood_group_Staten Island</th>\n",
       "    </tr>\n",
       "  </thead>\n",
       "  <tbody>\n",
       "    <tr>\n",
       "      <th>count</th>\n",
       "      <td>46050.000000</td>\n",
       "      <td>46050.000000</td>\n",
       "      <td>46050.000000</td>\n",
       "      <td>46050.00000</td>\n",
       "      <td>46050.000000</td>\n",
       "      <td>46050.000000</td>\n",
       "      <td>46050.000000</td>\n",
       "      <td>46050.000000</td>\n",
       "      <td>46050.000000</td>\n",
       "      <td>46050.000000</td>\n",
       "      <td>...</td>\n",
       "      <td>46050.000000</td>\n",
       "      <td>46050.000000</td>\n",
       "      <td>46050.000000</td>\n",
       "      <td>46050.000000</td>\n",
       "      <td>46050.000000</td>\n",
       "      <td>46050.000000</td>\n",
       "      <td>46050.000000</td>\n",
       "      <td>46050.000000</td>\n",
       "      <td>46050.000000</td>\n",
       "      <td>46050.000000</td>\n",
       "    </tr>\n",
       "    <tr>\n",
       "      <th>mean</th>\n",
       "      <td>6.933920</td>\n",
       "      <td>23.887970</td>\n",
       "      <td>1.104862</td>\n",
       "      <td>6.70317</td>\n",
       "      <td>109.664017</td>\n",
       "      <td>162.212530</td>\n",
       "      <td>0.504669</td>\n",
       "      <td>0.474376</td>\n",
       "      <td>0.020955</td>\n",
       "      <td>0.000890</td>\n",
       "      <td>...</td>\n",
       "      <td>0.000022</td>\n",
       "      <td>0.003301</td>\n",
       "      <td>0.001868</td>\n",
       "      <td>0.000217</td>\n",
       "      <td>0.004995</td>\n",
       "      <td>0.022085</td>\n",
       "      <td>0.420217</td>\n",
       "      <td>0.430445</td>\n",
       "      <td>0.119522</td>\n",
       "      <td>0.007731</td>\n",
       "    </tr>\n",
       "    <tr>\n",
       "      <th>std</th>\n",
       "      <td>19.874165</td>\n",
       "      <td>45.271781</td>\n",
       "      <td>1.610611</td>\n",
       "      <td>31.24684</td>\n",
       "      <td>130.376280</td>\n",
       "      <td>0.048559</td>\n",
       "      <td>0.499984</td>\n",
       "      <td>0.499348</td>\n",
       "      <td>0.143237</td>\n",
       "      <td>0.029826</td>\n",
       "      <td>...</td>\n",
       "      <td>0.004660</td>\n",
       "      <td>0.057358</td>\n",
       "      <td>0.043175</td>\n",
       "      <td>0.014735</td>\n",
       "      <td>0.070496</td>\n",
       "      <td>0.146961</td>\n",
       "      <td>0.493599</td>\n",
       "      <td>0.495144</td>\n",
       "      <td>0.324406</td>\n",
       "      <td>0.087585</td>\n",
       "    </tr>\n",
       "    <tr>\n",
       "      <th>min</th>\n",
       "      <td>1.000000</td>\n",
       "      <td>0.000000</td>\n",
       "      <td>0.000000</td>\n",
       "      <td>1.00000</td>\n",
       "      <td>0.000000</td>\n",
       "      <td>161.967426</td>\n",
       "      <td>0.000000</td>\n",
       "      <td>0.000000</td>\n",
       "      <td>0.000000</td>\n",
       "      <td>0.000000</td>\n",
       "      <td>...</td>\n",
       "      <td>0.000000</td>\n",
       "      <td>0.000000</td>\n",
       "      <td>0.000000</td>\n",
       "      <td>0.000000</td>\n",
       "      <td>0.000000</td>\n",
       "      <td>0.000000</td>\n",
       "      <td>0.000000</td>\n",
       "      <td>0.000000</td>\n",
       "      <td>0.000000</td>\n",
       "      <td>0.000000</td>\n",
       "    </tr>\n",
       "    <tr>\n",
       "      <th>25%</th>\n",
       "      <td>1.000000</td>\n",
       "      <td>1.000000</td>\n",
       "      <td>0.050000</td>\n",
       "      <td>1.00000</td>\n",
       "      <td>0.000000</td>\n",
       "      <td>162.179129</td>\n",
       "      <td>0.000000</td>\n",
       "      <td>0.000000</td>\n",
       "      <td>0.000000</td>\n",
       "      <td>0.000000</td>\n",
       "      <td>...</td>\n",
       "      <td>0.000000</td>\n",
       "      <td>0.000000</td>\n",
       "      <td>0.000000</td>\n",
       "      <td>0.000000</td>\n",
       "      <td>0.000000</td>\n",
       "      <td>0.000000</td>\n",
       "      <td>0.000000</td>\n",
       "      <td>0.000000</td>\n",
       "      <td>0.000000</td>\n",
       "      <td>0.000000</td>\n",
       "    </tr>\n",
       "    <tr>\n",
       "      <th>50%</th>\n",
       "      <td>2.000000</td>\n",
       "      <td>5.000000</td>\n",
       "      <td>0.380000</td>\n",
       "      <td>1.00000</td>\n",
       "      <td>40.000000</td>\n",
       "      <td>162.214744</td>\n",
       "      <td>1.000000</td>\n",
       "      <td>0.000000</td>\n",
       "      <td>0.000000</td>\n",
       "      <td>0.000000</td>\n",
       "      <td>...</td>\n",
       "      <td>0.000000</td>\n",
       "      <td>0.000000</td>\n",
       "      <td>0.000000</td>\n",
       "      <td>0.000000</td>\n",
       "      <td>0.000000</td>\n",
       "      <td>0.000000</td>\n",
       "      <td>0.000000</td>\n",
       "      <td>0.000000</td>\n",
       "      <td>0.000000</td>\n",
       "      <td>0.000000</td>\n",
       "    </tr>\n",
       "    <tr>\n",
       "      <th>75%</th>\n",
       "      <td>5.000000</td>\n",
       "      <td>24.000000</td>\n",
       "      <td>1.610000</td>\n",
       "      <td>2.00000</td>\n",
       "      <td>217.000000</td>\n",
       "      <td>162.250586</td>\n",
       "      <td>1.000000</td>\n",
       "      <td>1.000000</td>\n",
       "      <td>0.000000</td>\n",
       "      <td>0.000000</td>\n",
       "      <td>...</td>\n",
       "      <td>0.000000</td>\n",
       "      <td>0.000000</td>\n",
       "      <td>0.000000</td>\n",
       "      <td>0.000000</td>\n",
       "      <td>0.000000</td>\n",
       "      <td>0.000000</td>\n",
       "      <td>1.000000</td>\n",
       "      <td>1.000000</td>\n",
       "      <td>0.000000</td>\n",
       "      <td>0.000000</td>\n",
       "    </tr>\n",
       "    <tr>\n",
       "      <th>max</th>\n",
       "      <td>1250.000000</td>\n",
       "      <td>629.000000</td>\n",
       "      <td>58.500000</td>\n",
       "      <td>327.00000</td>\n",
       "      <td>365.000000</td>\n",
       "      <td>162.309833</td>\n",
       "      <td>1.000000</td>\n",
       "      <td>1.000000</td>\n",
       "      <td>1.000000</td>\n",
       "      <td>1.000000</td>\n",
       "      <td>...</td>\n",
       "      <td>1.000000</td>\n",
       "      <td>1.000000</td>\n",
       "      <td>1.000000</td>\n",
       "      <td>1.000000</td>\n",
       "      <td>1.000000</td>\n",
       "      <td>1.000000</td>\n",
       "      <td>1.000000</td>\n",
       "      <td>1.000000</td>\n",
       "      <td>1.000000</td>\n",
       "      <td>1.000000</td>\n",
       "    </tr>\n",
       "  </tbody>\n",
       "</table>\n",
       "<p>8 rows × 233 columns</p>\n",
       "</div>"
      ],
      "text/plain": [
       "       minimum_nights  number_of_reviews  reviews_per_month  \\\n",
       "count    46050.000000       46050.000000       46050.000000   \n",
       "mean         6.933920          23.887970           1.104862   \n",
       "std         19.874165          45.271781           1.610611   \n",
       "min          1.000000           0.000000           0.000000   \n",
       "25%          1.000000           1.000000           0.050000   \n",
       "50%          2.000000           5.000000           0.380000   \n",
       "75%          5.000000          24.000000           1.610000   \n",
       "max       1250.000000         629.000000          58.500000   \n",
       "\n",
       "       calculated_host_listings_count  availability_365  relative_dist  \\\n",
       "count                     46050.00000      46050.000000   46050.000000   \n",
       "mean                          6.70317        109.664017     162.212530   \n",
       "std                          31.24684        130.376280       0.048559   \n",
       "min                           1.00000          0.000000     161.967426   \n",
       "25%                           1.00000          0.000000     162.179129   \n",
       "50%                           1.00000         40.000000     162.214744   \n",
       "75%                           2.00000        217.000000     162.250586   \n",
       "max                         327.00000        365.000000     162.309833   \n",
       "\n",
       "       room_type_Entire home/apt  room_type_Private room  \\\n",
       "count               46050.000000            46050.000000   \n",
       "mean                    0.504669                0.474376   \n",
       "std                     0.499984                0.499348   \n",
       "min                     0.000000                0.000000   \n",
       "25%                     0.000000                0.000000   \n",
       "50%                     1.000000                0.000000   \n",
       "75%                     1.000000                1.000000   \n",
       "max                     1.000000                1.000000   \n",
       "\n",
       "       room_type_Shared room  neighbourhood_Allerton  ...  \\\n",
       "count           46050.000000            46050.000000  ...   \n",
       "mean                0.020955                0.000890  ...   \n",
       "std                 0.143237                0.029826  ...   \n",
       "min                 0.000000                0.000000  ...   \n",
       "25%                 0.000000                0.000000  ...   \n",
       "50%                 0.000000                0.000000  ...   \n",
       "75%                 0.000000                0.000000  ...   \n",
       "max                 1.000000                1.000000  ...   \n",
       "\n",
       "       neighbourhood_Willowbrook  neighbourhood_Windsor Terrace  \\\n",
       "count               46050.000000                   46050.000000   \n",
       "mean                    0.000022                       0.003301   \n",
       "std                     0.004660                       0.057358   \n",
       "min                     0.000000                       0.000000   \n",
       "25%                     0.000000                       0.000000   \n",
       "50%                     0.000000                       0.000000   \n",
       "75%                     0.000000                       0.000000   \n",
       "max                     1.000000                       1.000000   \n",
       "\n",
       "       neighbourhood_Woodhaven  neighbourhood_Woodlawn  \\\n",
       "count             46050.000000            46050.000000   \n",
       "mean                  0.001868                0.000217   \n",
       "std                   0.043175                0.014735   \n",
       "min                   0.000000                0.000000   \n",
       "25%                   0.000000                0.000000   \n",
       "50%                   0.000000                0.000000   \n",
       "75%                   0.000000                0.000000   \n",
       "max                   1.000000                1.000000   \n",
       "\n",
       "       neighbourhood_Woodside  neighbourhood_group_Bronx  \\\n",
       "count            46050.000000               46050.000000   \n",
       "mean                 0.004995                   0.022085   \n",
       "std                  0.070496                   0.146961   \n",
       "min                  0.000000                   0.000000   \n",
       "25%                  0.000000                   0.000000   \n",
       "50%                  0.000000                   0.000000   \n",
       "75%                  0.000000                   0.000000   \n",
       "max                  1.000000                   1.000000   \n",
       "\n",
       "       neighbourhood_group_Brooklyn  neighbourhood_group_Manhattan  \\\n",
       "count                  46050.000000                   46050.000000   \n",
       "mean                       0.420217                       0.430445   \n",
       "std                        0.493599                       0.495144   \n",
       "min                        0.000000                       0.000000   \n",
       "25%                        0.000000                       0.000000   \n",
       "50%                        0.000000                       0.000000   \n",
       "75%                        1.000000                       1.000000   \n",
       "max                        1.000000                       1.000000   \n",
       "\n",
       "       neighbourhood_group_Queens  neighbourhood_group_Staten Island  \n",
       "count                46050.000000                       46050.000000  \n",
       "mean                     0.119522                           0.007731  \n",
       "std                      0.324406                           0.087585  \n",
       "min                      0.000000                           0.000000  \n",
       "25%                      0.000000                           0.000000  \n",
       "50%                      0.000000                           0.000000  \n",
       "75%                      0.000000                           0.000000  \n",
       "max                      1.000000                           1.000000  \n",
       "\n",
       "[8 rows x 233 columns]"
      ]
     },
     "execution_count": 54,
     "metadata": {},
     "output_type": "execute_result"
    }
   ],
   "source": [
    "y = dummies['price']\n",
    "\n",
    "dummies.drop(columns=['price','latitude', 'longitude'], inplace=True)\n",
    "dummies.describe()"
   ]
  },
  {
   "cell_type": "code",
   "execution_count": 55,
   "metadata": {},
   "outputs": [
    {
     "name": "stdout",
     "output_type": "stream",
     "text": [
      "Линейная регрессия:\n",
      "\tПравильность на обучающем наборе: 0.51\n",
      "\tПравильность на тестовом наборе: -970322523245977403392.00\n",
      "Гребневая регрессия:\n",
      "\tПравильность на обучающем наборе: 0.51\n",
      "\tПравильность на тестовом наборе: 0.51\n",
      "Лассо:\n",
      "\tПравильность на обучающем наборе: 0.51\n",
      "\tПравильность на тестовом наборе: 0.51\n",
      "ElasticNet:\n",
      "\tПравильность на обучающем наборе: 0.50\n",
      "\tПравильность на тестовом наборе: 0.50\n"
     ]
    }
   ],
   "source": [
    "\n",
    "X_train, X_test, y_train, y_test = train_test_split(dummies, y, test_size=0.33,\n",
    "                                                        random_state=42)\n",
    "\n",
    "scaler = StandardScaler()\n",
    "reg = LinearRegression()\n",
    "pipe = Pipeline([('scaler', scaler), ('reg', reg)])\n",
    "pipe.fit(X_train, y_train)\n",
    "print(\"Линейная регрессия:\")\n",
    "print(\"\\tПравильность на обучающем наборе: {:.2f}\".format(pipe.score(X_train, y_train)))\n",
    "print(\"\\tПравильность на тестовом наборе: {:.2f}\".format(pipe.score(X_test, y_test)))\n",
    "\n",
    "reg = Ridge(alpha=0.01)\n",
    "pipe = Pipeline([('scaler', scaler), ('reg', reg)])\n",
    "pipe.fit(X_train, y_train)\n",
    "print(\"Гребневая регрессия:\")\n",
    "print(\"\\tПравильность на обучающем наборе: {:.2f}\".format(pipe.score(X_train, y_train)))\n",
    "print(\"\\tПравильность на тестовом наборе: {:.2f}\".format(pipe.score(X_test, y_test)))\n",
    "\n",
    "reg = Lasso(alpha=0.1)\n",
    "pipe = Pipeline([('scaler', scaler), ('reg', reg)])\n",
    "pipe.fit(X_train, y_train)\n",
    "print(\"Лассо:\")\n",
    "print(\"\\tПравильность на обучающем наборе: {:.2f}\".format(pipe.score(X_train, y_train)))\n",
    "print(\"\\tПравильность на тестовом наборе: {:.2f}\".format(pipe.score(X_test, y_test)))\n",
    "\n",
    "reg = ElasticNet(alpha=0.5)\n",
    "pipe = Pipeline([('scaler', scaler), ('reg', reg)])\n",
    "pipe.fit(X_train, y_train)\n",
    "print(\"ElasticNet:\")\n",
    "print(\"\\tПравильность на обучающем наборе: {:.2f}\".format(pipe.score(X_train, y_train)))\n",
    "print(\"\\tПравильность на тестовом наборе: {:.2f}\".format(pipe.score(X_test, y_test)))"
   ]
  },
  {
   "cell_type": "markdown",
   "metadata": {
    "pycharm": {
     "name": "#%% md\n"
    }
   },
   "source": [
    "## Уже не плохо, хотя линейная регрессия показывает плохой результат. Из Robust, Standart и MinMaxScaler лучший результат показывает Standart, хотя разница между ними в 2-4%. Ниже видно что искуственный признак особого вклада не вносит."
   ]
  },
  {
   "cell_type": "code",
   "execution_count": 56,
   "metadata": {},
   "outputs": [
    {
     "name": "stdout",
     "output_type": "stream",
     "text": [
      "Гребневая регрессия:\n",
      "\tПравильность на обучающем наборе: 0.51\n",
      "\tПравильность на тестовом наборе: 0.51\n"
     ]
    }
   ],
   "source": [
    "X_train, X_test, y_train, y_test = train_test_split(dummies.drop(columns='relative_dist'), y, test_size=0.3,\n",
    "                                                        random_state=42)\n",
    "\n",
    "reg = Ridge(alpha=0.01)\n",
    "pipe = Pipeline([('scaler', scaler), ('reg', reg)])\n",
    "pipe.fit(X_train, y_train)\n",
    "print(\"Гребневая регрессия:\")\n",
    "print(\"\\tПравильность на обучающем наборе: {:.2f}\".format(pipe.score(X_train, y_train)))\n",
    "print(\"\\tПравильность на тестовом наборе: {:.2f}\".format(pipe.score(X_test, y_test)))"
   ]
  }
 ],
 "metadata": {
  "kernelspec": {
   "display_name": "Python 3",
   "language": "python",
   "name": "python3"
  },
  "language_info": {
   "codemirror_mode": {
    "name": "ipython",
    "version": 3
   },
   "file_extension": ".py",
   "mimetype": "text/x-python",
   "name": "python",
   "nbconvert_exporter": "python",
   "pygments_lexer": "ipython3",
   "version": "3.7.7"
  },
  "pycharm": {
   "stem_cell": {
    "cell_type": "raw",
    "source": [],
    "metadata": {
     "collapsed": false
    }
   }
  }
 },
 "nbformat": 4,
 "nbformat_minor": 1
}